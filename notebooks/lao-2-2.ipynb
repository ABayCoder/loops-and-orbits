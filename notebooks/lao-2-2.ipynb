{
 "cells": [
  {
   "cell_type": "markdown",
   "metadata": {},
   "source": [
    "# Loops & Orbits &mdash; Week 2 &mdash; Day 2 &mdash; Jupyter Notebook\n",
    "\n",
    "## Home Run with Air Resistance\n",
    "\n",
    "The new thing in the initialization code below is the drag coefficient. **Execute the initialization cell.** All these variables will then be available to the rest of the code."
   ]
  },
  {
   "cell_type": "code",
   "execution_count": 1,
   "metadata": {},
   "outputs": [],
   "source": [
    "# Initial speed of hit ball in meters per second\n",
    "initial_speed = 60\n",
    "\n",
    "# Initial angle of hit ball in degrees from horizontal\n",
    "initial_angle = 30\n",
    "\n",
    "# Simulation time step in seconds\n",
    "delta_t = 0.1\n",
    "\n",
    "# Distance to fence in meters\n",
    "distance_to_fence = 100\n",
    "\n",
    "# density_of_air * area_of_ball * drag_coefficient / 2\n",
    "# just call the whole combo the drag coefficient\n",
    "drag_coefficient = 0.012\n",
    "\n",
    "# Below is the way g is usually defined -- the amount is 9.81 m/s^2 downwards.\n",
    "# People don't put a minus sign in g -- that's a convention and we are not changing it.\n",
    "# When you use this constant, you have to remember to put the minus sign in front of it\n",
    "# to take care of the fact that gravity pulls in the -y direction.\n",
    "g = 9.81\n",
    "\n",
    "# Simulation time step in seconds\n",
    "delta_t = 0.1\n",
    "\n",
    "# Even though you don't know how import statements work yet, trust\n",
    "# that the following import allows you to use the sin function,\n",
    "# the cos function, the atan2 function (arc tangent), the sqrt function,\n",
    "# and the constant pi anywhere you like in the rest of the code:\n",
    "from math import sin, cos, atan2, sqrt, pi\n",
    "\n",
    "# The following import statement makes the plotting library available to us. There is also a\n",
    "# statement to work around a known Jupyter bug: https://github.com/jupyter/notebook/issues/3670\n",
    "%matplotlib inline\n",
    "import matplotlib.pyplot as plt"
   ]
  },
  {
   "cell_type": "markdown",
   "metadata": {},
   "source": [
    "## Function to Get Components of a Vector\n",
    "\n",
    "In the last notebook, we had two functions that calculated horizontal velocity and vertical velocity.\n",
    "\n",
    "Let's combine those two functions into a single function and have both components returned as a tuple. One advantage is that this conversion from degrees to radians is only done once.\n",
    "\n",
    "**Below, fix up the formula for vertical_component.**"
   ]
  },
  {
   "cell_type": "code",
   "execution_count": 2,
   "metadata": {},
   "outputs": [
    {
     "data": {
      "text/plain": [
       "(51.96152422706632, 29.999999999999996)"
      ]
     },
     "execution_count": 2,
     "metadata": {},
     "output_type": "execute_result"
    }
   ],
   "source": [
    "# computes horizontal and vertical components of a vector and returns them as a tuple\n",
    "def vector_components(length, angle_from_horizontal):\n",
    "    # convert angle from degrees to radians\n",
    "    angle = angle_from_horizontal * pi / 180.0\n",
    "    # this line is good\n",
    "    horizontal_component = length * cos(angle)\n",
    "    # fix the next line\n",
    "    vertical_component = length * sin(angle)\n",
    "    # return both components as a tuple\n",
    "    return horizontal_component, vertical_component\n",
    "\n",
    "# Don't change the next two lines. They are going to tell us whether your vector_components implementation is right\n",
    "# is right. If it is, you'll get about 34.6 and 20.0 as the result of this cell.\n",
    "initial_horizontal_velocity, initial_vertical_velocity = vector_components(initial_speed, initial_angle)\n",
    "initial_horizontal_velocity, initial_vertical_velocity"
   ]
  },
  {
   "cell_type": "code",
   "execution_count": 3,
   "metadata": {},
   "outputs": [
    {
     "data": {
      "text/plain": [
       "(30.000000000000004, 0.9999999999999999)"
      ]
     },
     "execution_count": 3,
     "metadata": {},
     "output_type": "execute_result"
    }
   ],
   "source": [
    "# sometimes we need to go from components to angle and speed -- instead of from angle and speed to components\n",
    "\n",
    "# get angle from components using atan2 version of arctangent function\n",
    "def angle_from_velocity(horizontal_velocity, vertical_velocity):\n",
    "    # use the arctangent function\n",
    "    angle = atan2(vertical_velocity, horizontal_velocity)  # atan2 and why it is better than atan is documented https://docs.python.org/3/library/math.html\n",
    "    # we are working in degrees -- convert radians to degrees\n",
    "    angle_in_degrees = angle * 180.0 / pi\n",
    "    # return the result\n",
    "    return angle_in_degrees\n",
    "\n",
    "# get speed from components using Pythagorean theorem\n",
    "def speed_from_velocity(horizontal_velocity, vertical_velocity):\n",
    "    # pythagorean theorem\n",
    "    hypotenuse = sqrt(horizontal_velocity**2 + vertical_velocity**2)\n",
    "    # return the result\n",
    "    return hypotenuse\n",
    "\n",
    "# As a test, the following better give 30.0 degrees and 1.0 as the answer -- allowing for a little rounding error.\n",
    "angle_from_velocity(sqrt(3.0) / 2.0, 0.5), speed_from_velocity(sqrt(3.0)/2.0, 0.5)"
   ]
  },
  {
   "cell_type": "code",
   "execution_count": 4,
   "metadata": {},
   "outputs": [],
   "source": [
    "# now we have enough function definitions to easily write the drag function\n",
    "# the function will return a tuple consisting of the horizontal acceleration and the vertical acceleration\n",
    "\n",
    "def acceleration_with_drag(horizontal_velocity, vertical_velocity):\n",
    "    angle = angle_from_velocity(horizontal_velocity, vertical_velocity)\n",
    "    speed = speed_from_velocity(horizontal_velocity, vertical_velocity)\n",
    "    # \n",
    "    strength_of_drag = drag_coefficient * speed**2\n",
    "    horizontal_drag_component, vertical_drag_component = vector_components(strength_of_drag, angle + 180.0)\n",
    "    return horizontal_drag_component, vertical_drag_component - g\n"
   ]
  },
  {
   "cell_type": "markdown",
   "metadata": {},
   "source": [
    "## The While Loop That Does the Work\n",
    "\n",
    "**Make the following modifications to the code below:**\n",
    "\n",
    "* Change the test of whether the y position is greater than 0 to instead test whether the x position has gone past the fence\n",
    "* **Everywhere** there is some code for x (like ```x_velocities = [initial_x_velocity]```) add the corresponding code for y (in that case, you need to add ```y_velocities = [initial_y_velocity]```)"
   ]
  },
  {
   "cell_type": "code",
   "execution_count": 5,
   "metadata": {},
   "outputs": [],
   "source": [
    "# Initialize the x and y velocities\n",
    "x_velocities = [initial_horizontal_velocity]\n",
    "y_velocities = [initial_vertical_velocity]\n",
    "# Initialize the x and y positions\n",
    "x_positions = [0.0]\n",
    "y_positions = [1.0]\n",
    "# Initialize the times\n",
    "times = [0.0]\n",
    "\n",
    "# We want to go until the ball is over the fence. It seems our code often runs\n",
    "# without terminating. Add an extra test to stop it from going more than 100 times.\n",
    "# This is the first time you have seen the logical and operator!\n",
    "while x_positions[-1] < distance_to_fence and len(times) < 100:\n",
    "    #\n",
    "    # get all the before values\n",
    "    #\n",
    "    # velocities\n",
    "    before_x_velocity = x_velocities[-1]\n",
    "    before_y_velocity = y_velocities[-1]\n",
    "    # positions\n",
    "    before_x_position = x_positions[-1]\n",
    "    before_y_position = y_positions[-1]\n",
    "    # time\n",
    "    before_time = times[-1]\n",
    "    #\n",
    "    # calculate the after values\n",
    "    #\n",
    "    # use our new acceleration_with_drag function to get the accelerations\n",
    "    x_acceleration, y_acceleration = acceleration_with_drag(before_x_velocity, before_y_velocity)\n",
    "    #\n",
    "    # bog-standard Euler update code -- but now in two dimensions\n",
    "    #\n",
    "    # update the x and y velocities\n",
    "    after_x_velocity = before_x_velocity + delta_t * x_acceleration\n",
    "    after_y_velocity = before_y_velocity + delta_t * y_acceleration\n",
    "    # update the x and y positions\n",
    "    after_x_position = before_x_position + delta_t * before_x_velocity\n",
    "    after_y_position = before_y_position + delta_t * before_y_velocity\n",
    "    # update time\n",
    "    after_time = before_time + delta_t\n",
    "    #\n",
    "    # append all the after values to their lists\n",
    "    #\n",
    "    x_velocities.append(after_x_velocity)\n",
    "    y_velocities.append(after_y_velocity)\n",
    "    x_positions.append(after_x_position)\n",
    "    y_positions.append(after_y_position)\n",
    "    times.append(after_time)\n"
   ]
  },
  {
   "cell_type": "markdown",
   "metadata": {},
   "source": [
    "## Make a Y-Position vs. X-Position Graph\n",
    "\n",
    "**Above you have graphs for both x-vs-t and y-vs-t. For the thrird and final graph, do y-vs-x.**"
   ]
  },
  {
   "cell_type": "code",
   "execution_count": 8,
   "metadata": {},
   "outputs": [
    {
     "data": {
      "image/png": "[encoded data removed]",
      "text/plain": [
       "<Figure size 936x216 with 1 Axes>"
      ]
     },
     "metadata": {
      "needs_background": "light"
     },
     "output_type": "display_data"
    }
   ],
   "source": [
    "plt.figure(figsize=(13, 3))\n",
    "\n",
    "plt.scatter(x_positions, y_positions)\n",
    "\n",
    "plt.xlabel(\"Horizontal position (m)\")\n",
    "plt.ylabel(\"Vertical position (m)\")\n",
    "\n",
    "plt.show()"
   ]
  },
  {
   "cell_type": "code",
   "execution_count": 10,
   "metadata": {},
   "outputs": [
    {
     "data": {
      "image/png": "[encoded data removed]",
      "text/plain": [
       "<Figure size 936x216 with 1 Axes>"
      ]
     },
     "metadata": {
      "needs_background": "light"
     },
     "output_type": "display_data"
    }
   ],
   "source": [
    "plt.figure(figsize=(13, 3))\n",
    "\n",
    "plt.scatter(times, x_velocities)\n",
    "\n",
    "plt.xlabel(\"Time (s)\")\n",
    "plt.ylabel(\"Horizontal velocities (m/s)\")\n",
    "plt.ylim(0, 60)\n",
    "\n",
    "plt.show()"
   ]
  },
  {
   "cell_type": "code",
   "execution_count": 18,
   "metadata": {},
   "outputs": [
    {
     "data": {
      "image/png": "[encoded data removed]",
      "text/plain": [
       "<Figure size 936x216 with 1 Axes>"
      ]
     },
     "metadata": {
      "needs_background": "light"
     },
     "output_type": "display_data"
    }
   ],
   "source": [
    "plt.figure(figsize=(13, 3))\n",
    "\n",
    "plt.scatter(times, y_velocities)\n",
    "\n",
    "plt.xlabel(\"Time (s)\")\n",
    "plt.ylabel(\"Vertical velocities (m/s)\")\n",
    "plt.ylim(-35, 35)\n",
    "plt.axhline()\n",
    "\n",
    "plt.show()"
   ]
  },
  {
   "cell_type": "markdown",
   "metadata": {},
   "source": [
    "## Conclusion\n",
    "\n",
    "We are letting the computer do so much work, it is easy to not fully appreciate what has been plotted.\n",
    "\n",
    "Make sure your second and third graphs are correct:\n",
    "\n",
    "* The maximum height in the second graph is about 22 meters. The maximum time is about 3 seconds.\n",
    "* The maximum height in the third graph is still 22 meters. The maximum horizontal position should be when the ball cleaers the outfield fence &mdash; just over 100 meters.\n",
    "\n",
    "and then study the differences between all three graphs.\n",
    "\n",
    "Why do the second and third graphs look superficially similar? Check the horizontal axis. If everything has gone properly, the second graph finishes at about 3 seconds. The third graph finishes when the ball clears the outfield fence, which is 100 meters."
   ]
  },
  {
   "cell_type": "code",
   "execution_count": null,
   "metadata": {},
   "outputs": [],
   "source": []
  }
 ],
 "metadata": {
  "kernelspec": {
   "display_name": "Python 3",
   "language": "python",
   "name": "python3"
  },
  "language_info": {
   "codemirror_mode": {
    "name": "ipython",
    "version": 3
   },
   "file_extension": ".py",
   "mimetype": "text/x-python",
   "name": "python",
   "nbconvert_exporter": "python",
   "pygments_lexer": "ipython3",
   "version": "3.7.4"
  }
 },
 "nbformat": 4,
 "nbformat_minor": 2
}
