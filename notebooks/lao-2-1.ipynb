{
 "cells": [
  {
   "cell_type": "markdown",
   "metadata": {},
   "source": [
    "# Loops & Orbits &mdash; Week 2 &mdash; Day 1 &mdash; Jupyter Notebook"
   ]
  },
  {
   "cell_type": "markdown",
   "metadata": {},
   "source": [
    "## Knocking the Ball out of the Park\n",
    "\n",
    "## THIS IS A WORK IN PROGRESS &mdash; PLEASE DO NOT START ON IT"
   ]
  },
  {
   "cell_type": "code",
   "execution_count": 1,
   "metadata": {},
   "outputs": [],
   "source": [
    "# Initial speed of hit ball in meters per second\n",
    "initial_speed = 50\n",
    "\n",
    "# Initial angle of hit ball in degrees from horizontal\n",
    "initial_angle = 35\n",
    "\n",
    "# Air resistance factor\n",
    "# Adjust so ball travels 400 feet\n",
    "\n",
    "# Simulation time step in seconds\n",
    "delta_t = 0.1\n",
    "\n",
    "# Distance to fence in meters\n",
    "distance_to_fence = 110\n",
    "\n",
    "# Initial speed of hit ball\n",
    "initial_speed = 50\n",
    "\n",
    "# Initial angle of hit ball in degrees from horizontal\n",
    "initial_angle = 35\n",
    "\n",
    "# x-acceleration -- there is no x acceleration (until we put in wind resistance, which slows the motion)\n",
    "x_acceleration = 0.0\n",
    "\n",
    "# y-accleration -- the y acceleration is due to gravity -- the amount is 9.81 m/s^2 downwards\n",
    "y_acceleration = -9.81\n",
    "\n",
    "# Air resistance factor\n",
    "# Adjust so ball travels 400 feet\n",
    "\n",
    "# Simulation time step in seconds\n",
    "delta_t = 0.1"
   ]
  },
  {
   "cell_type": "code",
   "execution_count": 2,
   "metadata": {},
   "outputs": [
    {
     "data": {
      "text/plain": [
       "(40.95760221444959, 28.678821817552304)"
      ]
     },
     "execution_count": 2,
     "metadata": {},
     "output_type": "execute_result"
    }
   ],
   "source": [
    "# You don't know how import statements work yet.\n",
    "# Trust that the following allows you to use the sin function,\n",
    "# the cos function, and the constant pi in your code:\n",
    "from math import sin, cos, pi\n",
    "\n",
    "# You should check that your function returns 0 when angle is 90 degrees\n",
    "def horizontal_velocity(speed, angle_from_horizontal):\n",
    "    # convert angle from degrees to radians\n",
    "    angle = angle_from_horizontal * 2 * pi / 360\n",
    "    return speed * cos(angle)\n",
    "    \n",
    "# You should check that your function returns 0.0 when angle is 90 degrees\n",
    "def vertical_velocity(speed, angle_from_horizontal):\n",
    "    # convert angle from degrees to radians\n",
    "    angle = angle_from_horizontal * 2 * pi / 360\n",
    "    return speed * sin(angle)\n",
    "\n",
    "initial_x_velocity = horizontal_velocity(initial_speed, initial_angle)\n",
    "\n",
    "initial_y_velocity = vertical_velocity(initial_speed, initial_angle)\n",
    "\n",
    "initial_x_velocity, initial_y_velocity"
   ]
  },
  {
   "cell_type": "markdown",
   "metadata": {},
   "source": [
    "## The While Loop That Does the Work\n"
   ]
  },
  {
   "cell_type": "code",
   "execution_count": 3,
   "metadata": {},
   "outputs": [
    {
     "data": {
      "text/plain": [
       "([0.0,\n",
       "  4.095760221444959,\n",
       "  8.191520442889917,\n",
       "  12.287280664334876,\n",
       "  16.383040885779835,\n",
       "  20.478801107224793,\n",
       "  24.574561328669752,\n",
       "  28.67032155011471,\n",
       "  32.76608177155967,\n",
       "  36.86184199300463,\n",
       "  40.957602214449594,\n",
       "  45.053362435894556,\n",
       "  49.14912265733952,\n",
       "  53.24488287878448,\n",
       "  57.34064310022944,\n",
       "  61.436403321674405,\n",
       "  65.53216354311937,\n",
       "  69.62792376456433,\n",
       "  73.72368398600929,\n",
       "  77.81944420745425,\n",
       "  81.91520442889922,\n",
       "  86.01096465034418,\n",
       "  90.10672487178914,\n",
       "  94.2024850932341,\n",
       "  98.29824531467906,\n",
       "  102.39400553612403,\n",
       "  106.48976575756899,\n",
       "  110.58552597901395,\n",
       "  114.68128620045891,\n",
       "  118.77704642190388,\n",
       "  122.87280664334884,\n",
       "  126.9685668647938,\n",
       "  131.06432708623876,\n",
       "  135.1600873076837,\n",
       "  139.25584752912866,\n",
       "  143.3516077505736,\n",
       "  147.44736797201855,\n",
       "  151.5431281934635,\n",
       "  155.63888841490845,\n",
       "  159.7346486363534,\n",
       "  163.83040885779835,\n",
       "  167.9261690792433,\n",
       "  172.02192930068824,\n",
       "  176.1176895221332,\n",
       "  180.21344974357814,\n",
       "  184.3092099650231,\n",
       "  188.40497018646803,\n",
       "  192.50073040791298,\n",
       "  196.59649062935793,\n",
       "  200.69225085080288,\n",
       "  204.78801107224783,\n",
       "  208.88377129369277,\n",
       "  212.97953151513772,\n",
       "  217.07529173658267,\n",
       "  221.17105195802762,\n",
       "  225.26681217947257,\n",
       "  229.36257240091751,\n",
       "  233.45833262236246,\n",
       "  237.5540928438074,\n",
       "  241.64985306525236,\n",
       "  245.7456132866973],\n",
       " [1.0,\n",
       "  3.8678821817552307,\n",
       "  6.637664363510462,\n",
       "  9.309346545265692,\n",
       "  11.882928727020921,\n",
       "  14.35841090877615,\n",
       "  16.73579309053138,\n",
       "  19.01507527228661,\n",
       "  21.196257454041838,\n",
       "  23.27933963579707,\n",
       "  25.264321817552297,\n",
       "  27.151203999307526,\n",
       "  28.939986181062753,\n",
       "  30.630668362817982,\n",
       "  32.22325054457321,\n",
       "  33.71773272632844,\n",
       "  35.11411490808367,\n",
       "  36.4123970898389,\n",
       "  37.61257927159413,\n",
       "  38.71466145334936,\n",
       "  39.718643635104584,\n",
       "  40.624525816859816,\n",
       "  41.432307998615045,\n",
       "  42.14199018037027,\n",
       "  42.7535723621255,\n",
       "  43.26705454388073,\n",
       "  43.68243672563596,\n",
       "  43.99971890739119,\n",
       "  44.21890108914642,\n",
       "  44.33998327090165,\n",
       "  44.36296545265688,\n",
       "  44.28784763441211,\n",
       "  44.11462981616734,\n",
       "  43.84331199792256,\n",
       "  43.47389417967779,\n",
       "  43.00637636143302,\n",
       "  42.440758543188245,\n",
       "  41.777040724943475,\n",
       "  41.0152229066987,\n",
       "  40.15530508845393,\n",
       "  39.19728727020916,\n",
       "  38.14116945196439,\n",
       "  36.98695163371961,\n",
       "  35.734633815474844,\n",
       "  34.38421599723007,\n",
       "  32.9356981789853,\n",
       "  31.389080360740525,\n",
       "  29.744362542495754,\n",
       "  28.001544724250984,\n",
       "  26.16062690600621,\n",
       "  24.22160908776144,\n",
       "  22.184491269516666,\n",
       "  20.049273451271894,\n",
       "  17.815955633027123,\n",
       "  15.48453781478235,\n",
       "  13.055019996537577,\n",
       "  10.527402178292805,\n",
       "  7.901684360048032,\n",
       "  5.177866541803258,\n",
       "  2.3559487235584844,\n",
       "  -0.5640690946862894],\n",
       " [0.0,\n",
       "  0.1,\n",
       "  0.2,\n",
       "  0.30000000000000004,\n",
       "  0.4,\n",
       "  0.5,\n",
       "  0.6,\n",
       "  0.7,\n",
       "  0.7999999999999999,\n",
       "  0.8999999999999999,\n",
       "  0.9999999999999999,\n",
       "  1.0999999999999999,\n",
       "  1.2,\n",
       "  1.3,\n",
       "  1.4000000000000001,\n",
       "  1.5000000000000002,\n",
       "  1.6000000000000003,\n",
       "  1.7000000000000004,\n",
       "  1.8000000000000005,\n",
       "  1.9000000000000006,\n",
       "  2.0000000000000004,\n",
       "  2.1000000000000005,\n",
       "  2.2000000000000006,\n",
       "  2.3000000000000007,\n",
       "  2.400000000000001,\n",
       "  2.500000000000001,\n",
       "  2.600000000000001,\n",
       "  2.700000000000001,\n",
       "  2.800000000000001,\n",
       "  2.9000000000000012,\n",
       "  3.0000000000000013,\n",
       "  3.1000000000000014,\n",
       "  3.2000000000000015,\n",
       "  3.3000000000000016,\n",
       "  3.4000000000000017,\n",
       "  3.5000000000000018,\n",
       "  3.600000000000002,\n",
       "  3.700000000000002,\n",
       "  3.800000000000002,\n",
       "  3.900000000000002,\n",
       "  4.000000000000002,\n",
       "  4.100000000000001,\n",
       "  4.200000000000001,\n",
       "  4.300000000000001,\n",
       "  4.4,\n",
       "  4.5,\n",
       "  4.6,\n",
       "  4.699999999999999,\n",
       "  4.799999999999999,\n",
       "  4.899999999999999,\n",
       "  4.999999999999998,\n",
       "  5.099999999999998,\n",
       "  5.1999999999999975,\n",
       "  5.299999999999997,\n",
       "  5.399999999999997,\n",
       "  5.4999999999999964,\n",
       "  5.599999999999996,\n",
       "  5.699999999999996,\n",
       "  5.799999999999995,\n",
       "  5.899999999999995,\n",
       "  5.999999999999995])"
      ]
     },
     "execution_count": 3,
     "metadata": {},
     "output_type": "execute_result"
    }
   ],
   "source": [
    "# Initialize the velocities\n",
    "x_velocities = [initial_x_velocity]\n",
    "y_velocities = [initial_y_velocity]\n",
    "\n",
    "# Initialize the positions -- put point of the ball hitting the bat at 0.0, 1.0\n",
    "x_positions = [0.0]\n",
    "y_positions = [1.0]\n",
    "\n",
    "# Initialize the times -- simulation start when batter hits ball\n",
    "times = [0.0]\n",
    "\n",
    "# We go until the ball hits the ground\n",
    "while y_positions[-1] > 0:\n",
    "    #\n",
    "    # get all the before values -- they are the ones at the end of the lists\n",
    "    #\n",
    "    # velocities\n",
    "    before_x_velocity = x_velocities[-1]\n",
    "    before_y_velocity = y_velocities[-1]\n",
    "    # positions\n",
    "    before_x_position = x_positions[-1]\n",
    "    before_y_position = y_positions[-1]\n",
    "    # time\n",
    "    before_time = times[-1]\n",
    "    #\n",
    "    # calculate the after values\n",
    "    #\n",
    "    # x and y velocities are updated with accelerations\n",
    "    after_x_velocity = before_x_velocity + delta_t * x_acceleration\n",
    "    after_y_velocity = before_y_velocity + delta_t * y_acceleration\n",
    "    # x and y positions are updated with velocities\n",
    "    after_x_position = before_x_position + delta_t * before_x_velocity\n",
    "    after_y_position = before_y_position + delta_t * before_y_velocity\n",
    "    # update time\n",
    "    after_time = before_time + delta_t\n",
    "    #\n",
    "    # append all the after values to their lists\n",
    "    #\n",
    "    x_velocities.append(after_x_velocity)\n",
    "    y_velocities.append(after_y_velocity)\n",
    "    x_positions.append(after_x_position)\n",
    "    y_positions.append(after_y_position)\n",
    "    times.append(after_time)\n",
    "    \n",
    "x_positions, y_positions, times"
   ]
  },
  {
   "cell_type": "markdown",
   "metadata": {},
   "source": [
    "## Make a Position vs. Time Graph\n",
    "\n",
    "**I have noticed that the following code cell often needs to be executed twice in order to show.**"
   ]
  },
  {
   "cell_type": "code",
   "execution_count": 5,
   "metadata": {},
   "outputs": [
    {
     "data": {
      "image/png": "[encoded data removed]",
      "text/plain": [
       "<Figure size 864x432 with 1 Axes>"
      ]
     },
     "metadata": {
      "needs_background": "light"
     },
     "output_type": "display_data"
    },
    {
     "data": {
      "text/plain": [
       "\"BAD NEWS: If you have done everything right, the oscillation grows -- which it definitely didn't do in the video.\""
      ]
     },
     "execution_count": 5,
     "metadata": {},
     "output_type": "execute_result"
    }
   ],
   "source": [
    "%matplotlib inline\n",
    "# The previous line works around a known Jupyter bug: https://github.com/jupyter/notebook/issues/3670\n",
    "import matplotlib.pyplot as plt\n",
    "\n",
    "plt.figure(figsize=(12, 6))\n",
    "\n",
    "plt.scatter(times, x_positions)\n",
    "\n",
    "plt.xlabel(\"Time (s)\")\n",
    "plt.ylabel(\"Horizontal position (m)\")\n",
    "\n",
    "plt.show()"
   ]
  },
  {
   "cell_type": "code",
   "execution_count": 6,
   "metadata": {},
   "outputs": [
    {
     "data": {
      "image/png": "[encoded data removed]",
      "text/plain": [
       "<Figure size 864x432 with 1 Axes>"
      ]
     },
     "metadata": {
      "needs_background": "light"
     },
     "output_type": "display_data"
    }
   ],
   "source": [
    "%matplotlib inline\n",
    "# The previous line works around a known Jupyter bug: https://github.com/jupyter/notebook/issues/3670\n",
    "import matplotlib.pyplot as plt\n",
    "\n",
    "plt.figure(figsize=(12, 6))\n",
    "\n",
    "plt.scatter(times, y_positions)\n",
    "\n",
    "plt.xlabel(\"Time (s)\")\n",
    "plt.ylabel(\"Vertical position (m)\")\n",
    "\n",
    "plt.show()"
   ]
  },
  {
   "cell_type": "code",
   "execution_count": 7,
   "metadata": {},
   "outputs": [
    {
     "data": {
      "image/png": "[encoded data removed]",
      "text/plain": [
       "<Figure size 864x432 with 1 Axes>"
      ]
     },
     "metadata": {
      "needs_background": "light"
     },
     "output_type": "display_data"
    }
   ],
   "source": [
    "%matplotlib inline\n",
    "# The previous line works around a known Jupyter bug: https://github.com/jupyter/notebook/issues/3670\n",
    "import matplotlib.pyplot as plt\n",
    "\n",
    "plt.figure(figsize=(12, 6))\n",
    "\n",
    "plt.scatter(x_positions, y_positions)\n",
    "\n",
    "plt.xlabel(\"Horizontal position (m)\")\n",
    "plt.ylabel(\"Vertical position (m)\")\n",
    "\n",
    "plt.show()"
   ]
  },
  {
   "cell_type": "markdown",
   "metadata": {},
   "source": [
    "## The Euler Method vs. the Euler-Cromer Method vs. the Midpoint Method\n",
    "\n",
    "You may have been bothered that we use before_velocity when we update the position:\n",
    "\n",
    "```\n",
    "after_position = before_position + delta_t * before_velocity\n",
    "```\n",
    "\n",
    "This is a choice. There are other possibilities. This choice is called the Euler Method.\n",
    "\n",
    "How about using after_velocity instead:\n",
    "\n",
    "```\n",
    "after_position = before_position + delta_t * after_velocity\n",
    "```\n",
    "\n",
    "This choice is called the [Euler-Cromer Method](http://liceocuneo.it/oddenino/wp-content/uploads/sites/2/Alan-Cromer-Stable-solutions-using-the-Euler-Approximation-American-Journal-of-Physics-49-455-1981.pdf) and it was published in 1981.\n",
    "\n",
    "How about being \"democratic\" about it and using:\n",
    "\n",
    "```\n",
    "after_position = before_position + delta_t * (after_velocity + before_velocity) / 2\n",
    "\n",
    "```\n",
    "\n",
    "The democratic choice is called the Midpoint Method.\n",
    "\n",
    "It happens that the Euler-Cromer method works darned well for the air glider on a spring.\n",
    "\n",
    "**Finish today by doing the following:**\n",
    "\n",
    "* Change time_steps to 550 to give 5.5 seconds of simulation &mdash; in the video that was how long 13 oscillation cycles took.\n",
    "* Let's triple the amplitude to 0.033! Will that affect the number of oscillations?\n",
    "* Be sure to re-execute the initialization code cell or the preceding two changes will have no effect.\n",
    "* Change the for loop to use the Euler-Cromer Method. Don't over-think this. If you understand the discussion above you'll see that it is a one-word change. Once you've done it, re-execute the for-loop code cell.\n",
    "* Execute the plot cell code below. How many complete oscillation cycles do you count?\n",
    "* Read the conclusion. Have Ben or me check your results and ask any questions you have.\n",
    "* We will have a question for you having to do with the k_over_m parameter."
   ]
  },
  {
   "cell_type": "markdown",
   "metadata": {},
   "source": [
    "## Re-Make the Position vs. Time Graph"
   ]
  },
  {
   "cell_type": "code",
   "execution_count": null,
   "metadata": {},
   "outputs": [],
   "source": [
    "plt.figure(figsize=(12, 6))\n",
    "\n",
    "plt.scatter(times, positions)\n",
    "\n",
    "plt.xlabel(\"Time (s)\")\n",
    "plt.ylabel(\"Position (m)\")\n",
    "\n",
    "plt.show()\n",
    "\n",
    "\"GOOD NEWS: The Euler-Cromer method works well for the air-cart-on-a-spring problem.\""
   ]
  },
  {
   "cell_type": "markdown",
   "metadata": {},
   "source": [
    "## Conclusion\n",
    "\n",
    "Compare with the [the video](https://youtu.be/gvPNrdfNo9g?t=14). Savor the success.\n",
    "\n",
    "Error can get out of control with numerical simulation even in very simple problems. A lot of what we will be doing is implementing strategies to reduce error.\n",
    "\n",
    "Sadly, although the Euler-Cromer method worked perfectly for this problem, there are two issues:\n",
    "\n",
    "* We don't have any theory yet as to why it worked better than the Euler method.\n",
    "* On many problems the Euler-Cromer method does not work better &mdash; we will be introducing something called Runge-Kutta next week.\n",
    "\n",
    "While we are developing the theory next week, we will also be trying other problems &mdash; including two-dimensional problems."
   ]
  }
 ],
 "metadata": {
  "kernelspec": {
   "display_name": "Python 3",
   "language": "python",
   "name": "python3"
  },
  "language_info": {
   "codemirror_mode": {
    "name": "ipython",
    "version": 3
   },
   "file_extension": ".py",
   "mimetype": "text/x-python",
   "name": "python",
   "nbconvert_exporter": "python",
   "pygments_lexer": "ipython3",
   "version": "3.7.4"
  }
 },
 "nbformat": 4,
 "nbformat_minor": 2
}
