{
 "cells": [
  {
   "cell_type": "markdown",
   "metadata": {},
   "source": [
    "# Loops & Orbits &mdash; Week 1 &mdash; Day 1 &mdash; Jupyter Notebook\n",
    "\n",
    "You will be doing most of your coding in Jupyter. Jupyter allows you to write, document, and execute Python code all in a single environment.\n",
    "\n",
    "## Documentation is Written in Markdown\n",
    "\n",
    "What you reading right now is documentation not code. Documentation is written in Markdown. There are multiple versions of Markdown with slight differences. We are using [GitHub-flavored Markdown](https://guides.github.com/features/mastering-markdown/). It can be handy to print out page 1 of the [GitHub-flavored Markwdown cheatsheet (PDF)](https://guides.github.com/pdfs/markdown-cheatsheet-online.pdf) and put it over your desk. For starters, memorize how to get:\n",
    "\n",
    "* headings\n",
    "* sub-headings\n",
    "* bulleted lists\n",
    "* hyperlinks\n",
    "\n",
    "Double-click on this text. You can see what it looks like as raw Markdown and you can make edits to it.\n",
    "\n",
    "Notice that the bullets have turned into asterisks, and the heading line at the top begins with a pound-sign (also called the octothorpe, the number symbol, or the hash symbol &mdash; hence the expression, hashtag). The sub-heading begins with two pound signs.\n",
    "\n",
    "Computer science is laced with endless puns. Markdown is a pun. The idea was that the various markup languages (for marking up documents with title fonts and bulleted lists, etc.), especially HTML, which stands for Hypertext Markup Language had gotten grossly complex.\n",
    "\n",
    "Hit Shift-Enter to make it pretty again. Go back and forth a few times, by double-clicking and hitting Shift-Enter.\n",
    "\n",
    "## Python Building Blocks &mdash; Statements, Expressions, Variables, and Types\n",
    "\n",
    "Valid Python is a sequence of statements. Each statement has to be valid for the Python to be valid.\n",
    "\n",
    "Statements can be extremely complex. The simplest statement is just an expression all by itself. An expression has a value.\n",
    "\n",
    "The following are simple examples of expressions:"
   ]
  },
  {
   "cell_type": "code",
   "execution_count": null,
   "metadata": {},
   "outputs": [],
   "source": [
    "2 + 2"
   ]
  },
  {
   "cell_type": "code",
   "execution_count": null,
   "metadata": {},
   "outputs": [],
   "source": [
    "15 - 13"
   ]
  },
  {
   "cell_type": "code",
   "execution_count": null,
   "metadata": {},
   "outputs": [],
   "source": [
    "2 * 2"
   ]
  },
  {
   "cell_type": "code",
   "execution_count": null,
   "metadata": {},
   "outputs": [],
   "source": [
    "15 / 13"
   ]
  },
  {
   "cell_type": "markdown",
   "metadata": {},
   "source": [
    "### Using this Notebook\n",
    "\n",
    "Each of the above four boxes contains valid Python. Click in each of them and then hit Shift-Enter.\n",
    "\n",
    "In general, you should evaluate every statement in this notebook to see what it does. If you aren't completely clear on what it does and why it does it, keep playing with it until you are.\n",
    "\n",
    "### Cells and Kernels\n",
    "\n",
    "Notice that the Python statements above got their own boxes. You actually are allowed to put multiple statements in a box, but I am starting simply.\n",
    "\n",
    "These boxes are Python, not Markdown. Somehow Jupyter needs to know that 2 + 2 was Python, not more documentation, right? The boxes are part of that.\n",
    "\n",
    "Let's start using the official names for the boxes. They are called cells, and so you now have been introduced to the two main cell types: Markdown cells and code cells. Code cells have In[ ] next to them.\n",
    "\n",
    "One more thing to introduce is the notion of a kernel. It's a separate process. You can think of a process as a separate app, but one which has no on-screen representation. Whenever you execute a Python cell by hitting Shift-Enter the statements in it get sent to the kernel, which evaluates them. The kernel sends the result back to the notebook and the notebook renders that as an Out[ ] cell (unless there is no result). Sometimes the notebook renders other things as side effects of executing the statements (like graphs! &mdash; but we are not getting to that today).\n",
    "\n",
    "The numbers in the brackets in the In and Out cells are sequential. The sequence is determined by their order in getting sent to the kernel, not the order they appear in the notebook.\n",
    "\n",
    "Every time you hit Shift-Enter in a code cell, whatever is in the cell gets re-sent to the kernel and the number is incremented.\n",
    "\n",
    "**If you don't hit Shift-Enter in a cell, then the kernel doesn't know about the statements in that cell.**\n",
    "\n",
    "Try hitting Shift-Enter multiple times in a cell. For example, just keep hitting Shift-Enter in the 2 + 2 cell. See the In/Out numbers increment? Ok, that's not very interesting, but it helps you understand the relationship of the cells to the kernel. Re-executing cells will get more interesting when the values in them start changing.\n",
    "\n",
    "### Variables and Assignments\n",
    "\n",
    "Just like in ordinary mathematics, mathematics on computers uses variables. Variables hold values.\n",
    "\n",
    "Here is a nice simple assignment statement that lets the kernel know about a new variable x:"
   ]
  },
  {
   "cell_type": "code",
   "execution_count": null,
   "metadata": {},
   "outputs": [],
   "source": [
    "x = 2 + 2"
   ]
  },
  {
   "cell_type": "markdown",
   "metadata": {},
   "source": [
    "The expression on the right of the equals evaluates to 4.\n",
    "\n",
    "The equals sign says, put the result of the expression on the right into the new variable named x. It's new because we haven't named it before. Now that we have named it, and sent the statement that names it to the kernel, the kernel will not forget that we have a variable named x. The kernel currently has 4 in x.\n",
    "\n",
    "Notice there is no Out statement to go with this In statement even after you hit Shift-Enter in it. That's because there is no result that comes with an assignment statement."
   ]
  },
  {
   "cell_type": "code",
   "execution_count": null,
   "metadata": {},
   "outputs": [],
   "source": [
    "x"
   ]
  },
  {
   "cell_type": "markdown",
   "metadata": {},
   "source": [
    "However, as you can see, if we type x all by itself and hit Shift-Enter,what x holds is rendered. By the way, that was your first example of an expression containing a variable.\n",
    "\n",
    "Here's another:"
   ]
  },
  {
   "cell_type": "code",
   "execution_count": null,
   "metadata": {},
   "outputs": [],
   "source": [
    "x = 2 * x"
   ]
  },
  {
   "cell_type": "code",
   "execution_count": null,
   "metadata": {},
   "outputs": [],
   "source": [
    "x"
   ]
  },
  {
   "cell_type": "markdown",
   "metadata": {},
   "source": [
    "Try executing the preceding two statements (x = 2 * x and x) a few times in various orders. Do you see what is happening? It's kind of crazy actually. If you divide x from both sides of x = 2 * x you get 1 = 2. That makes no sense mathematically. The computer understand this as follows:\n",
    "\n",
    "* first, see what is in x\n",
    "* then, multiply it by 2\n",
    "* then put the result back into x\n",
    "\n",
    "So there is a before-the-assignment and after-the-assignment notion of x. That's why it isn't actually crazy. In ordinary math we might write\n",
    "\n",
    "x_after = 2 * x_before\n",
    "\n",
    "In computer math, it is understood to everyone (the programmer and the computer itself), that x has a value before and after the assignment, so we just write\n",
    "\n",
    "x = 2 * x\n",
    "\n",
    "There is **no need** to write before and after."
   ]
  },
  {
   "cell_type": "markdown",
   "metadata": {},
   "source": [
    "### Some Types\n",
    "\n",
    "Expressions and variables have many possible types. Here are the ones you use most often. Some more will be coming later.\n",
    "\n",
    "#### Boolean Type\n",
    "\n",
    "Examples:\n",
    "\n",
    "* True\n",
    "* False\n",
    "\n",
    "#### Integer Type\n",
    "\n",
    "Examples:\n",
    "\n",
    "* 1\n",
    "* -13\n",
    "\n",
    "#### Floating Type\n",
    "\n",
    "Examples:\n",
    "\n",
    "* 1.0\n",
    "* -13.0\n",
    "\n",
    "#### String Type\n",
    "\n",
    "* \"One\"\n",
    "* \"Negative 13\"\n",
    "* \"1\"\n",
    "* \"-13\"\n",
    "\n",
    "Notice that \"1\" is very different from 1, which is in turn different from 1.0."
   ]
  },
  {
   "cell_type": "code",
   "execution_count": null,
   "metadata": {},
   "outputs": [],
   "source": [
    "\"1\" + 1"
   ]
  },
  {
   "cell_type": "code",
   "execution_count": null,
   "metadata": {},
   "outputs": [],
   "source": [
    "\"2\" + \"2\""
   ]
  },
  {
   "cell_type": "markdown",
   "metadata": {},
   "source": [
    "## Python &mdash; Comparisons and Control Flow\n",
    "\n",
    "It would be mighty boring if programs always did the same calculations. For example, suppose, no matter which button you clicked on Amazon, it sent you to the checkout step. That would prevent you from adding anything to your cart! A program has to make decisions about what to do next. Decisions are most often made by making comparisons.\n",
    "\n",
    "### Comparisons\n",
    "\n",
    "The most common comparisons are:\n",
    "\n",
    "* < (read less than)\n",
    "* \\> (read greater than)\n",
    "* == (read equal to, but do not confuse this with assignment!)\n",
    "* \\>= (read greater than or equal to)\n",
    "* <= (read less than or equal to)\n",
    "* != (read not equal to)\n",
    "\n",
    "Make some comparisons to see how these work:"
   ]
  },
  {
   "cell_type": "code",
   "execution_count": null,
   "metadata": {},
   "outputs": [],
   "source": [
    "5 != 3"
   ]
  },
  {
   "cell_type": "markdown",
   "metadata": {},
   "source": [
    "### Control Flow\n",
    "\n",
    "Here's an example of control flow using the while statement:"
   ]
  },
  {
   "cell_type": "code",
   "execution_count": null,
   "metadata": {},
   "outputs": [],
   "source": [
    "y = 1\n",
    "\n",
    "while y < 10:\n",
    "    y = y + 1\n",
    "    \n",
    "y"
   ]
  },
  {
   "cell_type": "markdown",
   "metadata": {},
   "source": []
  },
  {
   "cell_type": "markdown",
   "metadata": {},
   "source": [
    "Eliminate the indentation of y = y + 1 and re-execute the program.\n",
    "\n",
    "Put the indentation back in by using the tab key. Re-execute the program to make sure it works.\n",
    "\n",
    "Modify the program to start with y = 3 and increment y by 2 each time. Before you execute the program, guess the result.\n",
    "\n",
    "### Syntax and White Space\n",
    "\n",
    "Everything in the code above is important. The : is important. As you have seen, the indentation of y = y + 1 is important. Computers are nitpicky. They don't do what you mean. They do exactly what they are programmed to understand and that is it. No more. Close doesn't count except in horseshoes and hand grenades is the expression. You have to be spot on. The more you program, the more you get good at being spot on.\n",
    "\n",
    "Do the following:\n",
    "\n",
    "* Always put a single space around each side of your = (assignment) signs.\n",
    "* Always put a single space around each side of your comparison operators.\n",
    "* Always put a single space around each side of your addition, subtraction, multiplication, and division operators.\n",
    "* Most programmers aren't very good. Find good ones to learn from.\n",
    "* Once you have found good ones, copy them as closely as possible. \n",
    "\n",
    "You will be repaid in:\n",
    "\n",
    "* Less time wasted looking for silly mistakes.\n",
    "* Being more easily understood by other programmers.\n",
    "* Other programmers more easily understanding you.\n",
    "* Good jobs in organizations that use software (that's getting to be most organizations).\n",
    "* A growing esthetic sense.\n",
    "* After a year or so of this you will start to have interesting opinions on how to write code.\n",
    "\n",
    "Clean up the following sloppy code. Before executing the cleaned up code, predict, will this code produce 14 or 22 (or something else)?"
   ]
  },
  {
   "cell_type": "code",
   "execution_count": null,
   "metadata": {},
   "outputs": [],
   "source": [
    "z=6+15/3\n",
    "\n",
    "if z>9:\n",
    "z=2    *    z\n",
    "\n",
    "z"
   ]
  },
  {
   "cell_type": "markdown",
   "metadata": {},
   "source": [
    "I must say, the fact that the actual answer has a decimal point caught me off guard. This is because I still expect (from C and earlier versions of Python) that 15/3 will give 5 not 5.0. Once 15/3 has been calculated and given the result 5.0 rather than 5, then all the evaluations involving this result become floating point as well.\n",
    "\n",
    "## Your First Simulation\n",
    "\n",
    "Towards the end of the computer science discussion I sketched out a simulation that was something like:\n",
    "\n",
    "x = 27\n",
    "   \n",
    "   v = 6\n",
    "\n",
    "t = 0\n",
    "\n",
    "while t < 10:\n",
    "\n",
    "x == x + v * 1\n",
    "\n",
    "t = t + 1\n",
    "    \n",
    "    \n",
    "t, x\n",
    "\n",
    "I have deliberately put in mistakes!\n",
    "\n",
    "The last line &mdash; t, x &mdash; on an unindented line all by itself &mdash; is right, but I haven't explained what the comma does yet.\n",
    "\n",
    "Clean the above mess up by typing (don't short-change yourself by copy-and-pasting) it into the empty code cell below &mdash; fixing my mistakes as you do that. Try to figure out what t and x will be when the program is done. Finally hit Shift-Enter to execute it. Does it give what you expected? Keep playing with it until you understand it completely."
   ]
  },
  {
   "cell_type": "code",
   "execution_count": null,
   "metadata": {},
   "outputs": [],
   "source": []
  },
  {
   "cell_type": "markdown",
   "metadata": {},
   "source": [
    "## Summary\n",
    "\n",
    "That's it for today! Congratulate yourself. Those of you that are new to Jupyter and Python know a massive amount more than you did. Enough that you have already done an extremely simple simulation."
   ]
  }
 ],
 "metadata": {
  "kernelspec": {
   "display_name": "Python 3",
   "language": "python",
   "name": "python3"
  },
  "language_info": {
   "codemirror_mode": {
    "name": "ipython",
    "version": 3
   },
   "file_extension": ".py",
   "mimetype": "text/x-python",
   "name": "python",
   "nbconvert_exporter": "python",
   "pygments_lexer": "ipython3",
   "version": "3.7.3"
  }
 },
 "nbformat": 4,
 "nbformat_minor": 2
}
