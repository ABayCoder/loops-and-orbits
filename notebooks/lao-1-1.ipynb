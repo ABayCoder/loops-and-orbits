{
 "cells": [
  {
   "cell_type": "markdown",
   "metadata": {},
   "source": [
    "# This is a Jupyter Notebook\n",
    "\n",
    "You will be doing most of your coding in Jupyter. Jupyter allows you to write, document, and execute Python code all in a single environment.\n",
    "\n",
    "## Documentation is Written in Markdown\n",
    "\n",
    "What you reading right now is documentation not code. Documentation is written in Markdown.\n",
    "\n",
    "The following is an example of a bulleted list. Class will be structured as three parts each day, approximately (not exactly!) as follows:\n",
    "\n",
    "* 9:15-9:55 (40 min) Physics & Math\n",
    "* 10-min break for Q&A, stretching, etc.\n",
    "* 10:05-10:45 (40 min) Computer Science\n",
    "* 5-min break\n",
    "* 10:50-11:50 (1 hr) Python Coding Lab\n",
    "\n",
    "On some days, there might be more computer science, or more lab time. In the final week of the course the schedule will be adjusted to make time for presentations.\n",
    "\n",
    "Double-click on this text. You can see what it looks like in a more raw form and you can make edits to it.\n",
    "\n",
    "Notice that the bullets have turned into asterisks, and the heading line at the top begins with a pound-sign (also called the octothorpe, the number symbol, or the hash symbol &mdash; hence the expression, hashtag). The sub-heading begins with two pound signs.\n",
    "\n",
    "Computer science is laced with endless puns. Markdown is a pun. The idea was that the various markup languages (for marking up documents with title fonts and bulleted lists, etc.), especially HTML, which stands for Hypertext Markup Language had gotten grossly complex.\n",
    "\n",
    "Hit Shift-Enter to make it pretty again. Go back and forth a few times, by double-clicking and hitting Shift-Enter.\n",
    "\n",
    "## Code is Written in Python\n",
    "\n",
    "Valid Python is a sequence of statements. Each statement has to be valid for the Python to be valid.\n",
    "\n",
    "Statements can be extremely complex. The simplest statement is just an expression all by itself. An expression has a value.\n",
    "\n",
    "The following is an example of an expression."
   ]
  },
  {
   "cell_type": "code",
   "execution_count": 5,
   "metadata": {},
   "outputs": [
    {
     "data": {
      "text/plain": [
       "4"
      ]
     },
     "execution_count": 5,
     "metadata": {},
     "output_type": "execute_result"
    }
   ],
   "source": [
    "2 + 2"
   ]
  },
  {
   "cell_type": "markdown",
   "metadata": {},
   "source": [
    "## Cells and Kernels\n",
    "\n",
    "Notice that the Python statement above got its own box above because it isn't Markdown. Somehow Jupyter needs to know that 2 + 2 isn't just more documentation, right? The separate box does that.\n",
    "\n",
    "Let's start using the official names for the boxes. They are called cells, and so you now have been introduced to the two main cell types: Markdown cells and code cells. Code cells have In[ ] next to them.\n",
    "\n",
    "One more thing to introduce is the notion of a kernel. It's a separate process. You can think of a process as a separate app, but one which has no on-screen representation. Whenever you execute a Python cell by hitting Shift-Enter the code gets sent to the kernel, which evaluates it. The kernel sends the result back to the notebook and the notebook renders that as an Out[ ] cell.\n",
    "\n",
    "The numbers in the brackets in the In and Out cells are sequential. The sequence is determined by their order in getting sent to the kernel, not the order they appear in the notebook.\n",
    "\n",
    "Every time you hit Shift-Enter in a code cell, whatever is in the cell gets re-sent to the kernel and the number is incremented.\n",
    "\n",
    "Try it. Just keep hitting shift enter in the 2 + 2 cell. That's not very interesting is it. It's about to get more interesting."
   ]
  },
  {
   "cell_type": "markdown",
   "metadata": {},
   "source": [
    "## Variables and Assignments\n",
    "\n",
    "Just like in ordinary mathematics, mathematics with computers uses variables. Variables hold values.\n",
    "\n",
    "Here is a nice simple assignment statement.\n",
    "\n"
   ]
  },
  {
   "cell_type": "code",
   "execution_count": 8,
   "metadata": {},
   "outputs": [],
   "source": [
    "x = 0"
   ]
  },
  {
   "cell_type": "markdown",
   "metadata": {},
   "source": [
    "The expression on the right is just 0. That's pleasantly simple.\n",
    "\n",
    "The equals sign says, put the result of the expression on the right into a new variable named x. It's new because we haven't named it before. Now that we have named it, and sent the statement that names it to the kernel, the kernel knows about it.\n",
    "\n",
    "Notice there is no Out statement to go with this In statement. That's because there is no result that comes with an assignment statement."
   ]
  },
  {
   "cell_type": "code",
   "execution_count": 9,
   "metadata": {},
   "outputs": [
    {
     "data": {
      "text/plain": [
       "0"
      ]
     },
     "execution_count": 9,
     "metadata": {},
     "output_type": "execute_result"
    }
   ],
   "source": [
    "x"
   ]
  },
  {
   "cell_type": "markdown",
   "metadata": {},
   "source": [
    "However, if we type x all by itself and hit Shift-Enter, we see what x holds."
   ]
  },
  {
   "cell_type": "code",
   "execution_count": 12,
   "metadata": {},
   "outputs": [],
   "source": [
    "x = x + 1"
   ]
  },
  {
   "cell_type": "code",
   "execution_count": 11,
   "metadata": {},
   "outputs": [
    {
     "data": {
      "text/plain": [
       "1"
      ]
     },
     "execution_count": 11,
     "metadata": {},
     "output_type": "execute_result"
    }
   ],
   "source": [
    "x"
   ]
  },
  {
   "cell_type": "markdown",
   "metadata": {},
   "source": [
    "Try executing the preceding two statements (x = x + 1 and x) a few times in various orders. Do you see what is happening? It's kind of crazy actually. If you subtract x from both sides of x = x + 1 you get 0 = 1. That makes no sense mathematically. The computer understand this as follows:\n",
    "\n",
    "* first, see what is in x\n",
    "* then, add 1 to it\n",
    "* then put that into x\n",
    "\n",
    "So there is a before-the-assignment and after-the-assignment notion of x. That's why it isn't actually crazy. In ordinary math we might write\n",
    "\n",
    "x_after = x_before + 1\n",
    "\n",
    "In computer math, it is understood to everyone (the programmer and the computer itself), that x has a value before and after the assignment, so we just write\n",
    "\n",
    "x = x + 1\n",
    "\n",
    "and there is no need to write before and after."
   ]
  },
  {
   "cell_type": "code",
   "execution_count": null,
   "metadata": {},
   "outputs": [],
   "source": []
  }
 ],
 "metadata": {
  "kernelspec": {
   "display_name": "Python 3",
   "language": "python",
   "name": "python3"
  },
  "language_info": {
   "codemirror_mode": {
    "name": "ipython",
    "version": 3
   },
   "file_extension": ".py",
   "mimetype": "text/x-python",
   "name": "python",
   "nbconvert_exporter": "python",
   "pygments_lexer": "ipython3",
   "version": "3.7.3"
  }
 },
 "nbformat": 4,
 "nbformat_minor": 2
}
