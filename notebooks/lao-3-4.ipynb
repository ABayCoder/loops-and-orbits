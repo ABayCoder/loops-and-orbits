{
 "cells": [
  {
   "cell_type": "markdown",
   "metadata": {},
   "source": [
    "# Loops & Orbits &mdash; Week 3 &mdash; Day 4 &mdash; Jupyter Notebook\n",
    "\n",
    "## Rocket Burns for Transfer Orbits\n",
    "\n",
    "Our last topic is the rocket burns needed to leave a transfer orbit. The idea we are going to implement is that our satellite is in a low circular orbit and we want to compute the rocket burns needed to get to a larger circular orbit. It turns out this can be achieved with two burns, the first burn puts the satellite into an elliptical orbit, and the second burn circularizes that orbit.\n",
    "\n",
    "This is a kind of orbital insertion. According to the Wikipedia:\n",
    "\n",
    "First, grab all of the imports. **Just execute the imports.** There is nothing here for you to change."
   ]
  },
  {
   "cell_type": "code",
   "execution_count": 1,
   "metadata": {},
   "outputs": [],
   "source": [
    "# Important math functions and the constant pi:\n",
    "from math import sin, cos, atan2, sqrt, pi\n",
    "\n",
    "# We will start using the high-performance numpy library for dealing with arrays of floats:\n",
    "import numpy as np\n",
    "\n",
    "# The following import statement makes the plotting library available to us. There is also a mysterious\n",
    "# statement beginning with % to work around a known Jupyter bug: https://github.com/jupyter/notebook/issues/3670\n",
    "%matplotlib inline\n",
    "import matplotlib.pyplot as plt\n",
    "\n",
    "# Use unit testing framework to test each function we write:\n",
    "import unittest"
   ]
  },
  {
   "cell_type": "markdown",
   "metadata": {},
   "source": [
    "Next, define all the constants. **Just execute these assignments.**\n",
    "\n",
    "*Our numbers in meters were getting really huge. All of the constants are now in kilometers instead of meters.*"
   ]
  },
  {
   "cell_type": "code",
   "execution_count": 2,
   "metadata": {},
   "outputs": [],
   "source": [
    "# The following two parameters are get us the strength of gravity at various heights:\n",
    "g = 35.32                    # 35.32 km/min**2 at Earth surface\n",
    "radius_of_earth = 6371.0 # Earth radius in km\n",
    "\n",
    "# The following two variables define the cannonball launch conditions:\n",
    "initial_position = [0.0, radius_of_earth + 500.0]  # cannon is on a 500 km high mountain\n",
    "initial_velocity = [456, 0.0]                     # a good range of initial x-velocities to try is 7.6 to 9.2 km/s\n",
    "# The value of 538.92 km/s was tweaked to make exactly one elliptical orbit in 200 minutes.\n",
    "\n",
    "# We time the burns\n",
    "burns = [(90, 3.8), (190, 3.3)]\n",
    "\n",
    "# The following two parameters establish the simulation time step and its maximum total duration:\n",
    "delta_t = 0.5                # simulation time step in minutes\n",
    "simulation_time_steps = 1600  # 800 minutes worth for a delta_t of 0.5 minutes"
   ]
  },
  {
   "cell_type": "markdown",
   "metadata": {},
   "source": [
    "## Functions for Working with Vectors\n",
    "\n",
    "All of these have already appeared in previous notebooks, but they must be re-implemented to take and return `np.ndarray`."
   ]
  },
  {
   "cell_type": "code",
   "execution_count": 3,
   "metadata": {},
   "outputs": [
    {
     "name": "stderr",
     "output_type": "stream",
     "text": [
      "test_angle_from_vector (__main__.VectorTests) ... ok\n",
      "test_length_from_vector (__main__.VectorTests) ... ok\n",
      "test_vector_from_length_and_angle (__main__.VectorTests) ... ok\n",
      "\n",
      "----------------------------------------------------------------------\n",
      "Ran 3 tests in 0.003s\n",
      "\n",
      "OK\n"
     ]
    },
    {
     "data": {
      "text/plain": [
       "<unittest.runner.TextTestResult run=3 errors=0 failures=0>"
      ]
     },
     "execution_count": 3,
     "metadata": {},
     "output_type": "execute_result"
    }
   ],
   "source": [
    "# computes horizontal and vertical components of a vector and returns them as a tuple\n",
    "def vector_from_length_and_angle(length: float, angle: float) -> np.ndarray:\n",
    "    # we are working in degrees -- python's are expecting radians -- convert degrees to radian\n",
    "    angle_in_radians = angle * pi / 180.0\n",
    "    x_component = length * cos(angle_in_radians)\n",
    "    y_component = length * sin(angle_in_radians)\n",
    "    return np.array([x_component, y_component])\n",
    "\n",
    "# get angle from components using atan2 version of arctangent function -- result is converted to degrees\n",
    "def angle_from_vector(vector: np.ndarray) -> float:\n",
    "    # use the arctangent function\n",
    "    angle_in_radians = atan2(vector[1], vector[0])  \n",
    "    # we are working in degrees -- python's functions return radians -- convert radians to degrees\n",
    "    angle = angle_in_radians * 180.0 / pi\n",
    "    # return the result\n",
    "    return angle\n",
    "\n",
    "# get length from components using Pythagorean theorem\n",
    "def length_from_vector(vector: np.ndarray) -> float:\n",
    "    length_squared = np.sum(vector**2)\n",
    "    return sqrt(length_squared)\n",
    "\n",
    "### Unit tests ###\n",
    "\n",
    "class VectorTests(unittest.TestCase):\n",
    "    \n",
    "    def test_vector_from_length_and_angle(self):\n",
    "        vector = vector_from_length_and_angle(1000.0, 30.0)\n",
    "        expected_vector = np.array([866.02540378, 500.0])\n",
    "        self.assertTrue(np.allclose(vector, expected_vector),\n",
    "                        msg=\"Expected {}, but got {}\".format(expected_vector, vector))\n",
    "        \n",
    "    def test_angle_from_vector(self):\n",
    "        angle = angle_from_vector(np.array([866.02540378, 500.0]))\n",
    "        self.assertAlmostEqual(angle, 30.0)\n",
    "        \n",
    "    def test_length_from_vector(self):\n",
    "        length = length_from_vector(np.array([5.0, 12.0]))\n",
    "        self.assertAlmostEqual(length, 13.0)\n",
    "\n",
    "testSuite = unittest.TestLoader().loadTestsFromName(\"__main__.VectorTests\")\n",
    "testRunner = unittest.TextTestRunner(verbosity=2)\n",
    "testRunner.run(testSuite)"
   ]
  },
  {
   "cell_type": "markdown",
   "metadata": {},
   "source": [
    "## Functions to Get Acceleration of Gravity\n",
    "\n",
    "**Below is the suite of four functions for you to implement.** Each function has comments saying what it should do.\n",
    "\n",
    "**What is new relative to the last version of Newton's Cannon is that the functions take as an argument &mdash; or return as a value &mdash; a numpy array for the position.**\n",
    "\n",
    "*Make your life easy!* Use the functions for working with vectors above. If you find you are using sqrt, cos, sin, etc. below you are re-doing work that is already complete and correct in the functions above.\n",
    "\n",
    "*Each function has two unit tests, most of which are failing.* Keep working on your implementations until the \n",
    "unit tests pass. Then go on to the rest of the notebook."
   ]
  },
  {
   "cell_type": "code",
   "execution_count": 4,
   "metadata": {},
   "outputs": [
    {
     "name": "stderr",
     "output_type": "stream",
     "text": [
      "test_acceleration_from_gravity_4g_up (__main__.GravityTests) ... ok\n",
      "test_acceleration_from_gravity_g_left (__main__.GravityTests) ... ok\n",
      "test_direction_of_gravity_left (__main__.GravityTests) ... ok\n",
      "test_direction_of_gravity_up (__main__.GravityTests) ... ok\n",
      "test_strength_of_gravity (__main__.GravityTests) ... ok\n",
      "test_strength_of_gravity_high_up (__main__.GravityTests) ... ok\n",
      "\n",
      "----------------------------------------------------------------------\n",
      "Ran 6 tests in 0.005s\n",
      "\n",
      "OK\n"
     ]
    },
    {
     "data": {
      "text/plain": [
       "<unittest.runner.TextTestResult run=6 errors=0 failures=0>"
      ]
     },
     "execution_count": 4,
     "metadata": {},
     "output_type": "execute_result"
    }
   ],
   "source": [
    "# The fancy function declaration with the : after position and the -> before float\n",
    "# says what the type of the argument and the return value is. The older, simpler way we were\n",
    "# declaring functions would have just begun with:\n",
    "\n",
    "# def strength_of_gravity(position):\n",
    "      # this function encodes the strength of gravity....\n",
    "    \n",
    "# The new way of doing declarations is longer, and it is a matter of taste whether it helps readability.\n",
    "# The new way of doing declarations says the position arguments is an np.ndarray (a numpy\n",
    "# n-dimensional array). It says that the function returns a Boolean.\n",
    "def strength_of_gravity(position: np.ndarray) -> float:\n",
    "    # this function encodes the strength of gravity as a function of distance from the center of the Earth\n",
    "    radius = length_from_vector(position)\n",
    "    strength = g * radius_of_earth**2 / radius**2\n",
    "    return strength\n",
    "\n",
    "def direction_of_gravity(position: np.ndarray) -> np.ndarray:\n",
    "    # this function encodes the direction of gravity (the angle)\n",
    "    # gravity is attractive -- it always points toward the center of the Earth\n",
    "    direction = angle_from_vector(position) + 180.0\n",
    "    return direction\n",
    "\n",
    "def acceleration_from_gravity(position: np.ndarray) -> np.ndarray:\n",
    "    # using the strength and direction functions you have just implemented compute and\n",
    "    # returns a 2x1 array for the acceleration of gravity\n",
    "    strength = strength_of_gravity(position)\n",
    "    direction = direction_of_gravity(position)\n",
    "    acceleration = vector_from_length_and_angle(strength, direction)\n",
    "    return acceleration\n",
    "\n",
    "### Unit tests ###\n",
    "\n",
    "class GravityTests(unittest.TestCase):\n",
    "\n",
    "    # tests of strength\n",
    "\n",
    "    def test_strength_of_gravity(self):\n",
    "        position = np.array([radius_of_earth, 0.0])\n",
    "        strength = strength_of_gravity(position)\n",
    "        self.assertAlmostEqual(strength, g)\n",
    "\n",
    "    def test_strength_of_gravity_high_up(self):\n",
    "        position = np.array([0.0, 2.0 * radius_of_earth])\n",
    "        strength = strength_of_gravity(position)\n",
    "        self.assertAlmostEqual(strength, 0.25 * g)\n",
    "        \n",
    "    # tests of direction\n",
    "        \n",
    "    def test_direction_of_gravity_left(self):\n",
    "        position = np.array([100.0, 0.0])\n",
    "        direction = direction_of_gravity(position)\n",
    "        self.assertEqual(direction, 180.0)\n",
    "\n",
    "    def test_direction_of_gravity_up(self):\n",
    "        position = np.array([0.0, -100.0])\n",
    "        direction = direction_of_gravity(position)\n",
    "        self.assertEqual(direction, 90.0)\n",
    "        \n",
    "    # tests of acceleration\n",
    "\n",
    "    def test_acceleration_from_gravity_g_left(self):\n",
    "        position = np.array([radius_of_earth, 0.0])\n",
    "        acceleration = acceleration_from_gravity(position)\n",
    "        expected_acceleration = np.array([-g, 0.0])\n",
    "        self.assertTrue(np.allclose(acceleration, expected_acceleration),\n",
    "                        msg=\"Expected {}, but got {}\".format(expected_acceleration, acceleration))\n",
    "\n",
    "    def test_acceleration_from_gravity_4g_up(self):\n",
    "        position = np.array([0.0, -radius_of_earth / 2.0])\n",
    "        acceleration = acceleration_from_gravity(position)\n",
    "        expected_acceleration = np.array([0.0, 4.0 * g])\n",
    "        self.assertTrue(np.allclose(acceleration, expected_acceleration),\n",
    "                        msg=\"Expected {}, but got {}\".format(expected_acceleration, acceleration))\n",
    "\n",
    "testSuite = unittest.TestLoader().loadTestsFromName(\"__main__.GravityTests\")\n",
    "testRunner = unittest.TextTestRunner(verbosity=2)\n",
    "testRunner.run(testSuite)\n"
   ]
  },
  {
   "cell_type": "code",
   "execution_count": 5,
   "metadata": {},
   "outputs": [],
   "source": [
    "def strength_of_thrust(time: float, velocity: np.ndarray) -> float:\n",
    "    for burn_begin_time, burn_duration in burns:\n",
    "        if burn_begin_time < time < burn_begin_time + burn_duration:\n",
    "            return 20.0\n",
    "    # time was not during a burn\n",
    "    return 0.0\n",
    "\n",
    "def direction_of_thrust(velocity: np.ndarray) -> np.ndarray:\n",
    "    # this function encodes the direction of thrust (the angle)\n",
    "    direction = angle_from_vector(velocity)\n",
    "    return direction\n",
    "\n",
    "def acceleration_from_thrust(time: float, velocity: np.ndarray) -> np.ndarray:\n",
    "    # using the strength and direction function, compute\n",
    "    # a 2x1 array for the acceleration from thrust\n",
    "    strength = strength_of_thrust(time, velocity)\n",
    "    direction = direction_of_thrust(velocity)\n",
    "    acceleration = vector_from_length_and_angle(strength, direction)\n",
    "    return acceleration\n"
   ]
  },
  {
   "cell_type": "markdown",
   "metadata": {},
   "source": [
    "## The While Loop That Does the Work\n",
    "\n",
    "**There is nothing for you to change below. You can just execute it once you've got your functions implemented.**"
   ]
  },
  {
   "cell_type": "code",
   "execution_count": 6,
   "metadata": {},
   "outputs": [],
   "source": [
    "# Initialize the x and y velocities\n",
    "velocities = np.zeros((simulation_time_steps, 2))\n",
    "velocities[0] = initial_velocity\n",
    "\n",
    "# Initialize the x and y positions\n",
    "positions = np.zeros((simulation_time_steps, 2))\n",
    "positions[0] = initial_position\n",
    "\n",
    "# Initialize the times\n",
    "times = np.zeros((simulation_time_steps,))\n",
    "\n",
    "# The 0th elements of velocities, positions, and times are already filled in, so start with 1\n",
    "for i in range(1, simulation_time_steps):\n",
    "    #\n",
    "    # get all the before values\n",
    "    #\n",
    "    # velocities\n",
    "    before_velocity = velocities[i - 1]\n",
    "    # positions\n",
    "    before_position = positions[i - 1]\n",
    "    # time\n",
    "    before_time = times[i - 1]\n",
    "    #\n",
    "    # fundamental change for 2nd-order Runge-Kutta -- first estimate the mid_position!!\n",
    "    #\n",
    "    mid_position = before_position + 0.5 * delta_t * before_velocity\n",
    "    #\n",
    "    # also compute mid_time, because thrust depends on the times of the rocket burns\n",
    "    #\n",
    "    mid_time = before_time + 0.5 * delta_t\n",
    "    #\n",
    "    # calculate the acceleration -- using the estimated mid_position and the mid_time!\n",
    "    # \n",
    "    mid_acceleration_from_gravity = acceleration_from_gravity(mid_position)\n",
    "    #\n",
    "    mid_acceleration_from_thrust = acceleration_from_thrust(mid_time, before_velocity)\n",
    "    #\n",
    "    #\n",
    "    # Add these two accelerations\n",
    "    #\n",
    "    mid_acceleration = mid_acceleration_from_gravity + mid_acceleration_from_thrust\n",
    "    # calculate after_velocity using mid_acceleration\n",
    "    #\n",
    "    after_velocity = before_velocity + delta_t * mid_acceleration\n",
    "    #\n",
    "    # calculate after_position using the democratic combination \n",
    "    # of (after_velocity + before_velocity) / 2\n",
    "    #\n",
    "    after_position = before_position + delta_t * 0.5 * (after_velocity + before_velocity)\n",
    "    #\n",
    "    # update time\n",
    "    #\n",
    "    after_time = before_time + delta_t\n",
    "    #\n",
    "    # assign the after values into their lists\n",
    "    #\n",
    "    velocities[i] = after_velocity\n",
    "    positions[i] = after_position\n",
    "    times[i] = after_time\n"
   ]
  },
  {
   "cell_type": "markdown",
   "metadata": {},
   "source": [
    "## Graph\n",
    "\n",
    "**Execute this to make a graph that looks a little like [the diagram Newton made](https://upload.wikimedia.org/wikipedia/commons/thumb/2/2f/Newton%27s_Principia_%281846%29.djvu/page519-1024px-Newton%27s_Principia_%281846%29.djvu.jpg).**"
   ]
  },
  {
   "cell_type": "code",
   "execution_count": 7,
   "metadata": {},
   "outputs": [
    {
     "data": {
      "image/png": "[encoded data removed]",
      "text/plain": [
       "<Figure size 1080x1080 with 1 Axes>"
      ]
     },
     "metadata": {
      "needs_background": "light"
     },
     "output_type": "display_data"
    }
   ],
   "source": [
    "\n",
    "plt.figure(figsize=(15, 15))\n",
    "\n",
    "x_positions = positions[:, 0]\n",
    "y_positions = positions[:, 1]\n",
    "plt.scatter(x_positions, y_positions)\n",
    "\n",
    "plt.xlabel(\"x position (km)\")\n",
    "plt.ylabel(\"y position (km)\")\n",
    "\n",
    "# Some gibberish that draws a big blue circle representing the Earth:\n",
    "earth = plt.Circle((0, 0), radius_of_earth, color='b')\n",
    "plt.gcf().gca().add_artist(earth)\n",
    "\n",
    "# Make the plot big enough to show elliptical orbits:\n",
    "plot_limit = 8000\n",
    "plt.xlim(-2.4 * plot_limit, 2.4 * plot_limit)\n",
    "plt.ylim(-2.4 * plot_limit, 2.4 * plot_limit)\n",
    "\n",
    "plt.show()"
   ]
  },
  {
   "cell_type": "code",
   "execution_count": 8,
   "metadata": {},
   "outputs": [
    {
     "data": {
      "text/plain": [
       "Text(0, 0.5, 'elevation (km)')"
      ]
     },
     "execution_count": 8,
     "metadata": {},
     "output_type": "execute_result"
    },
    {
     "data": {
      "image/png": "[encoded data removed]",
      "text/plain": [
       "<Figure size 576x576 with 1 Axes>"
      ]
     },
     "metadata": {
      "needs_background": "light"
     },
     "output_type": "display_data"
    }
   ],
   "source": [
    "import pandas as pd\n",
    "\n",
    "df = pd.DataFrame({\n",
    "    'time' : times[:],\n",
    "    'x_pos' : positions[:, 0],\n",
    "    'y_pos' : positions[:, 1],\n",
    "    'x_vel' : velocities[:, 0],\n",
    "    'y_vel' : velocities[:, 1]\n",
    "})\n",
    "\n",
    "df['elevation'] = (df.x_pos**2 + df.y_pos**2)**(1/2)\n",
    "\n",
    "# df['time'] = pd.to_datetime(df['time'], unit='minutes')\n",
    "\n",
    "my_plot = df.plot(figsize=(8, 8), x='time', y='elevation')\n",
    "my_plot.set_xlabel('time (minutes)')\n",
    "my_plot.set_ylabel('elevation (km)')\n",
    "\n",
    "# Example of how to create a new data-frame from an existing one.\n",
    "#\n",
    "# df1 = df[ df.elevation > 0 ]\n",
    "#"
   ]
  },
  {
   "cell_type": "markdown",
   "metadata": {},
   "source": [
    "## Playing with the Simulation and Checkout Questions\n",
    "\n",
    "Look at arc VF in [the diagram Newton made](https://upload.wikimedia.org/wikipedia/commons/thumb/2/2f/Newton%27s_Principia_%281846%29.djvu/page519-1024px-Newton%27s_Principia_%281846%29.djvu.jpg). For that arc the cannonball goes about 20% of the way around the Earth.\n",
    "\n",
    "Play with `initial_speed` in the initialization cell. Each time you change it, re-execute the entire notebook.\n",
    "\n",
    "A good range of values to try is 3000 to 8000 m/s. What makes an arc that is most like Newton's arc VF?\n",
    "\n",
    "Show me or Ben that you can set a breakpoint in your `strength_of_gravity` function and inspect what is happening."
   ]
  },
  {
   "cell_type": "code",
   "execution_count": null,
   "metadata": {},
   "outputs": [],
   "source": []
  }
 ],
 "metadata": {
  "kernelspec": {
   "display_name": "Python 3",
   "language": "python",
   "name": "python3"
  },
  "language_info": {
   "codemirror_mode": {
    "name": "ipython",
    "version": 3
   },
   "file_extension": ".py",
   "mimetype": "text/x-python",
   "name": "python",
   "nbconvert_exporter": "python",
   "pygments_lexer": "ipython3",
   "version": "3.7.4"
  }
 },
 "nbformat": 4,
 "nbformat_minor": 2
}
