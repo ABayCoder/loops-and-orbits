{
 "cells": [
  {
   "cell_type": "markdown",
   "metadata": {},
   "source": [
    "# Loops & Orbits &mdash; Week 2 &mdash; Day 3 &mdash; Jupyter Notebook\n",
    "\n",
    "## Newton's Cannon\n",
    "\n",
    "Pictured in the [syllabus](http://physics.stmarys-ca.edu/faculty/brianhill/courses/Jan033/20J/index.html#detailed-course-description) for this course is Newton's famous thought experiment.\n",
    "\n",
    "This will be our first attempt to get the computer to do the work of computing the cannonball trajectory using a realistic gravitational field that obeys Newton's Universal Theory of Gravitation. The gravitational field gets weaker with altitude and it always points toward the center of the Earth.\n",
    "\n",
    "First, define all of the constants and functions that are needed in the rest of the code:"
   ]
  },
  {
   "cell_type": "code",
   "execution_count": 1,
   "metadata": {},
   "outputs": [],
   "source": [
    "# The following two parameters are get us the strength of gravity at various heights:\n",
    "g = 9.81                  # 9.81 m/s**2 at the Earth's surface\n",
    "radius_of_earth = 6371000 # Earth radius in meters\n",
    "\n",
    "# The following two parameters define the cannonball launch conditions:\n",
    "initial_height_above_earth = 500000 # sit the cannon on a 500 km mountain -- absurdly high!!\n",
    "initial_speed = 10000 #\n",
    "\n",
    "# The following two parameters establish the simulation time step and its maximum total duration:\n",
    "delta_t = 30.0 # simulation time step in seconds\n",
    "maximum_duration = 1.0 * 60.0 * 60.0 # longest we will run the simulation before aborting the while loop\n",
    "\n",
    "# The following import statement makes the plotting library available to us. There is also a mysterious\n",
    "# statement to work around a known Jupyter bug: https://github.com/jupyter/notebook/issues/3670\n",
    "%matplotlib inline\n",
    "import matplotlib.pyplot as plt"
   ]
  },
  {
   "cell_type": "markdown",
   "metadata": {},
   "source": [
    "## Functions for Working With Vectors\n",
    "\n",
    "All of these already appeared in the baseball and rocket notebooks &mdash; although they have new names. For example the `speed_from_velocity` function is now called `length_from_components`."
   ]
  },
  {
   "cell_type": "code",
   "execution_count": 2,
   "metadata": {},
   "outputs": [],
   "source": [
    "# Important math functions and the constant pi:\n",
    "from math import sin, cos, atan2, sqrt, pi\n",
    "\n",
    "# computes horizontal and vertical components of a vector and returns them as a tuple\n",
    "def vector_components(length, angle_in_degrees):\n",
    "    angle_in_radians = angle_in_degrees * pi / 180.0\n",
    "    x_component = length * cos(angle_in_radians)\n",
    "    y_component = length * sin(angle_in_radians)\n",
    "    return x_component, y_component\n",
    "\n",
    "# get angle from components using atan2 version of arctangent function -- result is in degrees\n",
    "def angle_from_components(x_component, y_component):\n",
    "    # use the arctangent function\n",
    "    angle_in_radians = atan2(y_component, x_component)  \n",
    "    # we are working in degrees -- convert radians to degrees\n",
    "    angle_in_degrees = angle_in_radians * 180.0 / pi\n",
    "    # return the result\n",
    "    return angle_in_degrees\n",
    "\n",
    "# get length from components using Pythagorean theorem\n",
    "def length_from_components(x_component, y_component):\n",
    "    length = sqrt(x_component**2 + y_component**2)\n",
    "    return length"
   ]
  },
  {
   "cell_type": "markdown",
   "metadata": {},
   "source": [
    "## Functions to get Acceleration of Gravity as a Tuple\n",
    "\n",
    "**Below is the suite of four functions for you to implement.** Each function has comments saying what it needs to do.\n",
    "\n",
    "*Make your life easy!* Use the functions for working with vectors above. If you find you are using sqrt, cos, sin, etc. below you are re-doing work that is already complete and correct in those functions."
   ]
  },
  {
   "cell_type": "code",
   "execution_count": 3,
   "metadata": {},
   "outputs": [],
   "source": [
    "def impacted(x_position, y_position):\n",
    "    radius = length_from_components(x_position, y_position)\n",
    "    return radius < radius_of_earth\n",
    "\n",
    "def strength_of_gravity(x_position, y_position):\n",
    "    radius = length_from_components(x_position, y_position)\n",
    "    return g * radius_of_earth**2 / radius**2\n",
    "\n",
    "def direction_of_gravity(x_position, y_position):\n",
    "    angle = angle_from_components(x_position, y_position)\n",
    "    return angle + 180.0\n",
    "\n",
    "# The function will return a tuple consisting of the x-acceleration and the y-acceleration.\n",
    "def acceleration_of_gravity(x_position, y_position):\n",
    "    strength = strength_of_gravity(x_position, y_position)\n",
    "    direction = direction_of_gravity(x_position, y_position)\n",
    "    return vector_components(strength, direction)"
   ]
  },
  {
   "cell_type": "markdown",
   "metadata": {},
   "source": [
    "## The While Loop That Does the Work\n",
    "\n",
    "**There is nothing for you to change below. You can just execute it once you've got your functions implemented.**"
   ]
  },
  {
   "cell_type": "code",
   "execution_count": 4,
   "metadata": {},
   "outputs": [],
   "source": [
    "# Initialize the x and y velocities\n",
    "x_velocities = [initial_speed]\n",
    "y_velocities = [0.0]\n",
    "# Initialize the x and y positions\n",
    "x_positions = [0.0]\n",
    "y_positions = [radius_of_earth + initial_height_above_earth]\n",
    "# Initialize the times\n",
    "times = [0.0]\n",
    "\n",
    "# We want to go until the ball is over the fence. It seems our code often runs\n",
    "# without terminating. Add an extra test to stop it from going more than 100 times.\n",
    "# This is the first time you have seen the logical and operator!\n",
    "while not impacted(x_positions[-1], y_positions[-1]) and len(times) * delta_t < maximum_duration:\n",
    "    #\n",
    "    # get all the before values\n",
    "    #\n",
    "    # velocities\n",
    "    before_x_velocity = x_velocities[-1]\n",
    "    before_y_velocity = y_velocities[-1]\n",
    "    # positions\n",
    "    before_x_position = x_positions[-1]\n",
    "    before_y_position = y_positions[-1]\n",
    "    # time\n",
    "    before_time = times[-1]\n",
    "    #\n",
    "    # use the new acceleration_with_drag function to get the accelerations\n",
    "    #\n",
    "    x_acceleration, y_acceleration = acceleration_of_gravity(before_x_position, before_y_position)\n",
    "    #\n",
    "    # bog-standard Euler update code -- in two dimensions\n",
    "    #\n",
    "    # update the x and y velocities\n",
    "    after_x_velocity = before_x_velocity + delta_t * x_acceleration\n",
    "    after_y_velocity = before_y_velocity + delta_t * y_acceleration\n",
    "    # update the x and y positions\n",
    "    after_x_position = before_x_position + delta_t * after_x_velocity\n",
    "    after_y_position = before_y_position + delta_t * after_y_velocity\n",
    "    # update time\n",
    "    after_time = before_time + delta_t\n",
    "    #\n",
    "    # append all the after values to their lists\n",
    "    #\n",
    "    x_velocities.append(after_x_velocity)\n",
    "    y_velocities.append(after_y_velocity)\n",
    "    x_positions.append(after_x_position)\n",
    "    y_positions.append(after_y_position)\n",
    "    times.append(after_time)\n"
   ]
  },
  {
   "cell_type": "markdown",
   "metadata": {},
   "source": [
    "## Graph\n",
    "\n",
    "We want to make a graph that looks a little like [the diagram Newton made](https://upload.wikimedia.org/wikipedia/commons/thumb/2/2f/Newton%27s_Principia_%281846%29.djvu/page519-1024px-Newton%27s_Principia_%281846%29.djvu.jpg)."
   ]
  },
  {
   "cell_type": "code",
   "execution_count": 5,
   "metadata": {},
   "outputs": [
    {
     "data": {
      "image/png": "[encoded data removed]",
      "text/plain": [
       "<Figure size 576x576 with 1 Axes>"
      ]
     },
     "metadata": {
      "needs_background": "light"
     },
     "output_type": "display_data"
    }
   ],
   "source": [
    "plt.figure(figsize=(8, 8))\n",
    "\n",
    "plt.scatter(x_positions, y_positions)\n",
    "\n",
    "plt.xlabel(\"x position (m)\")\n",
    "plt.ylabel(\"y position (m)\")\n",
    "\n",
    "# Some gibberish that draws a big blue circle representing the Earth:\n",
    "earth = plt.Circle((0, 0), radius_of_earth, color='b')\n",
    "plt.gcf().gca().add_artist(earth)\n",
    "\n",
    "# Make the plot big enough to show the entire Earth:\n",
    "plt.xlim(-7000000, 7000000)\n",
    "plt.ylim(-7000000, 7000000)\n",
    "\n",
    "plt.show()"
   ]
  },
  {
   "cell_type": "markdown",
   "metadata": {},
   "source": [
    "## Messing with the Simulation\n",
    "\n",
    "### "
   ]
  },
  {
   "cell_type": "code",
   "execution_count": null,
   "metadata": {},
   "outputs": [],
   "source": []
  }
 ],
 "metadata": {
  "kernelspec": {
   "display_name": "Python 3",
   "language": "python",
   "name": "python3"
  },
  "language_info": {
   "codemirror_mode": {
    "name": "ipython",
    "version": 3
   },
   "file_extension": ".py",
   "mimetype": "text/x-python",
   "name": "python",
   "nbconvert_exporter": "python",
   "pygments_lexer": "ipython3",
   "version": "3.7.4"
  }
 },
 "nbformat": 4,
 "nbformat_minor": 2
}
