{
 "cells": [
  {
   "cell_type": "markdown",
   "metadata": {},
   "source": [
    "# Loops & Orbits &mdash; Week 2 &mdash; Day 4 &mdash; Numpy Tutorial\n",
    "\n",
    "There is a [numpy Quickstart tutorial](https://docs.scipy.org/doc/numpy/user/quickstart.html). I borrowed from it to get started writing a tutorial for you. Personally, I think that what I have created for you emphasizes the concepts more clearly. However, theirs is longer and more complete and it is part of scipy's official documentation, so perhaps you'll want to look at it after working through my quickstart below.\n",
    "\n",
    "## Rationale for Numpy\n",
    "\n",
    "The Python List is not designed for the highest level of numerical performance.\n",
    "\n",
    "You can tell this because things like this are possible:"
   ]
  },
  {
   "cell_type": "code",
   "execution_count": null,
   "metadata": {},
   "outputs": [],
   "source": [
    "my_list = [1, \"Loki\", 2.0, (\"Physics\", \"Math\", \"Computer Science\")]\n",
    "\n",
    "my_list"
   ]
  },
  {
   "cell_type": "markdown",
   "metadata": {},
   "source": [
    "As you can see a list can take inhomogeneous mixtures of items &mdash; items of different types. Above, we have an integer, a string, a float, and a tuple which in turn contains three strings.\n",
    "\n",
    "If you are very familiar with how things are implemented on computers, you know this is not optimal for speed even though it is optimal for flexibility.\n",
    "\n",
    "Anybody who does scientific computing switches over from lists to numpy's ndarrays in order to make their programs run faster and to work with all their colleagues who are using numpy.\n",
    "\n",
    "## Numpy Basics\n",
    "\n",
    "### Multi-Dimensional and High Performance\n",
    "\n",
    "NumPy’s main object is called ndarray. It is homogeneous and multi-dimensional. It stands for n-dimensional array. Because it is homogeneous it is almost as high performance as C-language arrays. Fortran is still the gold standard for speed, but nobody knows Fortan nowadays, and fewer and fewer people know C. So numpy and ndarray exist because Python users need a high-performance array.\n",
    "\n",
    "### Contrast with Ordinary List\n",
    "\n",
    "By contrast with ndarray, Python lists are one-dimensional. That just means they take a single index:"
   ]
  },
  {
   "cell_type": "code",
   "execution_count": null,
   "metadata": {},
   "outputs": [],
   "source": [
    "my_list[1] ## a list takes one index"
   ]
  },
  {
   "cell_type": "code",
   "execution_count": null,
   "metadata": {},
   "outputs": [],
   "source": [
    "my_list[2] ## the index can be anything from 0 to len(my_list - 1)"
   ]
  },
  {
   "cell_type": "code",
   "execution_count": null,
   "metadata": {},
   "outputs": [],
   "source": [
    "my_list[-1] ## a special notation for getting the last item"
   ]
  },
  {
   "cell_type": "markdown",
   "metadata": {},
   "source": [
    "### Example: An `ndarray` of Zeros\n",
    "\n",
    "Let's make a numpy array that takes two indices and starts off with all zeros."
   ]
  },
  {
   "cell_type": "code",
   "execution_count": null,
   "metadata": {},
   "outputs": [],
   "source": [
    "# You know that import brings in optional libraries.\n",
    "# By bringing in the library \"as np\" our prefixes for library functions aren't as long.\n",
    "\n",
    "import numpy as np\n",
    "\n",
    "all_zeros = np.zeros((3, 4))  ## The np library function that creates an array of all zeros.\n",
    "\n",
    "all_zeros[1, 2] # check that out -- it takes two indices!\n",
    "\n",
    "# also note that the preceding is not all_zeros(1, 2)\n",
    "# accessing elements takes indices, not function arguments"
   ]
  },
  {
   "cell_type": "markdown",
   "metadata": {},
   "source": [
    "Just like Python lists, the indices number from 0.\n",
    "\n",
    "So in the `all_zeros` array, the first index goes from 0 to 2 and the second index goes from 0 to 3."
   ]
  },
  {
   "cell_type": "code",
   "execution_count": null,
   "metadata": {},
   "outputs": [],
   "source": [
    "# Let's put the second index out of bounds:\n",
    "\n",
    "all_zeros[1, 4] # should fail"
   ]
  },
  {
   "cell_type": "markdown",
   "metadata": {},
   "source": [
    "### Rows and Columns\n",
    "\n",
    "An array that takes two indices is said to be two-dimensional ro to have two axes.\n",
    "\n",
    "For two-dimensional arrays it is easy to have a mental picture of a grid of numbers. (For 3-dimensional and higher it is harder to have a mental picture. 3-dimensional arrays you could imagine a cube of numbers but often that isn't very helpful in understanding the code.)\n",
    "\n",
    "In the two-dimensional case, the rows in the grid are specified by the first axis (which is axis 0).\n",
    "\n",
    "The columns of the grid are specified by the second axis (which is axis 1).\n",
    "\n",
    "So our all_zeros array has 3 rows and 4 columns. *Don't picture this as 3 columns and 4 rows or you will not be in agreement with the convention for displaying two-dimensional arrays.*\n",
    "\n",
    "Here is how Python and Jupyter display our 3x4 all_zeros array:"
   ]
  },
  {
   "cell_type": "code",
   "execution_count": null,
   "metadata": {},
   "outputs": [],
   "source": [
    "all_zeros"
   ]
  },
  {
   "cell_type": "markdown",
   "metadata": {},
   "source": [
    "### An `ndarray` of Ascending Integers"
   ]
  },
  {
   "cell_type": "code",
   "execution_count": null,
   "metadata": {},
   "outputs": [],
   "source": [
    "# The following is intentionally similar to the range function:\n",
    "ascending = np.arange(0, 15)\n",
    "\n",
    "ascending"
   ]
  },
  {
   "cell_type": "markdown",
   "metadata": {},
   "source": [
    "## Array Shape and Reshaping\n",
    "\n",
    "Apparently `ascending` is alot like a 1-axis list that runs from 0 to 14.\n",
    "\n",
    "We can reshape it!\n",
    "\n",
    "If we make it have three rows and five columns, will we get:\n",
    "    \n",
    "```\n",
    "array([[ 0,  1,  2,  3,  4],\n",
    "       [ 5,  6,  7,  8,  9],\n",
    "       [10, 11, 12, 13, 14]])\n",
    "```\n",
    "\n",
    "or will we get\n",
    "\n",
    "```\n",
    "array([[0, 3, 6,  9, 12],\n",
    "       [1, 4, 7, 10, 13],\n",
    "       [2, 5, 8, 11, 14]])\n",
    "```\n",
    "\n",
    "We just try it:"
   ]
  },
  {
   "cell_type": "code",
   "execution_count": null,
   "metadata": {},
   "outputs": [],
   "source": [
    "ascending = ascending.reshape(3, 5)\n",
    "\n",
    "ascending"
   ]
  },
  {
   "cell_type": "markdown",
   "metadata": {},
   "source": [
    "This is very significant. It tells us that ndarray things of the last axis as the one that is changing \n",
    "most rapidly. It's just like digits when you count. The last digit changes most rapidly.\n",
    "\n",
    "```\n",
    "6458\n",
    "6459\n",
    "6460\n",
    "6461\n",
    "6462\n",
    "```\n",
    "\n",
    "That's just a convention. We could have had the first digit change the most rapidly\n",
    "\n",
    "```\n",
    "6458\n",
    "7458\n",
    "8458\n",
    "9458\n",
    "0558\n",
    "```\n",
    "\n",
    "That's looks very weird, because we are so used to have the least significant digit be on the right. But it\n",
    "is just a convention. On some other planet, the accountants might put the least-significant digit on the left.\n",
    "\n",
    "As it is with digits, it is with numpy. The elements in ascending order have the least significant index on the right:\n",
    "\n",
    "```\n",
    "ascending[0, 0]\n",
    "ascending[0, 1]\n",
    "ascending[0, 2]\n",
    "ascending[0, 3]\n",
    "ascending[0, 4]\n",
    "ascending[1, 0]\n",
    "ascending[1, 1]\n",
    "ascending[1, 2]\n",
    "ascending[1, 3]\n",
    "ascending[1, 4]\n",
    "ascending[2, 0]\n",
    "ascending[2, 1]\n",
    "ascending[2, 2]\n",
    "ascending[2, 3]\n",
    "ascending[2, 4]\n",
    "```\n",
    "\n",
    "So the sixth element is the [1, 0] element and it better be 5."
   ]
  },
  {
   "cell_type": "code",
   "execution_count": null,
   "metadata": {},
   "outputs": [],
   "source": [
    "ascending[1, 0]"
   ]
  },
  {
   "cell_type": "markdown",
   "metadata": {},
   "source": [
    "### Misleading Method\n",
    "\n",
    "`reshape` is really a misleading function to be showing you. It seems to take a variable number of \n",
    "positional arguments. A different and less common way of calling `reshape` is:"
   ]
  },
  {
   "cell_type": "code",
   "execution_count": null,
   "metadata": {},
   "outputs": [],
   "source": [
    "new_ascending = np.arange(0, 30)\n",
    "\n",
    "new_ascending.reshape((6, 5)) # note the extra parens that make the first argument a tuple rather than two arguments"
   ]
  },
  {
   "cell_type": "code",
   "execution_count": null,
   "metadata": {},
   "outputs": [],
   "source": [
    "# How about a three-axis `ndarray`\n",
    "\n",
    "new_ascending.reshape((2, 3, 5)) # this could have been called as new_ascending.reshape(2, 3, 5)"
   ]
  },
  {
   "cell_type": "markdown",
   "metadata": {},
   "source": [
    "The bottom line is that reshape is kind of an unconventional example. It is unconvential because \n",
    "it is written in C for performance, see the [Stack Overlow discussion](https://stackoverflow.com/questions/46508340/passing-new-shape-to-np-reshape) if you want to go way deeper.\n",
    "Only look at that if you are having a really easy time with the Python (most likely if you have\n",
    "learned and used it elsewhere).\n",
    "\n",
    "Back to our two-dimensional `ndarray` made from the 15-element ascending to see another surprise:\n",
    "\n",
    "### Reshaping Makes a Copy\n",
    "\n",
    "Let's make ascending have 5 rows and 3 columns\n",
    "\n",
    "Then let's access element [4, 1]. Something will go wrong."
   ]
  },
  {
   "cell_type": "code",
   "execution_count": null,
   "metadata": {},
   "outputs": [],
   "source": [
    "ascending.reshape(5, 3)"
   ]
  },
  {
   "cell_type": "code",
   "execution_count": null,
   "metadata": {},
   "outputs": [],
   "source": [
    "ascending[4, 1]"
   ]
  },
  {
   "cell_type": "markdown",
   "metadata": {},
   "source": [
    "What went wrong?\n",
    "\n",
    "```\n",
    "ascending.reshape(5, 3)\n",
    "```\n",
    "\n",
    "seemed like it did what we wanted.\n",
    "\n",
    "However, it made a copy of itself. It did not change itself. Instead\n",
    "\n",
    "```\n",
    "ascending.reshape(5, 3)\n",
    "```\n",
    "\n",
    "returned the copy and we did not save the copy anywhere.\n",
    "\n",
    "Usually when you reshape you want the copy not the original, so you reshape and overwrite the original as follows:"
   ]
  },
  {
   "cell_type": "code",
   "execution_count": null,
   "metadata": {},
   "outputs": [],
   "source": [
    "ascending = ascending.reshape(5, 3)\n",
    "\n",
    "ascending"
   ]
  },
  {
   "cell_type": "markdown",
   "metadata": {},
   "source": [
    "Now we are able to access row 4, column 1 of ascending:"
   ]
  },
  {
   "cell_type": "code",
   "execution_count": null,
   "metadata": {},
   "outputs": [],
   "source": [
    "ascending[4, 1]"
   ]
  },
  {
   "cell_type": "markdown",
   "metadata": {},
   "source": [
    "### Transposition\n",
    "\n",
    "It seems a little annoying that we don't yet have a way of getting this array:\n",
    "\n",
    "```\n",
    "array([[0, 3, 6,  9, 12],\n",
    "       [1, 4, 7, 10, 13],\n",
    "       [2, 5, 8, 11, 14]])\n",
    "```\n",
    "\n",
    "Here is how to do it:"
   ]
  },
  {
   "cell_type": "code",
   "execution_count": null,
   "metadata": {},
   "outputs": [],
   "source": [
    "ascending = np.arange(0, 15)\n",
    "\n",
    "ascending = ascending.reshape(5, 3)\n",
    "\n",
    "ascending\n",
    "\n",
    "# we are not there yet -- the special we sauce we need is the transpose method\n",
    "# a method is a function on an object -- you are free to be sloppy and say transpose function"
   ]
  },
  {
   "cell_type": "code",
   "execution_count": null,
   "metadata": {},
   "outputs": [],
   "source": [
    "np.transpose(ascending)"
   ]
  },
  {
   "cell_type": "markdown",
   "metadata": {},
   "source": [
    "As with reshape, transpose made and returned a copy.\n",
    "\n",
    "So we have lost our change:"
   ]
  },
  {
   "cell_type": "code",
   "execution_count": null,
   "metadata": {},
   "outputs": [],
   "source": [
    "ascending"
   ]
  },
  {
   "cell_type": "markdown",
   "metadata": {},
   "source": [
    "Here is how to keep the copy:"
   ]
  },
  {
   "cell_type": "code",
   "execution_count": null,
   "metadata": {},
   "outputs": [],
   "source": [
    "ascending = np.transpose(ascending)\n",
    "\n",
    "ascending"
   ]
  },
  {
   "cell_type": "markdown",
   "metadata": {},
   "source": [
    "## Assignment in Lists and `ndarray`\n",
    "    \n",
    "Lists and numpy arrays are both mutable. In all the code we have done so far, we have been modifying our lists\n",
    "by appending to them. We have not needed to go back and change a value. Here's how you change a value in a list:"
   ]
  },
  {
   "cell_type": "code",
   "execution_count": null,
   "metadata": {},
   "outputs": [],
   "source": [
    "my_list = [1, 2, 59, 8, 16, 32, 64]\n",
    "\n",
    "my_list[2] = 4\n",
    "\n",
    "my_list"
   ]
  },
  {
   "cell_type": "markdown",
   "metadata": {},
   "source": [
    "That probably made fine sense\n",
    "\n",
    "### You cannot append to `ndarray`\n",
    "\n",
    "However you can change values totally analagously to the way values in lists are changed:"
   ]
  },
  {
   "cell_type": "code",
   "execution_count": null,
   "metadata": {},
   "outputs": [],
   "source": [
    "jackpot = np.arange(0, 15).reshape(3, 5)\n",
    "\n",
    "jackpot[2, 0] = 20\n",
    "jackpot[2, 1] = 22\n",
    "jackpot[2, 2] = 24\n",
    "jackpot[2, 3] = 26\n",
    "jackpot[2, 4] = 28\n",
    "\n",
    "jackpot"
   ]
  },
  {
   "cell_type": "markdown",
   "metadata": {},
   "source": [
    "## Vectorized Operations\n",
    "\n",
    "I haven't yet gotten to one of the main reasons why numpy is high-performance!\n",
    "\n",
    "It supports vectorized operations, and this means that all the processors (also known as cores) on a multi-processor computer can work in parallel.\n",
    "\n",
    "For the Python list, this is *illegal*:"
   ]
  },
  {
   "cell_type": "code",
   "execution_count": null,
   "metadata": {},
   "outputs": [],
   "source": [
    "times = [0.0, 0.1, 0.2, 0.3]\n",
    "\n",
    "stopwatch_start_time = 5.0\n",
    "\n",
    "times = times + stopwatch_start_time"
   ]
  },
  {
   "cell_type": "markdown",
   "metadata": {},
   "source": [
    "You wish that would have returned\n",
    "\n",
    "```\n",
    "[5.0, 5.1, 5.2, 5.3]\n",
    "```"
   ]
  },
  {
   "cell_type": "markdown",
   "metadata": {},
   "source": [
    "Let's try the same thing with ndarray:"
   ]
  },
  {
   "cell_type": "code",
   "execution_count": null,
   "metadata": {},
   "outputs": [],
   "source": [
    "times = np.arange(0.0, 0.4, 0.1)\n",
    "\n",
    "times"
   ]
  },
  {
   "cell_type": "markdown",
   "metadata": {},
   "source": [
    "You can already tell that richer things than can happen in standard Python are happening.\n",
    "\n",
    "This wasn't even legal with the ordinary range function:"
   ]
  },
  {
   "cell_type": "code",
   "execution_count": null,
   "metadata": {},
   "outputs": [],
   "source": [
    "range(0.0, 0.4, 0.1)"
   ]
  },
  {
   "cell_type": "markdown",
   "metadata": {},
   "source": [
    "Anyway, we have our ndarray of times. Now let's see what we can get away with it:"
   ]
  },
  {
   "cell_type": "code",
   "execution_count": null,
   "metadata": {},
   "outputs": [],
   "source": [
    "times = times + stopwatch_start_time\n",
    "\n",
    "times"
   ]
  },
  {
   "cell_type": "markdown",
   "metadata": {},
   "source": [
    "So unlike a list you can add a float to every element in the list, which in this case is exactly what we wanted.\n",
    "\n",
    "Here's more stuff you can do that cannot be done with the standard Python lists:"
   ]
  },
  {
   "cell_type": "code",
   "execution_count": null,
   "metadata": {},
   "outputs": [],
   "source": [
    "# the following illustrates a new function that converts a list to an ndarray\n",
    "\n",
    "some_numbers_to_cube = np.array([2.0, 4.0, 6.0, 8.0]) \n",
    "some_numbers_to_cube"
   ]
  },
  {
   "cell_type": "code",
   "execution_count": null,
   "metadata": {},
   "outputs": [],
   "source": [
    "some_numbers_to_cube**3"
   ]
  },
  {
   "cell_type": "markdown",
   "metadata": {},
   "source": [
    "You can see that ndarray allows you to do things very cleanly and clearly that aren't even legal with the ordinary Python list.\n",
    "\n",
    "I always argue against compact code that is unclear. Compact code that is clean and clear is the best of all worlds.\n",
    "\n",
    "As usual, you get a copy and the original is unmodified. You've lost your changes:"
   ]
  },
  {
   "cell_type": "code",
   "execution_count": null,
   "metadata": {},
   "outputs": [],
   "source": [
    "some_numbers_to_cube"
   ]
  },
  {
   "cell_type": "markdown",
   "metadata": {},
   "source": [
    "So don't forget to save the reference to your new list:"
   ]
  },
  {
   "cell_type": "code",
   "execution_count": null,
   "metadata": {},
   "outputs": [],
   "source": [
    "cubed_numbers = some_numbers_to_cube**3\n",
    "\n",
    "cubed_numbers"
   ]
  },
  {
   "cell_type": "markdown",
   "metadata": {},
   "source": [
    "## Random Numbers and Histograms\n",
    "\n",
    "Almost anything you could want to do in science including statistical analysis is possible with numpy.\n",
    "\n",
    "Let's make a lot of random numbers:"
   ]
  },
  {
   "cell_type": "code",
   "execution_count": null,
   "metadata": {},
   "outputs": [],
   "source": [
    "%matplotlib inline\n",
    "import matplotlib.pyplot as plt\n",
    "\n",
    "# Sample a normal distribution 10000 times with standard deviation of 0.5 and mean of 2.0\n",
    "\n",
    "mu = 2.0\n",
    "sigma = 0.5\n",
    "great_gobs = 10000\n",
    "\n",
    "samples = np.random.normal(mu, sigma, great_gobs)\n",
    "\n",
    "samples"
   ]
  },
  {
   "cell_type": "markdown",
   "metadata": {},
   "source": [
    "We just made 10,000 samples. Fortunately Jupyter knows not to print them all. It omitted a lot with ... notation.\n",
    "\n",
    "Let's plot the samples:"
   ]
  },
  {
   "cell_type": "code",
   "execution_count": null,
   "metadata": {},
   "outputs": [],
   "source": [
    "%matplotlib inline\n",
    "import matplotlib.pyplot as plt\n",
    "\n",
    "# Use matplotlib histogram function\n",
    "plt.hist(samples)\n",
    "plt.show()"
   ]
  },
  {
   "cell_type": "code",
   "execution_count": null,
   "metadata": {},
   "outputs": [],
   "source": [
    "# Want more detail?\n",
    "# As usual with a histogram you can decide how finely spaced you want your bins to be.\n",
    "# The default is 10. This bumps it up to 50:\n",
    "plt.hist(samples, bins=50)\n",
    "plt.show()"
   ]
  },
  {
   "cell_type": "code",
   "execution_count": null,
   "metadata": {},
   "outputs": [],
   "source": [
    "# Want it normalized?\n",
    "# This makes the total area under the curve 1.\n",
    "plt.hist(samples, bins=50, density=1)\n",
    "plt.show()"
   ]
  },
  {
   "cell_type": "markdown",
   "metadata": {},
   "source": [
    "## Conclusion\n",
    "\n",
    "\n",
    "You have seen a ton of new stuff. Continuing to learn the features of numpy with the SciPy [numpy Quickstart tutorial](https://docs.scipy.org/doc/numpy/user/quickstart.html) would be one way to continue if you want to learn more."
   ]
  }
 ],
 "metadata": {
  "kernelspec": {
   "display_name": "Python 3",
   "language": "python",
   "name": "python3"
  },
  "language_info": {
   "codemirror_mode": {
    "name": "ipython",
    "version": 3
   },
   "file_extension": ".py",
   "mimetype": "text/x-python",
   "name": "python",
   "nbconvert_exporter": "python",
   "pygments_lexer": "ipython3",
   "version": "3.7.4"
  }
 },
 "nbformat": 4,
 "nbformat_minor": 2
}
