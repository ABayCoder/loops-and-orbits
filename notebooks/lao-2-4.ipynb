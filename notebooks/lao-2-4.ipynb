{
 "cells": [
  {
   "cell_type": "markdown",
   "metadata": {},
   "source": [
    "# Loops & Orbits &mdash; Week 2 &mdash; Day 4 &mdash; Numpy Tutorial\n",
    "\n",
    "There is a [numpy Quickstart tutorial](https://docs.scipy.org/doc/numpy/user/quickstart.html). I borrowed from it to get started writing a tutorial for you. Personally, I think that what I have created for you emphasizes the concepts more clearly. However, theirs is longer and more complete and it is part of scipy's official documentation, so perhaps you'll want to look at it after working through my quickstart below.\n",
    "\n",
    "## Rationale for Numpy\n",
    "\n",
    "The Python List is not designed for the highest level of numerical performance.\n",
    "\n",
    "You can tell this because things like this are possible:"
   ]
  },
  {
   "cell_type": "code",
   "execution_count": null,
   "metadata": {},
   "outputs": [],
   "source": [
    "my_list = [1, \"Loki\", 2.0, (\"Physics\", \"Math\", \"Computer Science\")]\n",
    "\n",
    "my_list"
   ]
  },
  {
   "cell_type": "markdown",
   "metadata": {},
   "source": [
    "As you can see a list can take inhomogeneous mixtures of items &mdash; items of different types. Above, we have an integer, a string, a float, and a tuple which in turn contains three strings.\n",
    "\n",
    "If you are very familiar with how things are implemented on computers, you know this is not optimal for speed even though it is optimal for flexibility.\n",
    "\n",
    "Anybody who does scientific computing switches over from lists to numpy's ndarrays in order to make their programs run faster and to work with all their colleagues who are using numpy.\n",
    "\n",
    "## Numpy Basics\n",
    "\n",
    "### Multi-Dimensional and High Performance\n",
    "\n",
    "NumPy’s main object is called ndarray. It is homogeneous and multi-dimensional. It stands for n-dimensional array. Because it is homogeneous it is almost as high performance as C-language arrays. Fortran is still the gold standard for speed, but nobody knows Fortan nowadays, and fewer and fewer people know C. So numpy and ndarray exist because Python users need a high-performance array.\n",
    "\n",
    "### Contrast with Ordinary List\n",
    "\n",
    "By contrast with ndarray, Python lists are one-dimensional. That just means they take a single index:"
   ]
  },
  {
   "cell_type": "code",
   "execution_count": null,
   "metadata": {},
   "outputs": [],
   "source": [
    "my_list[1] ## a list takes one index"
   ]
  },
  {
   "cell_type": "code",
   "execution_count": null,
   "metadata": {},
   "outputs": [],
   "source": [
    "my_list[2] ## the index can be anything from 0 to len(my_list - 1)"
   ]
  },
  {
   "cell_type": "code",
   "execution_count": null,
   "metadata": {},
   "outputs": [],
   "source": [
    "my_list[-1] ## a special notation for getting the last item"
   ]
  },
  {
   "cell_type": "markdown",
   "metadata": {},
   "source": [
    "### Example: An `ndarray` of Zeros\n",
    "\n",
    "Let's make a numpy array that takes two indices and starts off with all zeros."
   ]
  },
  {
   "cell_type": "code",
   "execution_count": null,
   "metadata": {},
   "outputs": [],
   "source": [
    "# You know that import brings in optional libraries.\n",
    "# By bringing in the library \"as np\" our prefixes for library functions aren't as long.\n",
    "\n",
    "import numpy as np\n",
    "\n",
    "all_zeros = np.zeros((3, 4))  ## The np library function that creates an array of all zeros.\n",
    "\n",
    "all_zeros[1, 2] # check that out -- it takes two indices!"
   ]
  },
  {
   "cell_type": "markdown",
   "metadata": {},
   "source": [
    "Just like Python lists, the indices number from 0.\n",
    "\n",
    "So in the `all_zeros` array, the first index goes from 0 to 2 and the second index goes from 0 to 3."
   ]
  },
  {
   "cell_type": "code",
   "execution_count": null,
   "metadata": {},
   "outputs": [],
   "source": [
    "# Let's put the second index out of bounds:\n",
    "\n",
    "all_zeros[1, 4] # should fail"
   ]
  },
  {
   "cell_type": "markdown",
   "metadata": {},
   "source": [
    "### Rows and Columns\n",
    "\n",
    "An array with two indices is said to be two-dimensional.\n",
    "\n",
    "For two-dimensional arrays it is easy to have a mental picture of a grid of numbers. (For 3-dimensional and higher it is harder to have a mental picture.)\n",
    "\n",
    "The rows in the grid are specified by the first axis (which is axis 0).\n",
    "\n",
    "The columns of the grid are specified by the second axis (which is axis 1).\n",
    "\n",
    "So our all_zeros array has 3 rows and 4 columns. *Don't picture this as 3 columns and 4 rows or you will not be in agreement with the convention.*\n",
    "\n",
    "Here is how Python and Jupyter display our 3x4 all_zeros array:"
   ]
  },
  {
   "cell_type": "code",
   "execution_count": null,
   "metadata": {},
   "outputs": [],
   "source": [
    "all_zeros"
   ]
  },
  {
   "cell_type": "markdown",
   "metadata": {},
   "source": [
    "### An `ndarray` of Ascending Integers"
   ]
  },
  {
   "cell_type": "code",
   "execution_count": null,
   "metadata": {},
   "outputs": [],
   "source": [
    "# The following is intentionally similar to the range function:\n",
    "ascending = np.arange(0, 15)\n",
    "\n",
    "ascending"
   ]
  },
  {
   "cell_type": "markdown",
   "metadata": {},
   "source": [
    "## Array Shape and Reshaping\n",
    "\n",
    "Apparently `ascending` is alot like a 1-axis list that runs from 0 to 14.\n",
    "\n",
    "We can reshape it!\n",
    "\n",
    "If we make it have three rows and five columns, will we get:\n",
    "    \n",
    "```\n",
    "array([[ 0,  1,  2,  3,  4],\n",
    "       [ 5,  6,  7,  8,  9],\n",
    "       [10, 11, 12, 13, 14]])\n",
    "```\n",
    "\n",
    "or will we get\n",
    "\n",
    "```\n",
    "array([[0, 3, 6,  9, 12],\n",
    "       [1, 4, 7, 10, 13],\n",
    "       [2, 5, 8, 11, 14]])\n",
    "```\n",
    "\n",
    "We just try it:"
   ]
  },
  {
   "cell_type": "code",
   "execution_count": null,
   "metadata": {},
   "outputs": [],
   "source": [
    "ascending = ascending.reshape(3, 5)\n",
    "\n",
    "ascending"
   ]
  },
  {
   "cell_type": "markdown",
   "metadata": {},
   "source": [
    "This is very significant. It tells us that ndarray things of the last axis as the one that is changing \n",
    "most rapidly. It's just like digits when you count. The last digit changes most rapidly.\n",
    "\n",
    "```\n",
    "6458\n",
    "6459\n",
    "6460\n",
    "6461\n",
    "6462\n",
    "```\n",
    "\n",
    "That's just a convention. We could have had the first digit change the most rapidly\n",
    "\n",
    "```\n",
    "6458\n",
    "7458\n",
    "8458\n",
    "9458\n",
    "0558\n",
    "```\n",
    "\n",
    "That's just weird, but is just a convention. We put the least-significant digit on the right, not the left.\n",
    "\n",
    "So does numpy. The elements in ascending order are.\n",
    "\n",
    "```\n",
    "ascending[0, 0]\n",
    "ascending[0, 1]\n",
    "ascending[0, 2]\n",
    "ascending[0, 3]\n",
    "ascending[0, 4]\n",
    "ascending[1, 0]\n",
    "ascending[1, 1]\n",
    "ascending[1, 2]\n",
    "ascending[1, 3]\n",
    "ascending[1, 4]\n",
    "ascending[2, 0]\n",
    "ascending[2, 1]\n",
    "ascending[2, 2]\n",
    "ascending[2, 3]\n",
    "ascending[2, 4]\n",
    "```\n",
    "\n",
    "So the sixth element is the [1, 0] element and it better be 5."
   ]
  },
  {
   "cell_type": "code",
   "execution_count": null,
   "metadata": {},
   "outputs": [],
   "source": [
    "ascending[1, 0]"
   ]
  },
  {
   "cell_type": "markdown",
   "metadata": {},
   "source": [
    "### Reshaping Makes a Copy\n",
    "\n",
    "Let's make ascending have 5 rows and 3 columns\n",
    "\n",
    "Then let's access element [4, 1]. Something will go wrong."
   ]
  },
  {
   "cell_type": "code",
   "execution_count": null,
   "metadata": {},
   "outputs": [],
   "source": [
    "ascending.reshape(5, 3)"
   ]
  },
  {
   "cell_type": "code",
   "execution_count": null,
   "metadata": {},
   "outputs": [],
   "source": [
    "ascending[4, 1]"
   ]
  },
  {
   "cell_type": "markdown",
   "metadata": {},
   "source": [
    "What went wrong?\n",
    "\n",
    "```\n",
    "ascending.reshape(5, 3)\n",
    "```\n",
    "\n",
    "seemed like it did what we wanted.\n",
    "\n",
    "However, it made a copy of itself. It did not change itself. Instead\n",
    "\n",
    "```\n",
    "ascending.reshape(5, 3)\n",
    "```\n",
    "\n",
    "returned the copy and we did not save the copy anywhere.\n",
    "\n",
    "Usually when you reshape you want the copy not the original, so you reshape and overwrite the original as follows:"
   ]
  },
  {
   "cell_type": "code",
   "execution_count": null,
   "metadata": {},
   "outputs": [],
   "source": [
    "ascending = ascending.reshape(5, 3)\n",
    "\n",
    "ascending"
   ]
  },
  {
   "cell_type": "markdown",
   "metadata": {},
   "source": [
    "Now we are able to access row 4, column 1 of ascending:"
   ]
  },
  {
   "cell_type": "code",
   "execution_count": null,
   "metadata": {},
   "outputs": [],
   "source": [
    "ascending[4, 1]"
   ]
  },
  {
   "cell_type": "markdown",
   "metadata": {},
   "source": [
    "### Transposition\n",
    "\n",
    "It seems a little annoying that we don't yet have a way of getting this array:\n",
    "\n",
    "```\n",
    "array([[0, 3, 6,  9, 12],\n",
    "       [1, 4, 7, 10, 13],\n",
    "       [2, 5, 8, 11, 14]])\n",
    "```\n",
    "\n",
    "Here is how to do it:"
   ]
  },
  {
   "cell_type": "code",
   "execution_count": null,
   "metadata": {},
   "outputs": [],
   "source": [
    "ascending = np.arange(0, 15)\n",
    "\n",
    "ascending = ascending.reshape(5, 3)\n",
    "\n",
    "ascending"
   ]
  },
  {
   "cell_type": "code",
   "execution_count": null,
   "metadata": {},
   "outputs": [],
   "source": [
    "np.transpose(ascending)"
   ]
  },
  {
   "cell_type": "markdown",
   "metadata": {},
   "source": [
    "As with reshape, transpose made and returned a copy.\n",
    "\n",
    "So we have lost our change:"
   ]
  },
  {
   "cell_type": "code",
   "execution_count": null,
   "metadata": {},
   "outputs": [],
   "source": [
    "ascending"
   ]
  },
  {
   "cell_type": "markdown",
   "metadata": {},
   "source": [
    "Here is how to keep the copy:"
   ]
  },
  {
   "cell_type": "code",
   "execution_count": null,
   "metadata": {},
   "outputs": [],
   "source": [
    "ascending = np.transpose(ascending)\n",
    "\n",
    "ascending"
   ]
  },
  {
   "cell_type": "markdown",
   "metadata": {},
   "source": [
    "## Vectorized Operations\n",
    "\n",
    "I haven't given you one of the main reasons why numpy is high-performance!\n",
    "\n",
    "It supports vectorized operations, and this means that all the processors (also known as cores) on a multi-processor computer can work in parallel.\n",
    "\n",
    "For the Python list, this is illegal:"
   ]
  },
  {
   "cell_type": "code",
   "execution_count": null,
   "metadata": {},
   "outputs": [],
   "source": [
    "times = [0.0, 0.1, 0.2, 0.3]\n",
    "\n",
    "stopwatch_start_time = 5.0\n",
    "\n",
    "times = times + stopwatch_start_time"
   ]
  },
  {
   "cell_type": "markdown",
   "metadata": {},
   "source": [
    "You wish that would have returned\n",
    "\n",
    "```\n",
    "[5.0, 5.1, 5.2, 5.3]\n",
    "```"
   ]
  },
  {
   "cell_type": "markdown",
   "metadata": {},
   "source": [
    "Let's try the same thing with ndarray:"
   ]
  },
  {
   "cell_type": "code",
   "execution_count": null,
   "metadata": {},
   "outputs": [],
   "source": [
    "times = np.arange(0.0, 0.4, 0.1)\n",
    "\n",
    "times"
   ]
  },
  {
   "cell_type": "markdown",
   "metadata": {},
   "source": [
    "You can already tell that richer things than can happen in standard Python are happending.\n",
    "\n",
    "This wasn't even legal with the ordinary Python library."
   ]
  },
  {
   "cell_type": "code",
   "execution_count": null,
   "metadata": {},
   "outputs": [],
   "source": [
    "range(0.0, 0.4, 0.1)"
   ]
  },
  {
   "cell_type": "markdown",
   "metadata": {},
   "source": [
    "Now let's see what else we can get away with using the numpy library:"
   ]
  },
  {
   "cell_type": "code",
   "execution_count": null,
   "metadata": {},
   "outputs": [],
   "source": [
    "times = times + stopwatch_start_time\n",
    "\n",
    "times"
   ]
  },
  {
   "cell_type": "markdown",
   "metadata": {},
   "source": [
    "That's exactly what we wanted.\n",
    "\n",
    "Here's more stuff you can do that cannot be done with the standard Python lists:"
   ]
  },
  {
   "cell_type": "code",
   "execution_count": null,
   "metadata": {},
   "outputs": [],
   "source": [
    "# the following illustrates a new function that converts a list to an ndarray\n",
    "\n",
    "some_numbers_to_cube = np.array([2.0, 4.0, 6.0, 8.0]) \n",
    "some_numbers_to_cube"
   ]
  },
  {
   "cell_type": "code",
   "execution_count": null,
   "metadata": {},
   "outputs": [],
   "source": [
    "some_numbers_to_cube**3"
   ]
  },
  {
   "cell_type": "markdown",
   "metadata": {},
   "source": [
    "You can see that ndarray allows you to do things very cleanly and clearly that aren't even legal with the ordinary Python list.\n",
    "\n",
    "As usual, you get a copy and the original is unmodified."
   ]
  },
  {
   "cell_type": "code",
   "execution_count": null,
   "metadata": {},
   "outputs": [],
   "source": [
    "some_numbers_to_cube"
   ]
  },
  {
   "cell_type": "markdown",
   "metadata": {},
   "source": [
    "## Random Numbers and Histograms\n",
    "\n",
    "Almost anything you could want to do in science including statistical analysis is possible with numpy.\n",
    "\n",
    "Let's make a lot of random numbers:"
   ]
  },
  {
   "cell_type": "code",
   "execution_count": null,
   "metadata": {},
   "outputs": [],
   "source": [
    "%matplotlib inline\n",
    "import matplotlib.pyplot as plt\n",
    "\n",
    "# Sample a normal distribution standard deviation of 0.5 and mean of 2.0\n",
    "\n",
    "mu = 2.0\n",
    "sigma = 0.5\n",
    "\n",
    "samples = np.random.normal(mu, sigma, 10000)\n",
    "\n",
    "samples"
   ]
  },
  {
   "cell_type": "markdown",
   "metadata": {},
   "source": [
    "We just made 10,000 samples. Fortunately Jupyter knows not to print them all. It omitted a lot with ... notation.\n",
    "\n",
    "Let's plot the samples:"
   ]
  },
  {
   "cell_type": "code",
   "execution_count": null,
   "metadata": {},
   "outputs": [],
   "source": [
    "%matplotlib inline\n",
    "import matplotlib.pyplot as plt\n",
    "\n",
    "# Use matplotlib histogram function\n",
    "plt.hist(samples)\n",
    "plt.show()"
   ]
  },
  {
   "cell_type": "code",
   "execution_count": null,
   "metadata": {},
   "outputs": [],
   "source": [
    "# Want more detail?\n",
    "plt.hist(samples, bins=50)\n",
    "plt.show()"
   ]
  },
  {
   "cell_type": "code",
   "execution_count": null,
   "metadata": {},
   "outputs": [],
   "source": [
    "# Want it normalized?\n",
    "plt.hist(samples, bins=50, density=1)\n",
    "plt.show()"
   ]
  },
  {
   "cell_type": "markdown",
   "metadata": {},
   "source": [
    "## Conclusion\n",
    "\n",
    "\n",
    "You have seen a ton of new stuff. Continuing to learn the features of numpy with the SciPy [numpy Quickstart tutorial](https://docs.scipy.org/doc/numpy/user/quickstart.html) would be one way to continue if you want to learn more.\n",
    "\n",
    "**Stop here. Below is what I am going to discuss once everyone is done.**\n",
    "\n",
    "### Library Functions, Objects, and the Dot Operator\n",
    "\n",
    "You have seen the . operator being used in two quite different ways. This operator is the \"dot\" operator. It accesses attributes and methods of classes and objects. So we need to discuss what these examples are doing as our computer science topic for today:\n",
    "\n",
    "* Library Functions\n",
    "  * Example: `ascending = np.arange(0, 15)`\n",
    "* Objects\n",
    "  * Example: `ascending = ascending.reshape(3, 5)`\n",
    "  \n",
    "`np` is a module that was imported using:\n",
    "\n",
    "```\n",
    "import numpy as np\n",
    "```\n",
    "\n",
    "`ascending` is an object that was created using:\n",
    "\n",
    "```\n",
    "ascending = np.arange(0, 15)\n",
    "```\n",
    "\n",
    "`np.arange` is a library function.\n",
    "\n",
    "`reshape` is a method. A method is a special type of function that can act on the object it is called with."
   ]
  }
 ],
 "metadata": {
  "kernelspec": {
   "display_name": "Python 3",
   "language": "python",
   "name": "python3"
  },
  "language_info": {
   "codemirror_mode": {
    "name": "ipython",
    "version": 3
   },
   "file_extension": ".py",
   "mimetype": "text/x-python",
   "name": "python",
   "nbconvert_exporter": "python",
   "pygments_lexer": "ipython3",
   "version": "3.7.4"
  }
 },
 "nbformat": 4,
 "nbformat_minor": 2
}
