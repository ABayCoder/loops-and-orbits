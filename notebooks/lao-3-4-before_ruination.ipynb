{
 "cells": [
  {
   "cell_type": "markdown",
   "metadata": {},
   "source": [
    "# Loops & Orbits &mdash; Week 3 &mdash; Day 4 &mdash; Jupyter Notebook\n",
    "\n",
    "## Rocket Burns for Transfer Orbits\n",
    "\n",
    "Our last topic is the rocket burns needed to leave a transfer orbit. The idea we are going to implement is that our satellite is in a low circular orbit and we want to compute the rocket burns needed to get to a larger circular orbit. It turns out this can be achieved with two burns, the first burn puts the satellite into an elliptical orbit, and the second burn circularizes that orbit.\n",
    "\n",
    "This is a kind of orbital insertion. It is far more difficult to do orbital insertion for interplanetary travel.\n",
    "\n",
    "First, grab all of the imports. **Just execute the imports.** There is nothing here for you to change."
   ]
  },
  {
   "cell_type": "code",
   "execution_count": 14,
   "metadata": {},
   "outputs": [],
   "source": [
    "# Important math functions and the constant pi:\n",
    "from math import sin, cos, atan2, sqrt, pi\n",
    "\n",
    "# Use numpy library for dealing with arrays of floats:\n",
    "import numpy as np\n",
    "\n",
    "# Today we are adding Pandas for data presentation:\n",
    "import pandas as pd\n",
    "\n",
    "# The following import statement makes the plotting library available to us. There is also a mysterious\n",
    "# statement beginning with % to work around a known Jupyter bug: https://github.com/jupyter/notebook/issues/3670\n",
    "%matplotlib inline\n",
    "import matplotlib.pyplot as plt\n",
    "\n",
    "# Use unit testing framework to test each function we write:\n",
    "import unittest"
   ]
  },
  {
   "cell_type": "markdown",
   "metadata": {},
   "source": [
    "Next, define all the constants. **Just execute these assignments.**\n",
    "\n",
    "All of the constants are now in kilometers instead of meters.\n",
    "\n",
    "All times are now in minutes.\n",
    "\n",
    "Conversion factors to standard MKS units are included at the bottom of the cell."
   ]
  },
  {
   "cell_type": "code",
   "execution_count": 2,
   "metadata": {},
   "outputs": [],
   "source": [
    "# The following two parameters are get us the strength of gravity at various heights:\n",
    "g = 35.32                # 35.32 km/min**2 at Earth surface\n",
    "radius_of_earth = 6371.0 # Earth radius in km\n",
    "\n",
    "# The following two variables define the cannonball launch conditions:\n",
    "initial_position = [0.0, radius_of_earth + 500.0]  # satellite begins at a 500 km high orbit\n",
    "initial_velocity = [456.7, 0.0]                    # 456.7 km/min maintains the 500 km high orbit\n",
    "\n",
    "# Properties of burns\n",
    "burns = [(92, 3.8), (184.8, 3.130)]  # Best is 184.8 and 3.13 # start them with 1800.0 and 1.0\n",
    "burn_strength = 20.0\n",
    "\n",
    "# The following two parameters establish the simulation time step and its maximum total duration:\n",
    "delta_t = 0.05                # simulation time step in minutes --- 0.05 is every three seconds\n",
    "# For one burn resulting in an elliptical orbit, 5600 is a good value (that is 280 minutes)\n",
    "simulation_time_steps = 9600  # For two-burn transfer orbit, change this to 9600 for 480 minutes (that is 8 hours)\n",
    "\n",
    "# rocket mass\n",
    "rocket_mass = 30000 # Mercury-Redstone launch mass in kg\n",
    "\n",
    "# Because we are working in kilometers and minutes, if we want energy in Joules, we need to convert\n",
    "meters_per_kilometer = 1000.0 # needed for conversion to Joules -- two lines below\n",
    "seconds_per_minute = 60.0 # needed for conversion to Joules -- one line below\n",
    "conversion_to_joules = (meters_per_kilometer / seconds_per_minute)**2"
   ]
  },
  {
   "cell_type": "markdown",
   "metadata": {},
   "source": [
    "## Functions for Working with Vectors\n",
    "\n",
    "All of these have already appeared in previous notebooks."
   ]
  },
  {
   "cell_type": "code",
   "execution_count": 3,
   "metadata": {},
   "outputs": [
    {
     "name": "stderr",
     "output_type": "stream",
     "text": [
      "test_angle_from_vector (__main__.VectorTests) ... ok\n",
      "test_length_from_vector (__main__.VectorTests) ... ok\n",
      "test_vector_from_length_and_angle (__main__.VectorTests) ... ok\n",
      "\n",
      "----------------------------------------------------------------------\n",
      "Ran 3 tests in 0.002s\n",
      "\n",
      "OK\n"
     ]
    },
    {
     "data": {
      "text/plain": [
       "<unittest.runner.TextTestResult run=3 errors=0 failures=0>"
      ]
     },
     "execution_count": 3,
     "metadata": {},
     "output_type": "execute_result"
    }
   ],
   "source": [
    "# computes horizontal and vertical components of a vector and returns them as a tuple\n",
    "def vector_from_length_and_angle(length: float, angle: float) -> np.ndarray:\n",
    "    # we are working in degrees -- python's are expecting radians -- convert degrees to radian\n",
    "    angle_in_radians = angle * pi / 180.0\n",
    "    x_component = length * cos(angle_in_radians)\n",
    "    y_component = length * sin(angle_in_radians)\n",
    "    return np.array([x_component, y_component])\n",
    "\n",
    "# get angle from components using atan2 version of arctangent function -- result is converted to degrees\n",
    "def angle_from_vector(vector: np.ndarray) -> float:\n",
    "    # use the arctangent function\n",
    "    angle_in_radians = atan2(vector[1], vector[0])  \n",
    "    # we are working in degrees -- python's functions return radians -- convert radians to degrees\n",
    "    angle = angle_in_radians * 180.0 / pi\n",
    "    # return the result\n",
    "    return angle\n",
    "\n",
    "# get length from components using Pythagorean theorem\n",
    "def length_from_vector(vector: np.ndarray) -> float:\n",
    "    length_squared = np.sum(vector**2)\n",
    "    return sqrt(length_squared)\n",
    "\n",
    "### Unit tests ###\n",
    "\n",
    "class VectorTests(unittest.TestCase):\n",
    "    \n",
    "    def test_vector_from_length_and_angle(self):\n",
    "        vector = vector_from_length_and_angle(1000.0, 30.0)\n",
    "        expected_vector = np.array([866.02540378, 500.0])\n",
    "        self.assertTrue(np.allclose(vector, expected_vector),\n",
    "                        msg=\"Expected {}, but got {}\".format(expected_vector, vector))\n",
    "        \n",
    "    def test_angle_from_vector(self):\n",
    "        angle = angle_from_vector(np.array([866.02540378, 500.0]))\n",
    "        self.assertAlmostEqual(angle, 30.0)\n",
    "        \n",
    "    def test_length_from_vector(self):\n",
    "        length = length_from_vector(np.array([5.0, 12.0]))\n",
    "        self.assertAlmostEqual(length, 13.0)\n",
    "\n",
    "testSuite = unittest.TestLoader().loadTestsFromName(\"__main__.VectorTests\")\n",
    "testRunner = unittest.TextTestRunner(verbosity=2)\n",
    "testRunner.run(testSuite)"
   ]
  },
  {
   "cell_type": "markdown",
   "metadata": {},
   "source": [
    "## Functions to Get Acceleration due to Gravity\n",
    "\n",
    "These are functions you implemented in the previous notebook. **Just execute the cell.**"
   ]
  },
  {
   "cell_type": "code",
   "execution_count": 4,
   "metadata": {},
   "outputs": [
    {
     "name": "stderr",
     "output_type": "stream",
     "text": [
      "test_acceleration_from_gravity_4g_up (__main__.GravityTests) ... ok\n",
      "test_acceleration_from_gravity_g_left (__main__.GravityTests) ... ok\n",
      "test_direction_of_gravity_left (__main__.GravityTests) ... ok\n",
      "test_direction_of_gravity_up (__main__.GravityTests) ... ok\n",
      "test_strength_of_gravity (__main__.GravityTests) ... ok\n",
      "test_strength_of_gravity_high_up (__main__.GravityTests) ... ok\n",
      "\n",
      "----------------------------------------------------------------------\n",
      "Ran 6 tests in 0.005s\n",
      "\n",
      "OK\n"
     ]
    },
    {
     "data": {
      "text/plain": [
       "<unittest.runner.TextTestResult run=6 errors=0 failures=0>"
      ]
     },
     "execution_count": 4,
     "metadata": {},
     "output_type": "execute_result"
    }
   ],
   "source": [
    "# The fancy function declaration with the : after position and the -> before float\n",
    "# says what the type of the argument and the return value is. The older, simpler way we were\n",
    "# declaring functions would have just begun with:\n",
    "\n",
    "# def strength_of_gravity(position):\n",
    "      # this function encodes the strength of gravity....\n",
    "    \n",
    "# The new way of doing declarations is longer, and it is a matter of taste whether it helps readability.\n",
    "# The new way of doing declarations says the position arguments is an np.ndarray (a numpy\n",
    "# n-dimensional array). It says that the function returns a Boolean.\n",
    "def strength_of_gravity(position: np.ndarray) -> float:\n",
    "    # this function encodes the strength of gravity as a function of distance from the center of the Earth\n",
    "    radius = length_from_vector(position)\n",
    "    strength = g * radius_of_earth**2 / radius**2\n",
    "    return strength\n",
    "\n",
    "def direction_of_gravity(position: np.ndarray) -> np.ndarray:\n",
    "    # this function encodes the direction of gravity (the angle)\n",
    "    # gravity is attractive -- it always points toward the center of the Earth\n",
    "    direction = angle_from_vector(position) + 180.0\n",
    "    return direction\n",
    "\n",
    "def acceleration_from_gravity(position: np.ndarray) -> np.ndarray:\n",
    "    # using the strength and direction functions you have just implemented compute and\n",
    "    # returns a 2x1 array for the acceleration of gravity\n",
    "    strength = strength_of_gravity(position)\n",
    "    direction = direction_of_gravity(position)\n",
    "    acceleration = vector_from_length_and_angle(strength, direction)\n",
    "    return acceleration\n",
    "\n",
    "### Unit tests ###\n",
    "\n",
    "class GravityTests(unittest.TestCase):\n",
    "\n",
    "    # tests of strength\n",
    "\n",
    "    def test_strength_of_gravity(self):\n",
    "        position = np.array([radius_of_earth, 0.0])\n",
    "        strength = strength_of_gravity(position)\n",
    "        self.assertAlmostEqual(strength, g)\n",
    "\n",
    "    def test_strength_of_gravity_high_up(self):\n",
    "        position = np.array([0.0, 2.0 * radius_of_earth])\n",
    "        strength = strength_of_gravity(position)\n",
    "        self.assertAlmostEqual(strength, 0.25 * g)\n",
    "        \n",
    "    # tests of direction\n",
    "        \n",
    "    def test_direction_of_gravity_left(self):\n",
    "        position = np.array([100.0, 0.0])\n",
    "        direction = direction_of_gravity(position)\n",
    "        self.assertEqual(direction, 180.0)\n",
    "\n",
    "    def test_direction_of_gravity_up(self):\n",
    "        position = np.array([0.0, -100.0])\n",
    "        direction = direction_of_gravity(position)\n",
    "        self.assertEqual(direction, 90.0)\n",
    "        \n",
    "    # tests of acceleration\n",
    "\n",
    "    def test_acceleration_from_gravity_g_left(self):\n",
    "        position = np.array([radius_of_earth, 0.0])\n",
    "        acceleration = acceleration_from_gravity(position)\n",
    "        expected_acceleration = np.array([-g, 0.0])\n",
    "        self.assertTrue(np.allclose(acceleration, expected_acceleration),\n",
    "                        msg=\"Expected {}, but got {}\".format(expected_acceleration, acceleration))\n",
    "\n",
    "    def test_acceleration_from_gravity_4g_up(self):\n",
    "        position = np.array([0.0, -radius_of_earth / 2.0])\n",
    "        acceleration = acceleration_from_gravity(position)\n",
    "        expected_acceleration = np.array([0.0, 4.0 * g])\n",
    "        self.assertTrue(np.allclose(acceleration, expected_acceleration),\n",
    "                        msg=\"Expected {}, but got {}\".format(expected_acceleration, acceleration))\n",
    "\n",
    "testSuite = unittest.TestLoader().loadTestsFromName(\"__main__.GravityTests\")\n",
    "testRunner = unittest.TextTestRunner(verbosity=2)\n",
    "testRunner.run(testSuite)\n"
   ]
  },
  {
   "cell_type": "markdown",
   "metadata": {},
   "source": [
    "## Functions to get Acceleration due to Thrust\n",
    "\n",
    "**You will implement the first of the three functions below.** There are six unit tests to make sure that you have done the burn times correctly."
   ]
  },
  {
   "cell_type": "code",
   "execution_count": 5,
   "metadata": {},
   "outputs": [
    {
     "name": "stderr",
     "output_type": "stream",
     "text": [
      "test_strength_of_thrust_after_first_burn (__main__.BurnTests) ... ok\n",
      "test_strength_of_thrust_after_last_burn (__main__.BurnTests) ... ok\n",
      "test_strength_of_thrust_before_first_burn (__main__.BurnTests) ... ok\n",
      "test_strength_of_thrust_before_last_burn (__main__.BurnTests) ... ok\n",
      "test_strength_of_thrust_during_first_burn (__main__.BurnTests) ... ok\n",
      "test_strength_of_thrust_during_last_burn (__main__.BurnTests) ... ok\n",
      "\n",
      "----------------------------------------------------------------------\n",
      "Ran 6 tests in 0.004s\n",
      "\n",
      "OK\n"
     ]
    },
    {
     "data": {
      "text/plain": [
       "<unittest.runner.TextTestResult run=6 errors=0 failures=0>"
      ]
     },
     "execution_count": 5,
     "metadata": {},
     "output_type": "execute_result"
    }
   ],
   "source": [
    "def strength_of_thrust(time: float) -> float:\n",
    "    for burn in burns:\n",
    "        # unpack the tuple\n",
    "        burn_begin_time, burn_duration = burn\n",
    "        if burn_begin_time < time < burn_begin_time + burn_duration:\n",
    "            return burn_strength\n",
    "    # time was not during a burn\n",
    "    return 0.0\n",
    "\n",
    "def direction_of_thrust(velocity: np.ndarray) -> np.ndarray:\n",
    "    # this function encodes the direction of thrust (the angle)\n",
    "    direction = angle_from_vector(velocity)\n",
    "    return direction\n",
    "\n",
    "def acceleration_from_thrust(time: float, velocity: np.ndarray) -> np.ndarray:\n",
    "    # using the strength and direction function, compute\n",
    "    # a 2x1 array for the acceleration from thrust\n",
    "    strength = strength_of_thrust(time)\n",
    "    direction = direction_of_thrust(velocity)\n",
    "    acceleration = vector_from_length_and_angle(strength, direction)\n",
    "    return acceleration\n",
    "\n",
    "\n",
    "### Unit tests ###\n",
    "\n",
    "class BurnTests(unittest.TestCase):\n",
    "\n",
    "    # tests of strength\n",
    "\n",
    "    def test_strength_of_thrust_before_first_burn(self):\n",
    "        first_burn = burns[0]\n",
    "        burn_begin_time, burn_duration = first_burn\n",
    "        time = burn_begin_time - 0.1\n",
    "        strength = strength_of_thrust(time)\n",
    "        self.assertAlmostEqual(strength, 0.0)\n",
    "\n",
    "    def test_strength_of_thrust_during_first_burn(self):\n",
    "        first_burn = burns[0]\n",
    "        burn_begin_time, burn_duration = first_burn\n",
    "        time = burn_begin_time + 0.5 * burn_duration\n",
    "        strength = strength_of_thrust(time)\n",
    "        self.assertAlmostEqual(strength, burn_strength)\n",
    "        \n",
    "    def test_strength_of_thrust_after_first_burn(self):\n",
    "        first_burn = burns[0]\n",
    "        burn_begin_time, burn_duration = first_burn\n",
    "        time = burn_begin_time + burn_duration + 0.1\n",
    "        strength = strength_of_thrust(time)\n",
    "        self.assertAlmostEqual(strength, 0.0)\n",
    "\n",
    "    def test_strength_of_thrust_before_last_burn(self):\n",
    "        last_burn = burns[-1]\n",
    "        burn_begin_time, burn_duration = last_burn\n",
    "        time = burn_begin_time - 0.1\n",
    "        strength = strength_of_thrust(time)\n",
    "        self.assertAlmostEqual(strength, 0.0)\n",
    "\n",
    "    def test_strength_of_thrust_during_last_burn(self):\n",
    "        last_burn = burns[-1]\n",
    "        burn_begin_time, burn_duration = last_burn\n",
    "        time = burn_begin_time + 0.5 * burn_duration\n",
    "        strength = strength_of_thrust(time)\n",
    "        self.assertAlmostEqual(strength, burn_strength)\n",
    "        \n",
    "    def test_strength_of_thrust_after_last_burn(self):\n",
    "        last_burn = burns[-1]\n",
    "        burn_begin_time, burn_duration = last_burn\n",
    "        time = burn_begin_time + burn_duration + 0.1\n",
    "        strength = strength_of_thrust(time)\n",
    "        self.assertAlmostEqual(strength, 0.0)\n",
    "\n",
    "testSuite = unittest.TestLoader().loadTestsFromName(\"__main__.BurnTests\")\n",
    "testRunner = unittest.TextTestRunner(verbosity=2)\n",
    "testRunner.run(testSuite)\n"
   ]
  },
  {
   "cell_type": "markdown",
   "metadata": {},
   "source": [
    "## The While Loop That Does the Work &mdash; 2nd Order Runge-Kutta\n",
    "\n",
    "**There is nothing for you to change below. You can just execute it once you've got your functions implemented.**"
   ]
  },
  {
   "cell_type": "code",
   "execution_count": 6,
   "metadata": {},
   "outputs": [],
   "source": [
    "# Initialize the x and y velocities\n",
    "velocities = np.zeros((simulation_time_steps, 2))\n",
    "velocities[0] = initial_velocity\n",
    "\n",
    "# Initialize the x and y positions\n",
    "positions = np.zeros((simulation_time_steps, 2))\n",
    "positions[0] = initial_position\n",
    "\n",
    "# Initialize the times\n",
    "times = np.zeros((simulation_time_steps,))\n",
    "\n",
    "# The 0th elements of velocities, positions, and times are already filled in, so start with 1\n",
    "for i in range(1, simulation_time_steps):\n",
    "    #\n",
    "    # get all the before values\n",
    "    #\n",
    "    # velocities\n",
    "    before_velocity = velocities[i - 1]\n",
    "    # positions\n",
    "    before_position = positions[i - 1]\n",
    "    # time\n",
    "    before_time = times[i - 1]\n",
    "    #\n",
    "    # fundamental change for 2nd-order Runge-Kutta -- estimate mid_position\n",
    "    #\n",
    "    mid_position = before_position + 0.5 * delta_t * before_velocity\n",
    "    #\n",
    "    # need before_acceleration\n",
    "    #\n",
    "    before_acceleration = acceleration_from_gravity(before_position) + acceleration_from_thrust(before_time, before_velocity)\n",
    "    #\n",
    "    # now can get mid_velocity estimate\n",
    "    #\n",
    "    mid_velocity = before_velocity + 0.5 * delta_t * before_acceleration\n",
    "    #\n",
    "    # also compute mid_time\n",
    "    #\n",
    "    mid_time = before_time + 0.5 * delta_t\n",
    "    #\n",
    "    # Using mid_position, mid_velocity, and mid_time compute mid_acceleration\n",
    "    #\n",
    "    mid_acceleration = acceleration_from_gravity(mid_position) + acceleration_from_thrust(mid_time, mid_velocity)\n",
    "    #\n",
    "    # calculate after_velocity using mid_acceleration\n",
    "    #\n",
    "    after_velocity = before_velocity + delta_t * mid_acceleration\n",
    "    #\n",
    "    # calculate after_position using the democratic combination \n",
    "    # of (after_velocity + before_velocity) / 2\n",
    "    #\n",
    "    after_position = before_position + delta_t * (after_velocity + before_velocity) / 2.0\n",
    "    #\n",
    "    # update time\n",
    "    #\n",
    "    after_time = before_time + delta_t\n",
    "    #\n",
    "    # assign the after values into their lists\n",
    "    #\n",
    "    velocities[i] = after_velocity\n",
    "    positions[i] = after_position\n",
    "    times[i] = after_time\n"
   ]
  },
  {
   "cell_type": "markdown",
   "metadata": {},
   "source": [
    "## Construct a Panda DataFrame"
   ]
  },
  {
   "cell_type": "code",
   "execution_count": 7,
   "metadata": {},
   "outputs": [],
   "source": [
    "df = pd.DataFrame({\n",
    "    'time' : times[:],\n",
    "    'x_pos' : positions[:, 0],\n",
    "    'y_pos' : positions[:, 1],\n",
    "    'x_vel' : velocities[:, 0],\n",
    "    'y_vel' : velocities[:, 1]\n",
    "})\n",
    "\n",
    "# radius\n",
    "df['radius'] = (df.x_pos**2 + df.y_pos**2)**0.5\n",
    "# use the radius to get the elevation\n",
    "df['elevation'] = df.radius - radius_of_earth\n",
    "# get the speed\n",
    "df['speed'] = (df.x_vel**2 + df.y_vel**2)**0.5\n",
    "# construct a unit vector\n",
    "df['xs_pos'] = df.x_pos / df.radius\n",
    "df['ys_pos'] = df.y_pos / df.radius\n",
    "# dot the unit vector into the velocity to get the radial speed (rate of altitude change)\n",
    "df['radial_speed'] = df.x_vel * df.xs_pos + df.y_vel * df.ys_pos\n",
    "\n"
   ]
  },
  {
   "cell_type": "markdown",
   "metadata": {},
   "source": [
    "## Visualize the Transfer Orbit\n",
    "\n",
    "This is the same code (pretty much) as was in the previous notebook. Instead of just ellipses, we now have a circular orbit, and an elliptical orbit. The first rocket burn transitions from the low circular orbit to the elliptical orbit.\n",
    "\n",
    "**At the peak of the elliptical orbit, you need to figure out the second rocket burn that allows that orbit to be stabilized as a new higher circular orbit.**"
   ]
  },
  {
   "cell_type": "code",
   "execution_count": 8,
   "metadata": {},
   "outputs": [
    {
     "data": {
      "image/png": "[encoded data removed]",
      "text/plain": [
       "<Figure size 864x864 with 1 Axes>"
      ]
     },
     "metadata": {
      "needs_background": "light"
     },
     "output_type": "display_data"
    }
   ],
   "source": [
    "sampled_df = df[ df.index % 100 == 0 ]\n",
    "\n",
    "plt.figure(figsize=(12, 12))\n",
    "\n",
    "plt.scatter(sampled_df.x_pos, sampled_df.y_pos)\n",
    "\n",
    "plt.xlabel(\"x position (km)\")\n",
    "plt.ylabel(\"y position (km)\")\n",
    "\n",
    "# Some gibberish that draws a big blue circle representing the Earth:\n",
    "earth = plt.Circle((0, 0), radius_of_earth, color='b')\n",
    "plt.gcf().gca().add_artist(earth)\n",
    "\n",
    "# Make the plot big enough to show the original and final orbits:\n",
    "plot_limit = 8000\n",
    "plt.xlim(-2.2 * plot_limit, 2.2 * plot_limit)\n",
    "plt.ylim(-2.2 * plot_limit, 2.2 * plot_limit)\n",
    "\n",
    "plt.show()"
   ]
  },
  {
   "cell_type": "markdown",
   "metadata": {},
   "source": [
    "## Making Plots with Pandas\n",
    "\n",
    "The following is a nice example of making three subplots that share a common horizontal axis using pandas and matplotlib. As one of your last tasks in this notebook you will be making three more plots to study kinetic energy, potential energy, and total energy."
   ]
  },
  {
   "cell_type": "code",
   "execution_count": 9,
   "metadata": {},
   "outputs": [
    {
     "data": {
      "text/plain": [
       "Text(0.5, 0, 'time (minutes)')"
      ]
     },
     "execution_count": 9,
     "metadata": {},
     "output_type": "execute_result"
    },
    {
     "data": {
      "image/png": "[encoded data removed]",
      "text/plain": [
       "<Figure size 864x864 with 3 Axes>"
      ]
     },
     "metadata": {
      "needs_background": "light"
     },
     "output_type": "display_data"
    }
   ],
   "source": [
    "# Satellite Elevation and Speed\n",
    "\n",
    "fig, axs = plt.subplots(3, figsize=(12, 12), sharex=True)\n",
    "fig.suptitle('Satellite Elevation and Speed')\n",
    "\n",
    "# first subplot\n",
    "axs[0].set_ylabel('elevation (km)')\n",
    "axs[0].plot(df.time, df.elevation)\n",
    "\n",
    "# second subplot\n",
    "axs[1].set_ylabel('speed (km/min)')\n",
    "axs[1].plot(df.time, df.speed)\n",
    "\n",
    "# third subplot\n",
    "axs[2].set_ylabel('radial speed (km/min)')\n",
    "axs[2].plot(df.time, df.radial_speed)\n",
    "\n",
    "# On the third of the three subplots only, label the horizontal axis\n",
    "axs[2].set_xlabel('time (minutes)')"
   ]
  },
  {
   "cell_type": "markdown",
   "metadata": {},
   "source": [
    "## Energy Calculations\n",
    "\n",
    "### From Speed Construct Kinetic Energy\n",
    "\n",
    "The formula for kinetic energy is on the board.\n",
    "\n",
    "Make `ke` a new column in the Panda data frame.\n",
    "\n",
    "This is a one-liner in Pandas. Just look at how it was done in the section titled \"Construct a Panda Data Frame.\""
   ]
  },
  {
   "cell_type": "code",
   "execution_count": 10,
   "metadata": {},
   "outputs": [],
   "source": [
    "df['ke'] = 0.5 * rocket_mass * df.speed**2 * conversion_to_joules"
   ]
  },
  {
   "cell_type": "markdown",
   "metadata": {},
   "source": [
    "### From Radius Construct Potential Energy\n",
    "\n",
    "The formula for potential energy is on the board.\n",
    "\n",
    "Make `pe` a new column in the Panda data frame. This is another one-liner."
   ]
  },
  {
   "cell_type": "code",
   "execution_count": 11,
   "metadata": {},
   "outputs": [],
   "source": [
    "df['pe'] = - g * radius_of_earth**2 * rocket_mass / df.radius * conversion_to_joules"
   ]
  },
  {
   "cell_type": "markdown",
   "metadata": {},
   "source": [
    "### Add Potential Energy and Kinetic Energy to get Total Energy\n",
    "\n",
    "Make `te` a new column in the Panda data frame."
   ]
  },
  {
   "cell_type": "code",
   "execution_count": 12,
   "metadata": {},
   "outputs": [],
   "source": [
    "df['te'] = df.ke + df.pe"
   ]
  },
  {
   "cell_type": "markdown",
   "metadata": {},
   "source": [
    "## Make a New Set of Three Plots\n",
    "\n",
    "Copy-and-paste the code from the section titled \"Making Plots with Pandas.\""
   ]
  },
  {
   "cell_type": "code",
   "execution_count": 13,
   "metadata": {},
   "outputs": [
    {
     "data": {
      "text/plain": [
       "Text(0.5, 0, 'time (minutes)')"
      ]
     },
     "execution_count": 13,
     "metadata": {},
     "output_type": "execute_result"
    },
    {
     "data": {
      "image/png": "[encoded data removed]",
      "text/plain": [
       "<Figure size 864x864 with 3 Axes>"
      ]
     },
     "metadata": {
      "needs_background": "light"
     },
     "output_type": "display_data"
    }
   ],
   "source": [
    "# Satellite Kinetic and Potential Energy\n",
    "\n",
    "fig, axs = plt.subplots(3, figsize=(12, 12), sharex=True)\n",
    "fig.suptitle('Satellite Kinetic and Potential Energy')\n",
    "\n",
    "axs[0].set_ylabel('kinetic energy (J)')\n",
    "axs[0].plot(df.time, df.ke)\n",
    "\n",
    "axs[1].set_ylabel('potential energy (J)')\n",
    "axs[1].plot(df.time, df.pe)\n",
    "\n",
    "axs[2].set_ylabel('total energy (J)')\n",
    "axs[2].plot(df.time, df.te)\n",
    "\n",
    "# On the third of the three plots only, label the horizontal axis\n",
    "axs[2].set_xlabel('time (minutes)')"
   ]
  },
  {
   "cell_type": "markdown",
   "metadata": {},
   "source": [
    "## Conclusion\n",
    "\n",
    "We have gotten to where we planned in the [syllabus](http://physics.stmarys-ca.edu/faculty/brianhill/courses/Jan033/20J/index.html). I hope you have enjoyed the richness that is possible using computational methods.\n",
    "\n",
    "The instruction in this course has moved extremely fast, both because I always try to give students their money's worth and because Jan Term moves at 4 times the pace of a normal semester. It's ok if it hasn't all gelled.\n",
    "\n",
    "By continued study of all of the notebooks we have done &mdash; all of which are posted on the [loops and orbits repo](https://github.com/observatree/loops-and-orbits) &mdash; I'm confident you can cement in the material.\n",
    "\n",
    "Once you get it cemented in, you will know as much as the typical science professor about making Python and Jupyter do your bidding. Saint Mary's faculty who specialize in computational methods, like Prof. Aaron Lee, Prof. Jessica Coyle, and Prof. Andr&aacute;s Margitay-Becht to name a few, can help you learn much more. Ask around in your department. Show the ones that are interested what you have learned. Doors will open and new ideas will flow.\n",
    "\n",
    "Finally, I very much look forward to helping you apply the methods you have seen in these three weeks to the projects you choose in the final week of this course. My door is open most of the time, and you can make appointments for help."
   ]
  }
 ],
 "metadata": {
  "kernelspec": {
   "display_name": "Python 3",
   "language": "python",
   "name": "python3"
  },
  "language_info": {
   "codemirror_mode": {
    "name": "ipython",
    "version": 3
   },
   "file_extension": ".py",
   "mimetype": "text/x-python",
   "name": "python",
   "nbconvert_exporter": "python",
   "pygments_lexer": "ipython3",
   "version": "3.7.4"
  }
 },
 "nbformat": 4,
 "nbformat_minor": 2
}
