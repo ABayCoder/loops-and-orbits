{
 "cells": [
  {
   "cell_type": "markdown",
   "metadata": {},
   "source": [
    "# Loops & Orbits &mdash; Week 3 &mdash; Day 2\n",
    "\n",
    "## Solow-Swan Model of Economic Growth\n",
    "\n",
    "For the first couple of days of this week, we are continuing our change-up from mechanics problems to show \n",
    "what huge applicability the methods you have been learning in this course have to other problems. Yesterday we did battery-charging. Today we are doing economics.\n",
    "\n",
    "### *Notebook by Prof. Andr&aacute;s Margitay-Becht*\n",
    "\n",
    "Prof. Margitay-Becht presented the Solow-Swan economic model. Let's review the terms and units he presented.\n",
    "\n",
    "### Terms\n",
    "\n",
    "An economy has a certain amount of:\n",
    "\n",
    "* GDP, Y &mdash; which in an advanced economy is a function of how much capital is in operation\n",
    "* capital, K &mdash; you can remember what that stands for because Karl Marx spelled *Das Kapital* with a K &mdash; this is the amount of machinery for production &mdash; such as silicon wafer fabrication lines, lithium-ion battery factories or cranes to build buildings\n",
    "* investment in additional capital, I &mdash; known as savings\n",
    "* depreciation of capital, D, &mdash; depreciation is due to aging of the capital stock\n",
    "* time, T &mdash; capital T in this notebook is the same as the lower-case t we have been using in our physics models &mdash; economists like capital letters for their variables\n",
    "\n",
    "(GDP stands for Gross Domestic Product and is the rate of production of goods and services.)\n",
    "\n",
    "### Units\n",
    "\n",
    "If we were applying this to something like the State of California, to make the ideas more concrete you can imagine that the units are:\n",
    "\n",
    "* Y, millions of USD / year\n",
    "* K, millions of USD\n",
    "* I, millions of USD / year\n",
    "* D, millions of USD / year\n",
    "* T, years\n",
    "\n",
    "(USD is the currency code for United States Dollars. Example currency codes you might run into in economics texts are CAD for Canadian dollar, EUR for Euro, JPY for Japanese Yen, or RMB for Chinese Renminbi.)\n",
    "\n",
    "Whatever units you are using, K is an amount, and Y, I, and D are amounts per time.\n",
    "\n",
    "### Visualizations\n",
    "\n",
    "#### 1. Dependency on K\n",
    "\n",
    "We want to visualize how Y, I, and D depend on K in this model. *The graphs in that visualization will not depend on time.* They will depend on K.\n",
    "\n",
    "#### 2. Dependency on T\n",
    "\n",
    "We want to start an economy out at a certain size and be able to see (for example over the next 100 years), how that economy will grow. The most important measure of growth is Y, but we might want to visualize the annual percentage change in Y, or we might want to visualize how much capital, K, the economy has.\n",
    "\n",
    "**In the next cell just execute the imports.** There is nothing in this cell for you to work on."
   ]
  },
  {
   "cell_type": "code",
   "execution_count": null,
   "metadata": {},
   "outputs": [],
   "source": [
    "# Use the numpy library for dealing with arrays of floats:\n",
    "import numpy as np\n",
    "\n",
    "# The following import statement makes the plotting library available to us. There is also a mysterious\n",
    "# statement to work around a known Jupyter bug: https://github.com/jupyter/notebook/issues/3670\n",
    "%matplotlib inline\n",
    "import matplotlib.pyplot as plt\n",
    "\n",
    "# Use unit testing framework to test each economic function:\n",
    "import unittest"
   ]
  },
  {
   "cell_type": "markdown",
   "metadata": {},
   "source": [
    "## Constants For the Model\n",
    "\n",
    "The following constants go into the model equations.\n",
    "\n",
    "**Just execute the assignments.** There is nothing in this cell for you to work on except to **notice what constants are available to be used in your model equations.**"
   ]
  },
  {
   "cell_type": "code",
   "execution_count": null,
   "metadata": {},
   "outputs": [],
   "source": [
    "# Define the starting size of the economy\n",
    "capital = 1000.0 # so this economy starts with 1 billion in capital if the units are millions of USD\n",
    "\n",
    "# Define the factors controlling the rates of change\n",
    "production_rate = 5.0  # lower-case p in the equations on the board\n",
    "depreciation_rate = 0.01 # lower-case delta (nothing to do with delta_t!) in the equations on the board\n",
    "savings_rate = 0.25 # lower-case s in the equations on the board\n",
    "\n",
    "# Define simulation time -- we are going to do 100 steps of 1 year each -- total 100 years\n",
    "simulation_time_steps = 100 \n",
    "delta_T = 1.0 # time step in years"
   ]
  },
  {
   "cell_type": "markdown",
   "metadata": {},
   "source": [
    "## The Model Functions\n",
    "\n",
    "Remind Prof. Margitay-Becht or Prof. Hill to put the model functions on the board if they are not already.\n",
    "\n",
    "This first function involves a square root. Use `np.sqrt()` not the `sqrt()` function from the math library. The reason is the same as the reason we used `np.exp()` in the battery-charging notebook: the numpy versions of the math functions can take an entire ndarray as an argument; the math library versions can only take a single float as an argument.\n",
    "\n",
    "**You need to implement the three model functions.** When the functions are right the unit tests will pass."
   ]
  },
  {
   "cell_type": "code",
   "execution_count": null,
   "metadata": {},
   "outputs": [],
   "source": [
    "# The production function of the economy\n",
    "def production_function(K):\n",
    "    # You! Implement the unimplemented function.\n",
    "    return 0.0\n",
    "\n",
    "# Loss of capital due to depreciation\n",
    "def depreciation(K):\n",
    "    # You! Implement the unimplemented function.\n",
    "    return 0.0\n",
    "\n",
    "# Accumulation of capital due to savings\n",
    "def investment(Y):\n",
    "    # You! Implement the unimplemented function.\n",
    "    return 0.0\n",
    "\n",
    "### Unit tests ###\n",
    "\n",
    "class EconomicFunctionTests(unittest.TestCase):\n",
    "    \n",
    "    def test_production_function_K_of_1(self):\n",
    "        self.assertAlmostEqual(production_function(1.0), production_rate)\n",
    "\n",
    "    def test_production_function_K_of_100(self):\n",
    "        self.assertAlmostEqual(production_function(100.0), 10.0 * production_rate)\n",
    "        \n",
    "    def test_depreciation_K_of_0(self):\n",
    "        self.assertAlmostEqual(depreciation(0.0), 0.0)\n",
    "\n",
    "    def test_depreciation_K_of_99(self):\n",
    "        self.assertAlmostEqual(depreciation(99.0), 99.0 * depreciation_rate)\n",
    "\n",
    "    def test_investment_Y_of_0(self):\n",
    "        self.assertAlmostEqual(investment(0.0), 0.0)\n",
    "\n",
    "    def test_investment_Y_of_99(self):\n",
    "        self.assertAlmostEqual(investment(99.0), 99.0 * savings_rate)\n",
    "\n",
    "\n",
    "testSuite = unittest.TestLoader().loadTestsFromName(\"__main__.EconomicFunctionTests\")\n",
    "testRunner = unittest.TextTestRunner(verbosity=2)\n",
    "testRunner.run(testSuite)"
   ]
  },
  {
   "cell_type": "markdown",
   "metadata": {},
   "source": [
    "## Visualization 1 &mdash; Dependency on K"
   ]
  },
  {
   "cell_type": "code",
   "execution_count": null,
   "metadata": {},
   "outputs": [],
   "source": [
    "# The 1st visualization is a function of K!\n",
    "Ks_to_plot = np.arange(0, 20000, 10)\n",
    "Ys_to_plot = production_function(Ks_to_plot)\n",
    "\n",
    "# You! Figure out the right Is_to_plot and Ds_to_plot\n",
    "Is_to_plot = 0\n",
    "Ds_to_plot = 0\n",
    "\n",
    "plt.plot(Ks_to_plot, Ys_to_plot)\n",
    "plt.plot(Ks_to_plot, Is_to_plot)\n",
    "plt.plot(Ks_to_plot, Ds_to_plot)\n",
    "\n",
    "plt.xlabel(\"Capital (K)\")\n",
    "plt.ylabel(\"Y, I, D\")\n",
    "plt.legend((\"Y, GDP\", \"I, Investment\", \"D, Depreciation\"))\n",
    "plt.grid()\n",
    "plt.show()"
   ]
  },
  {
   "cell_type": "markdown",
   "metadata": {},
   "source": [
    "## Execute the Model\n",
    "\n",
    "**Various pieces to implement are marked `# You!`**"
   ]
  },
  {
   "cell_type": "code",
   "execution_count": null,
   "metadata": {},
   "outputs": [],
   "source": [
    "# Time trajectory of growth\n",
    "\n",
    "# Use the np functions to pre-allocate all of our variables\n",
    "Ys = np.zeros((simulation_time_steps + 1,))\n",
    "Ts = np.zeros((simulation_time_steps + 1,))\n",
    "Ks = np.zeros((simulation_time_steps + 1,))\n",
    "growths = np.zeros((simulation_time_steps + 1,))\n",
    "\n",
    "# Set the initial K and Y \n",
    "Ks[0] = capital\n",
    "Ys[0] = production_function(capital)\n",
    "\n",
    "# The for loop that does the main work\n",
    "for i in range(1, simulation_time_steps + 1):\n",
    "    before_K = Ks[i - 1]\n",
    "    before_Y = Ys[i - 1]\n",
    "    before_T = Ts[i - 1]\n",
    "    \n",
    "    after_K = 0.0 # You! Put in the real formula for after_K\n",
    "    after_Y = production_function(after_K)\n",
    "    growth = 0.0 # You! Put in the real formula for growth\n",
    "    after_T = 0.0 # You! Put in the real formula for after_T\n",
    "    \n",
    "    # Put our calculations into the array and continue the for loop\n",
    "    Ks[i] = after_K\n",
    "    Ys[i] = after_Y\n",
    "    growths[i] = growth\n",
    "    Ts[i] = after_T\n"
   ]
  },
  {
   "cell_type": "markdown",
   "metadata": {},
   "source": [
    "## Visualization 2a &mdash; Dependency of Y (GDP) on T\n",
    "\n",
    "**If everthing above is right, this should produce a plot of increasing GDP.**"
   ]
  },
  {
   "cell_type": "code",
   "execution_count": null,
   "metadata": {},
   "outputs": [],
   "source": [
    "# Plot GDP by time\n",
    "plt.plot(Ts, Ys)\n",
    "plt.xlabel(\"T (years)\")\n",
    "plt.ylabel(\"Y (Millions of USD/year)\")\n",
    "plt.grid()\n",
    "plt.show()"
   ]
  },
  {
   "cell_type": "markdown",
   "metadata": {},
   "source": [
    "## Visualization 2b &mdash; Dependency of Growth of Y on T\n",
    "\n",
    "**A visualization for you to make.**"
   ]
  },
  {
   "cell_type": "code",
   "execution_count": null,
   "metadata": {},
   "outputs": [],
   "source": [
    "# Plot growth rate by time\n",
    "# The 0th entry in the growths array doesn't make sense\n",
    "# because there wasn't a prior Y to calculate growth from.\n",
    "# So we delete those before plotting growth.\n",
    "Ts_deleted0 = np.delete(Ts, 0)\n",
    "growths_deleted0 = np.delete(growths, 0)\n",
    "\n",
    "# You! Plot growths_deleted0 as a function of Ts_deleted0\n",
    "# You! Convert growths_deleted0 into a percentage before you plot it\n",
    "# This is much like Visualization 2a -- use that plot's code as a template and adapt it"
   ]
  },
  {
   "cell_type": "markdown",
   "metadata": {},
   "source": [
    "## Conclusion\n",
    "\n",
    "Ben and Brian will be running around helping people.\n",
    "\n",
    "Prof. Margitay-Becht will have the final checkout question for each table about interpreting the model.\n",
    "\n",
    "**If you are interested in finance and economics for your final project, you should ask him about specific ways for making this model more realistic.**"
   ]
  }
 ],
 "metadata": {
  "kernelspec": {
   "display_name": "Python 3",
   "language": "python",
   "name": "python3"
  },
  "language_info": {
   "codemirror_mode": {
    "name": "ipython",
    "version": 3
   },
   "file_extension": ".py",
   "mimetype": "text/x-python",
   "name": "python",
   "nbconvert_exporter": "python",
   "pygments_lexer": "ipython3",
   "version": "3.7.4"
  }
 },
 "nbformat": 4,
 "nbformat_minor": 2
}
