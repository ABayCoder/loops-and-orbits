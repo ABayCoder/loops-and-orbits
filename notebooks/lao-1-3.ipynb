{
 "cells": [
  {
   "cell_type": "markdown",
   "metadata": {},
   "source": [
    "# Loops & Orbits &mdash; Week 1 &mdash; Day 2 &mdash; Jupyter Notebook"
   ]
  },
  {
   "cell_type": "markdown",
   "metadata": {},
   "source": [
    "## Python &mdash; Comparisons and Control Flow\n",
    "\n",
    "We left off last time having introduced comparison operators. Here they are again.\n",
    "\n",
    "### Comparisons\n",
    "\n",
    "The most common comparisons are:\n",
    "\n",
    "* < (read less than)\n",
    "* \\> (read greater than)\n",
    "* == (read equal to, but do not confuse this with assignment!)\n",
    "* \\>= (read greater than or equal to)\n",
    "* <= (read less than or equal to)\n",
    "* != (read not equal to)\n",
    "\n",
    "Comparison operators evaluate to Booleans (either True or False). Predict what the following statement will evaluate to and then hit Shift-Enter to execute it:"
   ]
  },
  {
   "cell_type": "code",
   "execution_count": null,
   "metadata": {},
   "outputs": [],
   "source": [
    "5 != 3"
   ]
  },
  {
   "cell_type": "markdown",
   "metadata": {},
   "source": [
    "### Control Flow\n",
    "\n",
    "Last time we had a very simple while statement. Here is your second example. It will\n",
    "start to seem like it has something to do with the physics and math we have been learning.\n",
    "\n",
    "I have commented the following code. In Python, the hash sign marks the beginning of comment\n",
    "(whereas in Markdown a single hash sign is a title &mdash; a level 1 heading). The comments\n",
    "just help explain the code."
   ]
  },
  {
   "cell_type": "code",
   "execution_count": null,
   "metadata": {},
   "outputs": [],
   "source": [
    "x = 27    # Messi started his run with the ball at the 27m line\n",
    "   \n",
    "v = 6     # Let's have Messi run the ball down field at a constant 6 m/s\n",
    "\n",
    "t = 3738  # The game clock reads 62:18 at the beginning of the run\n",
    "\n",
    "dt = 1    # Each clock tick will be 1s\n",
    "\n",
    "while t < 3748:\n",
    "x == x + v * dt    # New x is old x plus velocity v times elapsed time dt\n",
    "t = t + dt         # Increment time by dt\n",
    "    \n",
    "t, x      # The comma combines two results to be sent back from the kernel to the notebook"
   ]
  },
  {
   "cell_type": "markdown",
   "metadata": {},
   "source": [
    "**There are deliberately two mistakes in the above code.**\n",
    "\n",
    "One problem is that the statements in the while loop needs to be indented by a tab (tab in Jupyter does a 4-space indent).\n",
    "\n",
    "*What's the other mistake? Why didn't increasing x by 6 for each of the 10 times through the while loop end up with x of 87?*\n",
    "\n",
    "*Fix the mistakes before going on.*"
   ]
  },
  {
   "cell_type": "markdown",
   "metadata": {},
   "source": [
    "### Syntax and White Space\n",
    "\n",
    "Everything in the code above is important. The : is important. As you have seen, the indentation is important. Computers don't do what you mean. They do exactly what they are programmed to understand and that is all. You have to be spot on. The more you program, the more you get good at being spot on.\n",
    "\n",
    "Do the following:\n",
    "\n",
    "* Always put a single space around each side of your = (assignment) signs.\n",
    "* Always put a single space around each side of your comparison operators (<, <=, ==, etc.).\n",
    "* Always put a single space around each side of your addition, subtraction, multiplication, and division operators.\n",
    "* Find good programmers to learn from (that's actually not easy), and copy them as closely as possible.\n",
    "\n",
    "You will be repaid in:\n",
    "\n",
    "* Less time wasted looking for silly mistakes.\n",
    "* More easily understanding other programmers.\n",
    "* Other programmers more easily understanding you.\n",
    "* Good jobs in organizations that use software (that's getting to be most organizations).\n",
    "* A growing esthetic sense instead of a feeling of being mired in slop.\n",
    "* After a year or so of just learning to do the mechanics of coding well you will start to have interesting opinions on how to write code.\n",
    "\n",
    "Using the above stylistic rules, clean up the following sloppy code. Before executing the cleaned up code, predict, will this code produce, 14 or 22 (or something else)?"
   ]
  },
  {
   "cell_type": "code",
   "execution_count": null,
   "metadata": {},
   "outputs": [],
   "source": [
    "z=6+15/3\n",
    "\n",
    "if z>9:\n",
    "z=2    *    z\n",
    "\n",
    "z"
   ]
  },
  {
   "cell_type": "markdown",
   "metadata": {},
   "source": [
    "I must say, the fact that the actual answer has a decimal point still catches me off guard. This is because I still expect (from C and earlier versions of Python) that 15/3 will give 5 not 5.0. Once 15/3 has been calculated and given the result 5.0 rather than 5, then all the evaluations involving this result become floating point as well."
   ]
  },
  {
   "cell_type": "markdown",
   "metadata": {},
   "source": [
    "## Python &mdash; Lists\n",
    "\n",
    "These are lists:\n",
    "\n",
    "an_empty_list = []\n",
    "\n",
    "some_integers = [1, 2, 3]\n",
    "\n",
    "some_floats = [1.0, 2.00, 3.000, 4.0000]\n",
    "\n",
    "some_strings = [\"one\", \"two\", \"three\", \"four\", \"five\"]\n",
    "\n",
    "some_more_strings = ['four', 'five', 'six', 'seven', 'eight']\n",
    "\n",
    "some_booleans = [True, False]\n",
    "\n",
    "Copy-and-paste each of the above examples into the box below. You might be surprised to see some slight differences between what was sent to the interpreter and what comes back."
   ]
  },
  {
   "cell_type": "code",
   "execution_count": null,
   "metadata": {},
   "outputs": [],
   "source": [
    "some_integers = [1, 2, 3]\n",
    "some_integers"
   ]
  },
  {
   "cell_type": "markdown",
   "metadata": {},
   "source": [
    "### Accessing Elements of Lists\n",
    "\n",
    "Assuming you followed the directions above, the interpreter now knows about all those lists.\n",
    "\n",
    "We can access specific elements in the lists. Here is how you get the first element in each list:\n",
    "\n",
    "some_integers[0]\n",
    "\n",
    "some_floats[0]\n",
    "\n",
    "some_strings[0]\n",
    "\n",
    "some_more_strings[0]\n",
    "\n",
    "some_booleans[0]\n",
    "\n",
    "Here is how you get the last element in each list:\n",
    "\n",
    "some_integers[-1]\n",
    "\n",
    "some_floats[-1]\n",
    "\n",
    "some_strings[-1]\n",
    "\n",
    "some_more_strings[-1]\n",
    "\n",
    "some_booleans[-1]"
   ]
  },
  {
   "cell_type": "code",
   "execution_count": null,
   "metadata": {},
   "outputs": [],
   "source": [
    "some_integers[-1]"
   ]
  },
  {
   "cell_type": "markdown",
   "metadata": {},
   "source": [
    "### Appending to Lists\n",
    "\n",
    "You may need to add to a list after it has been made."
   ]
  },
  {
   "cell_type": "code",
   "execution_count": null,
   "metadata": {},
   "outputs": [],
   "source": [
    "some_integers.append(4)\n",
    "some_integers"
   ]
  },
  {
   "cell_type": "markdown",
   "metadata": {},
   "source": [
    "The items in lists don't have to be unique. You can append the same thing over and over:"
   ]
  },
  {
   "cell_type": "code",
   "execution_count": null,
   "metadata": {},
   "outputs": [],
   "source": [
    "some_integers.append(5)\n",
    "some_integers.append(5)\n",
    "some_integers.append(5)\n",
    "some_integers.append(5)\n",
    "some_integers"
   ]
  },
  {
   "cell_type": "markdown",
   "metadata": {},
   "source": [
    "### Python Documentation\n",
    "\n",
    "Python is an open source project. That's kind of cool, actually, that the most popular programming language isn't owned by anyone.\n",
    "\n",
    "The documentation for Python is on-line. It's a little early for you to be struggling with the actual Python documentation. After you have spent more time learning from me or other tutorials, you'll start wanting to go straight to the official documentation. For the operations on lists, here is the documentation:\n",
    "\n",
    "[Python 3.8.1 documentation on lists](https://docs.python.org/3/tutorial/datastructures.html#more-on-lists)\n",
    "\n",
    "A super-handy function that isn't listed there is len. It returns the number of items in a list. It's not list.len() though, which is what I'd expect, and that's why it isn't listed as one of the functions. It is len(list). Examples:\n",
    "\n",
    "len(some_integers)\n",
    "\n",
    "len(some_floats)\n",
    "\n",
    "len(some_strings)"
   ]
  },
  {
   "cell_type": "code",
   "execution_count": null,
   "metadata": {},
   "outputs": [],
   "source": [
    "len(some_integers)"
   ]
  },
  {
   "cell_type": "markdown",
   "metadata": {},
   "source": [
    "## A More Realistic Simulation of Lionel Messi's Run\n",
    "\n",
    "Now we have enough Python to do the same calculations as you did by hand in worksheet 2."
   ]
  },
  {
   "cell_type": "code",
   "execution_count": null,
   "metadata": {},
   "outputs": [],
   "source": [
    "x = 27           # initial position of ball\n",
    "t_intial = 3738  # initial time on clock\n",
    "t_final = 3748   # final time (when goal was made)\n",
    "dt = 1           # time step size\n",
    "velocities = [3, 6, 6, 6, 6, 9, 21, 6, 6, 9]  # the 10 velocities from worksheet 1\n",
    "len(velocities)"
   ]
  },
  {
   "cell_type": "code",
   "execution_count": null,
   "metadata": {},
   "outputs": [],
   "source": [
    "t = t_initial\n",
    "while t < t_final:\n",
    "    x = x + velocities[t] * dt\n",
    "    t = t + dt\n",
    "    \n",
    "t, x"
   ]
  },
  {
   "cell_type": "markdown",
   "metadata": {},
   "source": [
    "**Once again, I deliberately put two mistakes in the above code.**\n",
    "\n",
    "One is just a misspelling\n",
    "\n",
    "*What's the other mistake? It is tricky, but it is important that you find it, fix it, and understand what was wrong.*"
   ]
  },
  {
   "cell_type": "markdown",
   "metadata": {},
   "source": [
    "## Capturing all the Simulation &mdash; Not Just the Final Values\n",
    "\n",
    "We can make x and t lists! Then we can append the new x and the new t to them each time the while loop does executates the statements."
   ]
  },
  {
   "cell_type": "code",
   "execution_count": 5,
   "metadata": {},
   "outputs": [
    {
     "data": {
      "text/plain": [
       "10"
      ]
     },
     "execution_count": 5,
     "metadata": {},
     "output_type": "execute_result"
    }
   ],
   "source": [
    "positions = [27] # positions list just starts with the initial position\n",
    "times = [3738]   # times list just starts with the initial time\n",
    "dt = 1           # time step size\n",
    "velocities = [3, 6, 6, 6, 6, 9, 21, 6, 6, 9]  # the 10 velocities from worksheet 1\n",
    "number_of_steps = len(velocities)\n",
    "number_of_steps"
   ]
  },
  {
   "cell_type": "code",
   "execution_count": 7,
   "metadata": {},
   "outputs": [
    {
     "ename": "NameError",
     "evalue": "name 'delta_t' is not defined",
     "output_type": "error",
     "traceback": [
      "\u001b[0;31m---------------------------------------------------------------------------\u001b[0m",
      "\u001b[0;31mNameError\u001b[0m                                 Traceback (most recent call last)",
      "\u001b[0;32m<ipython-input-7-d8f564118837>\u001b[0m in \u001b[0;36m<module>\u001b[0;34m\u001b[0m\n\u001b[1;32m      5\u001b[0m     \u001b[0mposition_before\u001b[0m \u001b[0;34m=\u001b[0m \u001b[0mpositions\u001b[0m\u001b[0;34m[\u001b[0m\u001b[0;34m-\u001b[0m\u001b[0;36m1\u001b[0m\u001b[0;34m]\u001b[0m \u001b[0;31m# get the last position\u001b[0m\u001b[0;34m\u001b[0m\u001b[0;34m\u001b[0m\u001b[0m\n\u001b[1;32m      6\u001b[0m     \u001b[0mtime_before\u001b[0m \u001b[0;34m=\u001b[0m \u001b[0mtimes\u001b[0m\u001b[0;34m[\u001b[0m\u001b[0;34m-\u001b[0m\u001b[0;36m1\u001b[0m\u001b[0;34m]\u001b[0m \u001b[0;31m# get the last time\u001b[0m\u001b[0;34m\u001b[0m\u001b[0;34m\u001b[0m\u001b[0m\n\u001b[0;32m----> 7\u001b[0;31m     \u001b[0mposition_after\u001b[0m \u001b[0;34m=\u001b[0m \u001b[0mposition_before\u001b[0m \u001b[0;34m+\u001b[0m \u001b[0mdelta_t\u001b[0m \u001b[0;34m*\u001b[0m \u001b[0mv\u001b[0m \u001b[0;31m# calculation the new position\u001b[0m\u001b[0;34m\u001b[0m\u001b[0;34m\u001b[0m\u001b[0m\n\u001b[0m\u001b[1;32m      8\u001b[0m     \u001b[0mtime_after\u001b[0m \u001b[0;34m=\u001b[0m \u001b[0mtime_before\u001b[0m \u001b[0;34m+\u001b[0m \u001b[0mdt\u001b[0m \u001b[0;31m# calculate the new time\u001b[0m\u001b[0;34m\u001b[0m\u001b[0;34m\u001b[0m\u001b[0m\n\u001b[1;32m      9\u001b[0m     \u001b[0mpositions\u001b[0m\u001b[0;34m.\u001b[0m\u001b[0mappend\u001b[0m\u001b[0;34m(\u001b[0m\u001b[0mposition_after\u001b[0m\u001b[0;34m)\u001b[0m \u001b[0;31m# add the new position to the list\u001b[0m\u001b[0;34m\u001b[0m\u001b[0;34m\u001b[0m\u001b[0m\n",
      "\u001b[0;31mNameError\u001b[0m: name 'delta_t' is not defined"
     ]
    }
   ],
   "source": [
    "i = 0        # we need a counter that will go from 0 to 9 (number_of_steps - 1) as we access all the velocities\n",
    "\n",
    "while i < number_of_steps:\n",
    "    v = velocities[i]\n",
    "    position_before = positions[-1] # get the last position\n",
    "    time_before = times[-1] # get the last time\n",
    "    position_after = position_before + delta_t * v # calculation the new position\n",
    "    time_after = time_before + dt # calculate the new time\n",
    "    positions.append(position_after) # add the new position to the list\n",
    "    times.append[time_after] # add the new time to the list\n",
    "    i = i + 1 # I actually forgot this when I wrote the code, and I couldn't understand why the kernel wouldn't finish\n",
    "    \n",
    "times, positions"
   ]
  },
  {
   "cell_type": "markdown",
   "metadata": {},
   "source": [
    "**Yes, there are once again two mistakes in the above code.**\n",
    "\n",
    "One is just a mis-named variable.\n",
    "\n",
    "*What's the other mistake? Hint: I used brackets where I meant parenthesis somewhere.*"
   ]
  },
  {
   "cell_type": "code",
   "execution_count": null,
   "metadata": {},
   "outputs": [],
   "source": []
  }
 ],
 "metadata": {
  "kernelspec": {
   "display_name": "Python 3",
   "language": "python",
   "name": "python3"
  },
  "language_info": {
   "codemirror_mode": {
    "name": "ipython",
    "version": 3
   },
   "file_extension": ".py",
   "mimetype": "text/x-python",
   "name": "python",
   "nbconvert_exporter": "python",
   "pygments_lexer": "ipython3",
   "version": "3.7.3"
  }
 },
 "nbformat": 4,
 "nbformat_minor": 2
}
