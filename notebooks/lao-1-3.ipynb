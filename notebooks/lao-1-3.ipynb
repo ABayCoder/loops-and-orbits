{
 "cells": [
  {
   "cell_type": "markdown",
   "metadata": {},
   "source": [
    "# Loops & Orbits &mdash; Week 1 &mdash; Day 3 &mdash; Jupyter Notebook"
   ]
  },
  {
   "cell_type": "markdown",
   "metadata": {},
   "source": [
    "## Putting More Physics In &mdash; Constant Acceleration Drag Racer\n",
    "\n",
    "### Initial Conditions\n",
    "\n",
    "In the code cell below are all the initial conditions needed to set up the drag racing problem.\n",
    "\n",
    "### Velocities\n",
    "\n",
    "The important new physics is that unlike in the soccer problem, the velocities are no longer a pre-determined list. The velocities are going to come from the accelerations.\n",
    "\n",
    "### Time Increment &mdash; delta_t\n",
    "\n",
    "Up until now we have always done 1-second time increments.\n",
    "\n",
    "To make Newton's laws more accurate, we have to make the time increments smaller. *Newton's laws become exact only in the limit that the time increment goes to zero.* How small we have to make the time increments depends on:\n",
    "\n",
    "* the specific problem &mdash; problems with rapidly-changing situations require smaller time increment\n",
    "* how exactly you want the problem solved &mdash; you can push the computer to do more exact work just by making delta_t smaller\n",
    "\n",
    "In the initializations below, let's try 0.5-second increments."
   ]
  },
  {
   "cell_type": "code",
   "execution_count": null,
   "metadata": {},
   "outputs": [],
   "source": [
    "velocities = [0.0]   # velocities in meter/second -- the drag racer starts with no velocity\n",
    "positions = [0.0]    # positions in meters -- initialized with starting position at start line\n",
    "times = [0.0]        # times in seconds -- initialized with stopwatch at 0.0 when drag race starts\n",
    "\n",
    "# Here is where the time increment is controlled:\n",
    "delta_t = 0.5        # time increment in seconds\n",
    "\n",
    "# In this simple example, the acceleration is going to be a constant:\n",
    "a = 12               # constant acceleration in meters / second**2\n",
    "\n",
    "finish_line = 402.0  # 1/4-mile drag race track length in meters -- https://en.wikipedia.org/wiki/Drag_racing"
   ]
  },
  {
   "cell_type": "markdown",
   "metadata": {},
   "source": [
    "### The While Loop That Does the Main Work\n",
    "\n",
    "Our new strategy requires that we calculate a new velocity at every time as well as a new position and a new time.\n",
    "\n",
    "**I will put the physics equations you are converting to code up on the board.**\n",
    "\n",
    "Refresh yourself on those equations and code them up where there is !?!?!?!?! below."
   ]
  },
  {
   "cell_type": "code",
   "execution_count": null,
   "metadata": {},
   "outputs": [],
   "source": [
    "# Since a drag race has an obvious end point, instead of stopping after some fixed\n",
    "# number of steps, have the while loop stop when the finish line has been crossed.\n",
    "while positions[-1] < finish_line:\n",
    "    #\n",
    "    # get all the before values -- they are the ones at the end of the list\n",
    "    #\n",
    "    before_velocity = velocities[-1]\n",
    "    before_position = positions[-1]\n",
    "    before_time = times[-1]\n",
    "    #\n",
    "    # calculate the after values -- the next three lines are deliberately incomplete\n",
    "    #\n",
    "    after_velocity = !?!?!?!?!\n",
    "    after_position = !?!?!?!?!\n",
    "    after_time = !?!?!?!?!\n",
    "    #\n",
    "    # append all the after values to their lists\n",
    "    #\n",
    "    velocities.append(after_velocity)\n",
    "    positions.append(after_position)\n",
    "    times.append(after_time)\n",
    "    \n",
    "times, positions"
   ]
  },
  {
   "cell_type": "markdown",
   "metadata": {},
   "source": [
    "## Checking Your Code\n",
    "\n",
    "When you did this by hand, the final time was 8.5 seconds and the final position was 408 meters.\n",
    "\n",
    "If your code is right, that should be what is shown as the final time and final position in the lists above.\n",
    "\n",
    "Keep working on your code until it is exactly right."
   ]
  },
  {
   "cell_type": "markdown",
   "metadata": {},
   "source": [
    "## Wouldn't it be Nice to Graph Your Results?\n",
    "\n",
    "You did it by hand in the first part of the class. Let's make the computer do it.\n",
    "\n",
    "*Just read the comments in the code below. You don't need to understand the graphing package yet.*\n",
    "\n",
    "The comments give you an idea what is happening."
   ]
  },
  {
   "cell_type": "code",
   "execution_count": null,
   "metadata": {},
   "outputs": [],
   "source": [
    "# By default, Python doesn't have graphing/plotting. The import statement adds the graphing/plotting capability.\n",
    "import matplotlib.pyplot as plt\n",
    "\n",
    "# First we need to draw a drag strip. The next line makes a new figure and makes it wider than the normal width.\n",
    "plt.figure(figsize=(12, 4))\n",
    "\n",
    "# Now draw a horizontal line with vertical position of 0.0. That's our drag race strip.\n",
    "plt.hlines(0.0, 0.0, finish_line)  # the horizontal line stretches from 0.0 to 402.0\n",
    "\n",
    "# In the binder environment, the plot won't show unless you include this.\n",
    "plt.show()\n",
    "\n",
    "\"The Drag Race Strip\""
   ]
  },
  {
   "cell_type": "markdown",
   "metadata": {},
   "source": [
    "## We Have the Drag Race Strip &mdash; Add the Positions\n",
    "\n",
    "Nothing for you to do here, except read the comments explaining the plotting code and then execute it."
   ]
  },
  {
   "cell_type": "code",
   "execution_count": null,
   "metadata": {},
   "outputs": [],
   "source": [
    "# The interpreter has already imported matplotlib.pyplot. We don't have to do that again.\n",
    "\n",
    "# We do have to start a fresh figure and size it and put the drag race strip into it.\n",
    "plt.figure(figsize=(12, 4))\n",
    "plt.hlines(0.0, 0.0, finish_line)\n",
    "\n",
    "# Our drag racer is never going to leave the ground. We need to make a bunch of y_positions that are always zero.\n",
    "y_positions = []\n",
    "for x in positions:\n",
    "    y_positions.append(0.0)\n",
    "\n",
    "# Now graph the positions of the drag racer:\n",
    "plt.scatter(positions, y_positions)\n",
    "\n",
    "plt.show()\n",
    "\n",
    "\"1/4-mile in Under 8.5 Seconds\""
   ]
  },
  {
   "cell_type": "markdown",
   "metadata": {},
   "source": [
    "## Dress Up the Plot with Annotations and the Final Velocity\n",
    "\n",
    "Also nothing for you to do here, except read comments explaining the plotting code additions and then execute."
   ]
  },
  {
   "cell_type": "code",
   "execution_count": null,
   "metadata": {},
   "outputs": [],
   "source": [
    "# Repeat the stuff that makes a new plot and puts the positions on it.\n",
    "plt.figure(figsize=(12, 4))\n",
    "plt.hlines(0.0, 0.0, finish_line)\n",
    "plt.scatter(positions, y_positions)\n",
    "\n",
    "# What's new here is some code to add annotations. Just can it.\n",
    "# The first few are two crowded too label. Start with the fourth time.\n",
    "for i in range(4, len(times)):\n",
    "    time = times[i]\n",
    "    annotation = str(time)                       # annotation text will be the time (as a string)\n",
    "    x_position_of_annotation = positions[i] - 5  # center the annotation text left-to-right\n",
    "    y_position_of_annotation = 0.0005            # put some height on the annotation text\n",
    "    plt.annotate(annotation, (x_position_of_annotation, y_position_of_annotation))\n",
    "\n",
    "plt.show()\n",
    "\n",
    "# Heck, let's throw in the final velocity too.\n",
    "final_velocity = velocities[-1]\n",
    "# Convert it to mph for old-school 'mericans.\n",
    "final_velocity_mph = round(2.23694 * final_velocity, 1)\n",
    "# Display the final velocity.\n",
    "\"Final velocity of \" + str(final_velocity) + \" m/s (\" + str(final_velocity_mph) + \" mph)\""
   ]
  },
  {
   "cell_type": "markdown",
   "metadata": {},
   "source": [
    "## Can We Make the Other Graph on the Worksheet?\n",
    "\n",
    "You have seen how graphs are made. There's too much new plotting code for it to all make sense. However, ....\n",
    "\n",
    "Go back to the line of the code that was plot.scatter(positions, y_positions).\n",
    "\n",
    "Do you see what that line is doing?\n",
    "\n",
    "How would you have to change it below to get time on the horizontal axis and position on the vertical axis?\n",
    "\n",
    "Make that change below."
   ]
  },
  {
   "cell_type": "code",
   "execution_count": null,
   "metadata": {},
   "outputs": [],
   "source": [
    "plt.figure(figsize=(6, 12))\n",
    "\n",
    "# The following line needs to be changed. It is a little puzzle to figure out the change\n",
    "# that will put the times on the horizontal axis and the positions on the vertical axis.\n",
    "plt.scatter(positions, y_positions)\n",
    "\n",
    "plt.xlabel(\"Time\")\n",
    "plt.ylabel(\"Position\")\n",
    "\n",
    "plt.show()\n",
    "\n",
    "\"Drag Race - Position vs Time\""
   ]
  },
  {
   "cell_type": "markdown",
   "metadata": {},
   "source": [
    "## Congratulations!\n",
    "\n",
    "Show Ben or me your work!"
   ]
  }
 ],
 "metadata": {
  "kernelspec": {
   "display_name": "Python 3",
   "language": "python",
   "name": "python3"
  },
  "language_info": {
   "codemirror_mode": {
    "name": "ipython",
    "version": 3
   },
   "file_extension": ".py",
   "mimetype": "text/x-python",
   "name": "python",
   "nbconvert_exporter": "python",
   "pygments_lexer": "ipython3",
   "version": "3.7.3"
  }
 },
 "nbformat": 4,
 "nbformat_minor": 2
}
