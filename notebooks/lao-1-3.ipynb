{
 "cells": [
  {
   "cell_type": "markdown",
   "metadata": {},
   "source": [
    "# Loops & Orbits &mdash; Week 1 &mdash; Day 3 &mdash; Jupyter Notebook"
   ]
  },
  {
   "cell_type": "markdown",
   "metadata": {},
   "source": [
    "## Putting More Physics In &mdash; Constant Acceleration"
   ]
  },
  {
   "cell_type": "code",
   "execution_count": 1,
   "metadata": {},
   "outputs": [],
   "source": [
    "positions = [0.0]  # positions in meters initialized with starting position of drag racer\n",
    "times = [0.0]      # times in seconds initialized with starting time\n",
    "delta_t = 0.5      # let's do half-second increments\n",
    "\n",
    "# The velocities are no longer a pre-determined list. They are going to come from the accelerations.\n",
    "# In our first example, the acceleration is going to be a constant\n",
    "\n",
    "a = 12             # acceleration in meters / second**2\n",
    "\n",
    "# We still need an initial velocity\n",
    "\n",
    "velocities = [0.0] # the drag racer starts at rest\n",
    "\n",
    "finish_line = 402  # 1/4 mile drag race track length in meters -- https://en.wikipedia.org/wiki/Drag_racing"
   ]
  },
  {
   "cell_type": "code",
   "execution_count": 3,
   "metadata": {},
   "outputs": [
    {
     "data": {
      "text/plain": [
       "([0.0,\n",
       "  0.5,\n",
       "  1.0,\n",
       "  1.5,\n",
       "  2.0,\n",
       "  2.5,\n",
       "  3.0,\n",
       "  3.5,\n",
       "  4.0,\n",
       "  4.5,\n",
       "  5.0,\n",
       "  5.5,\n",
       "  6.0,\n",
       "  6.5,\n",
       "  7.0,\n",
       "  7.5,\n",
       "  8.0,\n",
       "  8.5],\n",
       " [0.0,\n",
       "  0.0,\n",
       "  3.0,\n",
       "  9.0,\n",
       "  18.0,\n",
       "  30.0,\n",
       "  45.0,\n",
       "  63.0,\n",
       "  84.0,\n",
       "  108.0,\n",
       "  135.0,\n",
       "  165.0,\n",
       "  198.0,\n",
       "  234.0,\n",
       "  273.0,\n",
       "  315.0,\n",
       "  360.0,\n",
       "  408.0])"
      ]
     },
     "execution_count": 3,
     "metadata": {},
     "output_type": "execute_result"
    }
   ],
   "source": [
    "while positions[-1] < finish_line:\n",
    "    before_velocity = velocities[-1]\n",
    "    before_position = positions[-1]\n",
    "    before_time = times[-1]\n",
    "    # We've got all the before values -- need to calculate the after values\n",
    "    after_velocity = before_velocity + a * delta_t\n",
    "    after_position = before_position + before_velocity * delta_t\n",
    "    after_time = before_time + delta_t\n",
    "    # Now append all the after values to their lists\n",
    "    velocities.append(after_velocity)\n",
    "    positions.append(after_position)\n",
    "    times.append(after_time)\n",
    "    \n",
    "times, positions"
   ]
  },
  {
   "cell_type": "markdown",
   "metadata": {},
   "source": [
    "**Once again, I deliberately put two mistakes in the above code.**\n",
    "\n",
    "One is just a misspelling\n",
    "\n",
    "*What's the other mistake? It is tricky, but it is important that you find it, fix it, and understand what was wrong.*"
   ]
  },
  {
   "cell_type": "markdown",
   "metadata": {},
   "source": [
    "## Capturing all the Simulation &mdash; Not Just the Final Values\n",
    "\n",
    "We can make x and t lists! Then we can append the new x and the new t to them each time the while loop does executates the statements."
   ]
  },
  {
   "cell_type": "code",
   "execution_count": 5,
   "metadata": {},
   "outputs": [
    {
     "data": {
      "text/plain": [
       "10"
      ]
     },
     "execution_count": 5,
     "metadata": {},
     "output_type": "execute_result"
    }
   ],
   "source": [
    "positions = [27] # positions list just starts with the initial position\n",
    "times = [3738]   # times list just starts with the initial time\n",
    "dt = 1           # time step size\n",
    "velocities = [3, 6, 6, 6, 6, 9, 21, 6, 6, 9]  # the 10 velocities from worksheet 1\n",
    "number_of_steps = len(velocities)\n",
    "number_of_steps"
   ]
  },
  {
   "cell_type": "code",
   "execution_count": 7,
   "metadata": {},
   "outputs": [
    {
     "ename": "NameError",
     "evalue": "name 'delta_t' is not defined",
     "output_type": "error",
     "traceback": [
      "\u001b[0;31m---------------------------------------------------------------------------\u001b[0m",
      "\u001b[0;31mNameError\u001b[0m                                 Traceback (most recent call last)",
      "\u001b[0;32m<ipython-input-7-d8f564118837>\u001b[0m in \u001b[0;36m<module>\u001b[0;34m\u001b[0m\n\u001b[1;32m      5\u001b[0m     \u001b[0mposition_before\u001b[0m \u001b[0;34m=\u001b[0m \u001b[0mpositions\u001b[0m\u001b[0;34m[\u001b[0m\u001b[0;34m-\u001b[0m\u001b[0;36m1\u001b[0m\u001b[0;34m]\u001b[0m \u001b[0;31m# get the last position\u001b[0m\u001b[0;34m\u001b[0m\u001b[0;34m\u001b[0m\u001b[0m\n\u001b[1;32m      6\u001b[0m     \u001b[0mtime_before\u001b[0m \u001b[0;34m=\u001b[0m \u001b[0mtimes\u001b[0m\u001b[0;34m[\u001b[0m\u001b[0;34m-\u001b[0m\u001b[0;36m1\u001b[0m\u001b[0;34m]\u001b[0m \u001b[0;31m# get the last time\u001b[0m\u001b[0;34m\u001b[0m\u001b[0;34m\u001b[0m\u001b[0m\n\u001b[0;32m----> 7\u001b[0;31m     \u001b[0mposition_after\u001b[0m \u001b[0;34m=\u001b[0m \u001b[0mposition_before\u001b[0m \u001b[0;34m+\u001b[0m \u001b[0mdelta_t\u001b[0m \u001b[0;34m*\u001b[0m \u001b[0mv\u001b[0m \u001b[0;31m# calculation the new position\u001b[0m\u001b[0;34m\u001b[0m\u001b[0;34m\u001b[0m\u001b[0m\n\u001b[0m\u001b[1;32m      8\u001b[0m     \u001b[0mtime_after\u001b[0m \u001b[0;34m=\u001b[0m \u001b[0mtime_before\u001b[0m \u001b[0;34m+\u001b[0m \u001b[0mdt\u001b[0m \u001b[0;31m# calculate the new time\u001b[0m\u001b[0;34m\u001b[0m\u001b[0;34m\u001b[0m\u001b[0m\n\u001b[1;32m      9\u001b[0m     \u001b[0mpositions\u001b[0m\u001b[0;34m.\u001b[0m\u001b[0mappend\u001b[0m\u001b[0;34m(\u001b[0m\u001b[0mposition_after\u001b[0m\u001b[0;34m)\u001b[0m \u001b[0;31m# add the new position to the list\u001b[0m\u001b[0;34m\u001b[0m\u001b[0;34m\u001b[0m\u001b[0m\n",
      "\u001b[0;31mNameError\u001b[0m: name 'delta_t' is not defined"
     ]
    }
   ],
   "source": [
    "i = 0        # we need a counter that will go from 0 to 9 (number_of_steps - 1) as we access all the velocities\n",
    "\n",
    "while i < number_of_steps:\n",
    "    v = velocities[i]\n",
    "    position_before = positions[-1] # get the last position\n",
    "    time_before = times[-1] # get the last time\n",
    "    position_after = position_before + delta_t * v # calculation the new position\n",
    "    time_after = time_before + dt # calculate the new time\n",
    "    positions.append(position_after) # add the new position to the list\n",
    "    times.append[time_after] # add the new time to the list\n",
    "    i = i + 1 # I actually forgot this when I wrote the code, and I couldn't understand why the kernel wouldn't finish\n",
    "    \n",
    "times, positions"
   ]
  },
  {
   "cell_type": "markdown",
   "metadata": {},
   "source": [
    "**Yes, there are once again two mistakes in the above code.**\n",
    "\n",
    "One is just a mis-named variable.\n",
    "\n",
    "*What's the other mistake? Hint: I used brackets where I meant parenthesis somewhere.*"
   ]
  },
  {
   "cell_type": "code",
   "execution_count": null,
   "metadata": {},
   "outputs": [],
   "source": []
  }
 ],
 "metadata": {
  "kernelspec": {
   "display_name": "Python 3",
   "language": "python",
   "name": "python3"
  },
  "language_info": {
   "codemirror_mode": {
    "name": "ipython",
    "version": 3
   },
   "file_extension": ".py",
   "mimetype": "text/x-python",
   "name": "python",
   "nbconvert_exporter": "python",
   "pygments_lexer": "ipython3",
   "version": "3.7.3"
  }
 },
 "nbformat": 4,
 "nbformat_minor": 2
}
