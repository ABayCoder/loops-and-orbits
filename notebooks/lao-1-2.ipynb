{
 "cells": [
  {
   "cell_type": "markdown",
   "metadata": {},
   "source": [
    "# Loops & Orbits &mdash; Week 1 &mdash; Day 2 &mdash; Jupyter Notebook"
   ]
  },
  {
   "cell_type": "markdown",
   "metadata": {},
   "source": [
    "## Python &mdash; Comparisons and Control Flow\n",
    "\n",
    "We left off last time having introduced comparison operators. Here they are again.\n",
    "\n",
    "### Comparisons\n",
    "\n",
    "The most common comparisons are:\n",
    "\n",
    "* < (read less than)\n",
    "* \\> (read greater than)\n",
    "* == (read equal to, but do not confuse this with assignment!)\n",
    "* \\>= (read greater than or equal to)\n",
    "* <= (read less than or equal to)\n",
    "* != (read not equal to)\n",
    "\n",
    "Comparison operators evaluate to Booleans (either True or False). Predict what the following statement will evaluate to and then hit Shift-Enter to execute it:"
   ]
  },
  {
   "cell_type": "code",
   "execution_count": null,
   "metadata": {},
   "outputs": [],
   "source": [
    "5 != 3"
   ]
  },
  {
   "cell_type": "markdown",
   "metadata": {},
   "source": [
    "### Control Flow\n",
    "\n",
    "Last time we had a very simple while statement. Here is your second example. It will\n",
    "start to seem like it has something to do with the physics and math we have been learning.\n",
    "\n",
    "I have commented the following code. In Python, the hash sign marks the beginning of comment\n",
    "(whereas in Markdown a single hash sign is a title &mdash; a level 1 heading). The comments\n",
    "just help explain the code."
   ]
  },
  {
   "cell_type": "code",
   "execution_count": null,
   "metadata": {},
   "outputs": [],
   "source": [
    "x = 27    # Messi started his run with the ball at the 27m line\n",
    "   \n",
    "v = 6     # Let's have Messi run the ball down field at a constant 6 m/s\n",
    "\n",
    "t = 3738  # The game clock reads 62:18 at the beginning of the run\n",
    "\n",
    "dt = 1    # Each clock tick will be 1s\n",
    "\n",
    "while t < 3748:\n",
    "x == x + v * dt    # New x is old x plus velocity v times elapsed time dt\n",
    "t = t + dt         # Increment time by dt\n",
    "    \n",
    "t, x      # The comma combines two results to be sent back from the kernel to the notebook"
   ]
  },
  {
   "cell_type": "markdown",
   "metadata": {},
   "source": [
    "**There are deliberately two mistakes in the above code.**\n",
    "\n",
    "One problem is that the statements in the while loop needs to be indented by a tab (tab in Jupyter does a 4-space indent).\n",
    "\n",
    "*What's the other mistake? Why didn't increasing x by 6 for each of the 10 times through the while loop end up with x of 87?*\n",
    "\n",
    "*Fix the mistakes before going on.*"
   ]
  },
  {
   "cell_type": "markdown",
   "metadata": {},
   "source": [
    "### Syntax and White Space\n",
    "\n",
    "Everything in the code above is important. The : is important. As you have seen, the indentation is important. Computers don't do what you mean. They do exactly what they are programmed to understand and that is all. You have to be spot on. The more you program, the more you get good at being spot on.\n",
    "\n",
    "Do the following:\n",
    "\n",
    "* Always put a single space around each side of your = (assignment) signs.\n",
    "* Always put a single space around each side of your comparison operators (<, <=, ==, etc.).\n",
    "* Always put a single space around each side of your addition, subtraction, multiplication, and division operators.\n",
    "* Find good programmers to learn from (that's actually not easy), and copy them as closely as possible.\n",
    "\n",
    "You will be repaid in:\n",
    "\n",
    "* Less time wasted looking for silly mistakes.\n",
    "* More easily understanding other programmers.\n",
    "* Other programmers more easily understanding you.\n",
    "* Good jobs in organizations that use software (that's getting to be most organizations).\n",
    "* A growing esthetic sense instead of a feeling of being mired in slop.\n",
    "* After a year or so of just learning to do the mechanics of coding well you will start to have interesting opinions on how to write code.\n",
    "\n",
    "Using the above stylistic rules, clean up the following sloppy code. Before executing the cleaned up code, predict, will this code produce, 14 or 22 (or something else)?"
   ]
  },
  {
   "cell_type": "code",
   "execution_count": null,
   "metadata": {},
   "outputs": [],
   "source": [
    "z=6+15/3\n",
    "\n",
    "if z>9:\n",
    "z=2    *    z\n",
    "\n",
    "z"
   ]
  },
  {
   "cell_type": "markdown",
   "metadata": {},
   "source": [
    "I must say, the fact that the actual answer has a decimal point still catches me off guard. This is because I still expect (from C and earlier versions of Python) that 15/3 will give 5 not 5.0. Once 15/3 has been calculated and given the result 5.0 rather than 5, then all the evaluations involving this result become floating point as well."
   ]
  }
 ],
 "metadata": {
  "kernelspec": {
   "display_name": "Python 3",
   "language": "python",
   "name": "python3"
  },
  "language_info": {
   "codemirror_mode": {
    "name": "ipython",
    "version": 3
   },
   "file_extension": ".py",
   "mimetype": "text/x-python",
   "name": "python",
   "nbconvert_exporter": "python",
   "pygments_lexer": "ipython3",
   "version": "3.7.3"
  }
 },
 "nbformat": 4,
 "nbformat_minor": 2
}
